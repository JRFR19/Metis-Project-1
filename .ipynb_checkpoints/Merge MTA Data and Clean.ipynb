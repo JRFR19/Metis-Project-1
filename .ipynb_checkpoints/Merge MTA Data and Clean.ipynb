{
 "cells": [
  {
   "cell_type": "code",
   "execution_count": 2,
   "metadata": {},
   "outputs": [],
   "source": [
    "#Links to raw MTA urls - using month of May for data as will want to promote the last month before Gala starts on June 1st. \n",
    "url1 = 'http://web.mta.info/developers/data/nyct/turnstile/turnstile_190504.txt'\n",
    "url2 = 'http://web.mta.info/developers/data/nyct/turnstile/turnstile_190511.txt'\n",
    "url3 = 'http://web.mta.info/developers/data/nyct/turnstile/turnstile_190518.txt'\n",
    "url4 = 'http://web.mta.info/developers/data/nyct/turnstile/turnstile_190525.txt'"
   ]
  },
  {
   "cell_type": "code",
   "execution_count": 3,
   "metadata": {},
   "outputs": [],
   "source": [
    "df1 = pd.read_csv(url1)\n",
    "df2 = pd.read_csv(url2)\n",
    "df3 = pd.read_csv(url3)\n",
    "df4 = pd.read_csv(url4)"
   ]
  },
  {
   "cell_type": "code",
   "execution_count": 4,
   "metadata": {},
   "outputs": [],
   "source": [
    "df = pd.concat([df1, df2, df3, df4])"
   ]
  },
  {
   "cell_type": "code",
   "execution_count": 5,
   "metadata": {},
   "outputs": [],
   "source": [
    "# Strip all columns in case of extra spaces, including the obvious \"Exit\" column.\n",
    "df.columns = df.columns.str.strip()"
   ]
  },
  {
   "cell_type": "code",
   "execution_count": 6,
   "metadata": {},
   "outputs": [],
   "source": [
    "# Get only regular/ working units. The irregulars could be contributing to outliers\n",
    "df = df[df['DESC'] == 'REGULAR']"
   ]
  },
  {
   "cell_type": "code",
   "execution_count": 7,
   "metadata": {},
   "outputs": [],
   "source": [
    "df['ENTRIES_diff'] = df.ENTRIES.diff()\n",
    "df['EXITS_diff'] = df.EXITS.diff()"
   ]
  },
  {
   "cell_type": "code",
   "execution_count": 8,
   "metadata": {},
   "outputs": [],
   "source": [
    "# Replace outliers: delete under zero, replace > 20,000 with mean\n",
    "# GROUPED BY STATION-- so means are coming by station\n",
    "df['ENTRIES_diff'] = df.groupby(['STATION']).ENTRIES_diff.transform(\n",
    "    lambda x: np.where((x<0)|(x>20000),x.mask((x<0)|(x>20000)).mean(),x))\n",
    "df['EXITS_diff'] = df.groupby(['STATION']).EXITS_diff.transform(\n",
    "    lambda x: np.where((x<0)|(x>20000),x.mask((x<0)|(x>20000)).mean(),x))"
   ]
  },
  {
   "cell_type": "code",
   "execution_count": 9,
   "metadata": {},
   "outputs": [],
   "source": [
    "# Create dif scores for entries / exits\n",
    "df['TRAFFIC_FLOW'] = df['ENTRIES_diff'] + df['EXITS_diff']"
   ]
  },
  {
   "cell_type": "code",
   "execution_count": 10,
   "metadata": {},
   "outputs": [
    {
     "data": {
      "text/plain": [
       "count    819397.000000\n",
       "mean        326.813439\n",
       "std         535.379068\n",
       "min           0.000000\n",
       "25%          32.000000\n",
       "50%         183.000000\n",
       "75%         462.000000\n",
       "max       34599.000000\n",
       "Name: TRAFFIC_FLOW, dtype: float64"
      ]
     },
     "execution_count": 10,
     "metadata": {},
     "output_type": "execute_result"
    }
   ],
   "source": [
    "df.TRAFFIC_FLOW.describe()"
   ]
  },
  {
   "cell_type": "code",
   "execution_count": 11,
   "metadata": {},
   "outputs": [],
   "source": [
    "df.to_csv('turnstile_data.csv')"
   ]
  }
 ],
 "metadata": {
  "kernelspec": {
   "display_name": "Python 3",
   "language": "python",
   "name": "python3"
  },
  "language_info": {
   "codemirror_mode": {
    "name": "ipython",
    "version": 3
   },
   "file_extension": ".py",
   "mimetype": "text/x-python",
   "name": "python",
   "nbconvert_exporter": "python",
   "pygments_lexer": "ipython3",
   "version": "3.7.3"
  }
 },
 "nbformat": 4,
 "nbformat_minor": 2
}
