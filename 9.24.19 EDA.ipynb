{
 "cells": [
  {
   "cell_type": "code",
   "execution_count": 3,
   "metadata": {},
   "outputs": [
    {
     "data": {
      "text/plain": [
       "Index(['DATE_TIME', 'C/A', 'UNIT', 'SCP', 'STATION', 'LINENAME', 'DIVISION',\n",
       "       'DESC', 'ENTRIES',\n",
       "       'EXITS                                                               ',\n",
       "       'day_of_week'],\n",
       "      dtype='object')"
      ]
     },
     "execution_count": 3,
     "metadata": {},
     "output_type": "execute_result"
    }
   ],
   "source": [
    "import pandas as pd\n",
    "import numpy as np\n",
    "from datetime import datetime\n",
    "\n",
    "%config InlineBackend.figure_format = 'svg'\n",
    "%matplotlib inline \n",
    "df = pd.read_csv('http://web.mta.info/developers/data/nyct/turnstile/turnstile_190921.txt', parse_dates=[['DATE', 'TIME']])\n",
    "df['day_of_week'] = df['DATE_TIME'].dt.weekday_name\n",
    "df.columns"
   ]
  },
  {
   "cell_type": "code",
   "execution_count": 4,
   "metadata": {},
   "outputs": [],
   "source": [
    "# Rename exit\n",
    "df.rename(columns ={\"EXITS                                                               \":\"EXITS\"}, inplace=True)"
   ]
  },
  {
   "cell_type": "code",
   "execution_count": 5,
   "metadata": {},
   "outputs": [],
   "source": [
    "# Get only regular/ working units. The irregulars could be contributing to outliers\n",
    "df = df[df['DESC'] == 'REGULAR']"
   ]
  },
  {
   "cell_type": "code",
   "execution_count": 6,
   "metadata": {},
   "outputs": [
    {
     "data": {
      "text/html": [
       "<div>\n",
       "<style scoped>\n",
       "    .dataframe tbody tr th:only-of-type {\n",
       "        vertical-align: middle;\n",
       "    }\n",
       "\n",
       "    .dataframe tbody tr th {\n",
       "        vertical-align: top;\n",
       "    }\n",
       "\n",
       "    .dataframe thead th {\n",
       "        text-align: right;\n",
       "    }\n",
       "</style>\n",
       "<table border=\"1\" class=\"dataframe\">\n",
       "  <thead>\n",
       "    <tr style=\"text-align: right;\">\n",
       "      <th></th>\n",
       "      <th>ENTRIES</th>\n",
       "      <th>EXITS</th>\n",
       "    </tr>\n",
       "  </thead>\n",
       "  <tbody>\n",
       "    <tr>\n",
       "      <td>count</td>\n",
       "      <td>2.042350e+05</td>\n",
       "      <td>2.042350e+05</td>\n",
       "    </tr>\n",
       "    <tr>\n",
       "      <td>mean</td>\n",
       "      <td>4.215594e+07</td>\n",
       "      <td>3.490572e+07</td>\n",
       "    </tr>\n",
       "    <tr>\n",
       "      <td>std</td>\n",
       "      <td>2.157581e+08</td>\n",
       "      <td>1.996471e+08</td>\n",
       "    </tr>\n",
       "    <tr>\n",
       "      <td>min</td>\n",
       "      <td>0.000000e+00</td>\n",
       "      <td>0.000000e+00</td>\n",
       "    </tr>\n",
       "    <tr>\n",
       "      <td>25%</td>\n",
       "      <td>2.896500e+05</td>\n",
       "      <td>1.292280e+05</td>\n",
       "    </tr>\n",
       "    <tr>\n",
       "      <td>50%</td>\n",
       "      <td>2.038905e+06</td>\n",
       "      <td>1.178385e+06</td>\n",
       "    </tr>\n",
       "    <tr>\n",
       "      <td>75%</td>\n",
       "      <td>6.615760e+06</td>\n",
       "      <td>4.534095e+06</td>\n",
       "    </tr>\n",
       "    <tr>\n",
       "      <td>max</td>\n",
       "      <td>2.129093e+09</td>\n",
       "      <td>2.123772e+09</td>\n",
       "    </tr>\n",
       "  </tbody>\n",
       "</table>\n",
       "</div>"
      ],
      "text/plain": [
       "            ENTRIES         EXITS\n",
       "count  2.042350e+05  2.042350e+05\n",
       "mean   4.215594e+07  3.490572e+07\n",
       "std    2.157581e+08  1.996471e+08\n",
       "min    0.000000e+00  0.000000e+00\n",
       "25%    2.896500e+05  1.292280e+05\n",
       "50%    2.038905e+06  1.178385e+06\n",
       "75%    6.615760e+06  4.534095e+06\n",
       "max    2.129093e+09  2.123772e+09"
      ]
     },
     "execution_count": 6,
     "metadata": {},
     "output_type": "execute_result"
    }
   ],
   "source": [
    "df.describe()"
   ]
  },
  {
   "cell_type": "code",
   "execution_count": 7,
   "metadata": {},
   "outputs": [],
   "source": [
    "# Create dif scores for entries / exits\n",
    "df['ENTRIES_diff'] = df.ENTRIES.diff()\n",
    "df['EXITS_diff'] = df.EXITS.diff()\n",
    "df['TRAFFIC_FLOW'] = df['ENTRIES_diff'] + df['EXITS_diff']"
   ]
  },
  {
   "cell_type": "code",
   "execution_count": 8,
   "metadata": {},
   "outputs": [
    {
     "data": {
      "text/plain": [
       "Index(['DATE_TIME', 'C/A', 'UNIT', 'SCP', 'STATION', 'LINENAME', 'DIVISION',\n",
       "       'DESC', 'ENTRIES', 'EXITS', 'day_of_week', 'ENTRIES_diff', 'EXITS_diff',\n",
       "       'TRAFFIC_FLOW'],\n",
       "      dtype='object')"
      ]
     },
     "execution_count": 8,
     "metadata": {},
     "output_type": "execute_result"
    }
   ],
   "source": [
    "df.columns"
   ]
  },
  {
   "cell_type": "code",
   "execution_count": 9,
   "metadata": {},
   "outputs": [
    {
     "data": {
      "text/html": [
       "<div>\n",
       "<style scoped>\n",
       "    .dataframe tbody tr th:only-of-type {\n",
       "        vertical-align: middle;\n",
       "    }\n",
       "\n",
       "    .dataframe tbody tr th {\n",
       "        vertical-align: top;\n",
       "    }\n",
       "\n",
       "    .dataframe thead th {\n",
       "        text-align: right;\n",
       "    }\n",
       "</style>\n",
       "<table border=\"1\" class=\"dataframe\">\n",
       "  <thead>\n",
       "    <tr style=\"text-align: right;\">\n",
       "      <th></th>\n",
       "      <th>DATE_TIME</th>\n",
       "      <th>C/A</th>\n",
       "      <th>UNIT</th>\n",
       "      <th>SCP</th>\n",
       "      <th>STATION</th>\n",
       "      <th>LINENAME</th>\n",
       "      <th>DIVISION</th>\n",
       "      <th>DESC</th>\n",
       "      <th>ENTRIES</th>\n",
       "      <th>EXITS</th>\n",
       "      <th>day_of_week</th>\n",
       "      <th>ENTRIES_diff</th>\n",
       "      <th>EXITS_diff</th>\n",
       "      <th>TRAFFIC_FLOW</th>\n",
       "    </tr>\n",
       "  </thead>\n",
       "  <tbody>\n",
       "    <tr>\n",
       "      <td>0</td>\n",
       "      <td>2019-09-14 00:00:00</td>\n",
       "      <td>A002</td>\n",
       "      <td>R051</td>\n",
       "      <td>02-00-00</td>\n",
       "      <td>59 ST</td>\n",
       "      <td>NQR456W</td>\n",
       "      <td>BMT</td>\n",
       "      <td>REGULAR</td>\n",
       "      <td>7198818</td>\n",
       "      <td>2438323</td>\n",
       "      <td>Saturday</td>\n",
       "      <td>NaN</td>\n",
       "      <td>NaN</td>\n",
       "      <td>NaN</td>\n",
       "    </tr>\n",
       "    <tr>\n",
       "      <td>1</td>\n",
       "      <td>2019-09-14 04:00:00</td>\n",
       "      <td>A002</td>\n",
       "      <td>R051</td>\n",
       "      <td>02-00-00</td>\n",
       "      <td>59 ST</td>\n",
       "      <td>NQR456W</td>\n",
       "      <td>BMT</td>\n",
       "      <td>REGULAR</td>\n",
       "      <td>7198834</td>\n",
       "      <td>2438325</td>\n",
       "      <td>Saturday</td>\n",
       "      <td>16.0</td>\n",
       "      <td>2.0</td>\n",
       "      <td>18.0</td>\n",
       "    </tr>\n",
       "    <tr>\n",
       "      <td>2</td>\n",
       "      <td>2019-09-14 08:00:00</td>\n",
       "      <td>A002</td>\n",
       "      <td>R051</td>\n",
       "      <td>02-00-00</td>\n",
       "      <td>59 ST</td>\n",
       "      <td>NQR456W</td>\n",
       "      <td>BMT</td>\n",
       "      <td>REGULAR</td>\n",
       "      <td>7198847</td>\n",
       "      <td>2438354</td>\n",
       "      <td>Saturday</td>\n",
       "      <td>13.0</td>\n",
       "      <td>29.0</td>\n",
       "      <td>42.0</td>\n",
       "    </tr>\n",
       "    <tr>\n",
       "      <td>3</td>\n",
       "      <td>2019-09-14 12:00:00</td>\n",
       "      <td>A002</td>\n",
       "      <td>R051</td>\n",
       "      <td>02-00-00</td>\n",
       "      <td>59 ST</td>\n",
       "      <td>NQR456W</td>\n",
       "      <td>BMT</td>\n",
       "      <td>REGULAR</td>\n",
       "      <td>7198929</td>\n",
       "      <td>2438428</td>\n",
       "      <td>Saturday</td>\n",
       "      <td>82.0</td>\n",
       "      <td>74.0</td>\n",
       "      <td>156.0</td>\n",
       "    </tr>\n",
       "    <tr>\n",
       "      <td>4</td>\n",
       "      <td>2019-09-14 16:00:00</td>\n",
       "      <td>A002</td>\n",
       "      <td>R051</td>\n",
       "      <td>02-00-00</td>\n",
       "      <td>59 ST</td>\n",
       "      <td>NQR456W</td>\n",
       "      <td>BMT</td>\n",
       "      <td>REGULAR</td>\n",
       "      <td>7199125</td>\n",
       "      <td>2438483</td>\n",
       "      <td>Saturday</td>\n",
       "      <td>196.0</td>\n",
       "      <td>55.0</td>\n",
       "      <td>251.0</td>\n",
       "    </tr>\n",
       "  </tbody>\n",
       "</table>\n",
       "</div>"
      ],
      "text/plain": [
       "            DATE_TIME   C/A  UNIT       SCP STATION LINENAME DIVISION  \\\n",
       "0 2019-09-14 00:00:00  A002  R051  02-00-00   59 ST  NQR456W      BMT   \n",
       "1 2019-09-14 04:00:00  A002  R051  02-00-00   59 ST  NQR456W      BMT   \n",
       "2 2019-09-14 08:00:00  A002  R051  02-00-00   59 ST  NQR456W      BMT   \n",
       "3 2019-09-14 12:00:00  A002  R051  02-00-00   59 ST  NQR456W      BMT   \n",
       "4 2019-09-14 16:00:00  A002  R051  02-00-00   59 ST  NQR456W      BMT   \n",
       "\n",
       "      DESC  ENTRIES    EXITS day_of_week  ENTRIES_diff  EXITS_diff  \\\n",
       "0  REGULAR  7198818  2438323    Saturday           NaN         NaN   \n",
       "1  REGULAR  7198834  2438325    Saturday          16.0         2.0   \n",
       "2  REGULAR  7198847  2438354    Saturday          13.0        29.0   \n",
       "3  REGULAR  7198929  2438428    Saturday          82.0        74.0   \n",
       "4  REGULAR  7199125  2438483    Saturday         196.0        55.0   \n",
       "\n",
       "   TRAFFIC_FLOW  \n",
       "0           NaN  \n",
       "1          18.0  \n",
       "2          42.0  \n",
       "3         156.0  \n",
       "4         251.0  "
      ]
     },
     "execution_count": 9,
     "metadata": {},
     "output_type": "execute_result"
    }
   ],
   "source": [
    "df.head()"
   ]
  },
  {
   "cell_type": "code",
   "execution_count": 10,
   "metadata": {},
   "outputs": [
    {
     "data": {
      "text/plain": [
       "count    2.042340e+05\n",
       "mean    -4.715751e+01\n",
       "std      8.230804e+07\n",
       "min     -3.959976e+09\n",
       "25%      2.500000e+01\n",
       "50%      1.780000e+02\n",
       "75%      4.920000e+02\n",
       "max      3.959539e+09\n",
       "Name: TRAFFIC_FLOW, dtype: float64"
      ]
     },
     "execution_count": 10,
     "metadata": {},
     "output_type": "execute_result"
    }
   ],
   "source": [
    "df['TRAFFIC_FLOW'].describe()"
   ]
  },
  {
   "cell_type": "code",
   "execution_count": 11,
   "metadata": {},
   "outputs": [],
   "source": [
    "# set date_time to index\n",
    "df.set_index('DATE_TIME', inplace = True)"
   ]
  },
  {
   "cell_type": "code",
   "execution_count": 12,
   "metadata": {},
   "outputs": [
    {
     "data": {
      "text/html": [
       "<div>\n",
       "<style scoped>\n",
       "    .dataframe tbody tr th:only-of-type {\n",
       "        vertical-align: middle;\n",
       "    }\n",
       "\n",
       "    .dataframe tbody tr th {\n",
       "        vertical-align: top;\n",
       "    }\n",
       "\n",
       "    .dataframe thead th {\n",
       "        text-align: right;\n",
       "    }\n",
       "</style>\n",
       "<table border=\"1\" class=\"dataframe\">\n",
       "  <thead>\n",
       "    <tr style=\"text-align: right;\">\n",
       "      <th></th>\n",
       "      <th>C/A</th>\n",
       "      <th>UNIT</th>\n",
       "      <th>SCP</th>\n",
       "      <th>STATION</th>\n",
       "      <th>LINENAME</th>\n",
       "      <th>DIVISION</th>\n",
       "      <th>DESC</th>\n",
       "      <th>ENTRIES</th>\n",
       "      <th>EXITS</th>\n",
       "      <th>day_of_week</th>\n",
       "      <th>ENTRIES_diff</th>\n",
       "      <th>EXITS_diff</th>\n",
       "      <th>TRAFFIC_FLOW</th>\n",
       "    </tr>\n",
       "    <tr>\n",
       "      <th>DATE_TIME</th>\n",
       "      <th></th>\n",
       "      <th></th>\n",
       "      <th></th>\n",
       "      <th></th>\n",
       "      <th></th>\n",
       "      <th></th>\n",
       "      <th></th>\n",
       "      <th></th>\n",
       "      <th></th>\n",
       "      <th></th>\n",
       "      <th></th>\n",
       "      <th></th>\n",
       "      <th></th>\n",
       "    </tr>\n",
       "  </thead>\n",
       "  <tbody>\n",
       "    <tr>\n",
       "      <td>2019-09-14 00:00:00</td>\n",
       "      <td>A002</td>\n",
       "      <td>R051</td>\n",
       "      <td>02-00-00</td>\n",
       "      <td>59 ST</td>\n",
       "      <td>NQR456W</td>\n",
       "      <td>BMT</td>\n",
       "      <td>REGULAR</td>\n",
       "      <td>7198818</td>\n",
       "      <td>2438323</td>\n",
       "      <td>Saturday</td>\n",
       "      <td>NaN</td>\n",
       "      <td>NaN</td>\n",
       "      <td>NaN</td>\n",
       "    </tr>\n",
       "    <tr>\n",
       "      <td>2019-09-14 04:00:00</td>\n",
       "      <td>A002</td>\n",
       "      <td>R051</td>\n",
       "      <td>02-00-00</td>\n",
       "      <td>59 ST</td>\n",
       "      <td>NQR456W</td>\n",
       "      <td>BMT</td>\n",
       "      <td>REGULAR</td>\n",
       "      <td>7198834</td>\n",
       "      <td>2438325</td>\n",
       "      <td>Saturday</td>\n",
       "      <td>16.0</td>\n",
       "      <td>2.0</td>\n",
       "      <td>18.0</td>\n",
       "    </tr>\n",
       "    <tr>\n",
       "      <td>2019-09-14 08:00:00</td>\n",
       "      <td>A002</td>\n",
       "      <td>R051</td>\n",
       "      <td>02-00-00</td>\n",
       "      <td>59 ST</td>\n",
       "      <td>NQR456W</td>\n",
       "      <td>BMT</td>\n",
       "      <td>REGULAR</td>\n",
       "      <td>7198847</td>\n",
       "      <td>2438354</td>\n",
       "      <td>Saturday</td>\n",
       "      <td>13.0</td>\n",
       "      <td>29.0</td>\n",
       "      <td>42.0</td>\n",
       "    </tr>\n",
       "    <tr>\n",
       "      <td>2019-09-14 12:00:00</td>\n",
       "      <td>A002</td>\n",
       "      <td>R051</td>\n",
       "      <td>02-00-00</td>\n",
       "      <td>59 ST</td>\n",
       "      <td>NQR456W</td>\n",
       "      <td>BMT</td>\n",
       "      <td>REGULAR</td>\n",
       "      <td>7198929</td>\n",
       "      <td>2438428</td>\n",
       "      <td>Saturday</td>\n",
       "      <td>82.0</td>\n",
       "      <td>74.0</td>\n",
       "      <td>156.0</td>\n",
       "    </tr>\n",
       "    <tr>\n",
       "      <td>2019-09-14 16:00:00</td>\n",
       "      <td>A002</td>\n",
       "      <td>R051</td>\n",
       "      <td>02-00-00</td>\n",
       "      <td>59 ST</td>\n",
       "      <td>NQR456W</td>\n",
       "      <td>BMT</td>\n",
       "      <td>REGULAR</td>\n",
       "      <td>7199125</td>\n",
       "      <td>2438483</td>\n",
       "      <td>Saturday</td>\n",
       "      <td>196.0</td>\n",
       "      <td>55.0</td>\n",
       "      <td>251.0</td>\n",
       "    </tr>\n",
       "  </tbody>\n",
       "</table>\n",
       "</div>"
      ],
      "text/plain": [
       "                      C/A  UNIT       SCP STATION LINENAME DIVISION     DESC  \\\n",
       "DATE_TIME                                                                      \n",
       "2019-09-14 00:00:00  A002  R051  02-00-00   59 ST  NQR456W      BMT  REGULAR   \n",
       "2019-09-14 04:00:00  A002  R051  02-00-00   59 ST  NQR456W      BMT  REGULAR   \n",
       "2019-09-14 08:00:00  A002  R051  02-00-00   59 ST  NQR456W      BMT  REGULAR   \n",
       "2019-09-14 12:00:00  A002  R051  02-00-00   59 ST  NQR456W      BMT  REGULAR   \n",
       "2019-09-14 16:00:00  A002  R051  02-00-00   59 ST  NQR456W      BMT  REGULAR   \n",
       "\n",
       "                     ENTRIES    EXITS day_of_week  ENTRIES_diff  EXITS_diff  \\\n",
       "DATE_TIME                                                                     \n",
       "2019-09-14 00:00:00  7198818  2438323    Saturday           NaN         NaN   \n",
       "2019-09-14 04:00:00  7198834  2438325    Saturday          16.0         2.0   \n",
       "2019-09-14 08:00:00  7198847  2438354    Saturday          13.0        29.0   \n",
       "2019-09-14 12:00:00  7198929  2438428    Saturday          82.0        74.0   \n",
       "2019-09-14 16:00:00  7199125  2438483    Saturday         196.0        55.0   \n",
       "\n",
       "                     TRAFFIC_FLOW  \n",
       "DATE_TIME                          \n",
       "2019-09-14 00:00:00           NaN  \n",
       "2019-09-14 04:00:00          18.0  \n",
       "2019-09-14 08:00:00          42.0  \n",
       "2019-09-14 12:00:00         156.0  \n",
       "2019-09-14 16:00:00         251.0  "
      ]
     },
     "execution_count": 12,
     "metadata": {},
     "output_type": "execute_result"
    }
   ],
   "source": [
    "df.head()"
   ]
  },
  {
   "cell_type": "code",
   "execution_count": 13,
   "metadata": {},
   "outputs": [
    {
     "data": {
      "text/plain": [
       "count    2.042350e+05\n",
       "mean     4.215594e+07\n",
       "std      2.157581e+08\n",
       "min      0.000000e+00\n",
       "25%      2.896500e+05\n",
       "50%      2.038905e+06\n",
       "75%      6.615760e+06\n",
       "max      2.129093e+09\n",
       "Name: ENTRIES, dtype: float64"
      ]
     },
     "execution_count": 13,
     "metadata": {},
     "output_type": "execute_result"
    }
   ],
   "source": [
    "df['ENTRIES'].describe()"
   ]
  },
  {
   "cell_type": "code",
   "execution_count": 14,
   "metadata": {},
   "outputs": [],
   "source": [
    "# Replace outliers: delete under zero, replace > 20,000 with mean\n",
    "# GROUPED BY STATION-- so means are coming by station\n",
    "\n",
    "df['ENTRIES_diff'] = df.groupby(['STATION']).ENTRIES_diff.transform(\n",
    "    lambda x: np.where((x<0)|(x>20000),x.mask((x<0)|(x>20000)).mean(),x))"
   ]
  },
  {
   "cell_type": "code",
   "execution_count": 15,
   "metadata": {},
   "outputs": [
    {
     "data": {
      "text/plain": [
       "count    204234.000000\n",
       "mean        188.768041\n",
       "std         360.117240\n",
       "min           0.000000\n",
       "25%          10.000000\n",
       "50%          84.000000\n",
       "75%         254.000000\n",
       "max       19998.000000\n",
       "Name: ENTRIES_diff, dtype: float64"
      ]
     },
     "execution_count": 15,
     "metadata": {},
     "output_type": "execute_result"
    }
   ],
   "source": [
    "df.ENTRIES_diff.describe()"
   ]
  },
  {
   "cell_type": "code",
   "execution_count": 16,
   "metadata": {},
   "outputs": [],
   "source": [
    "df['EXITS_diff'] = df.groupby(['STATION']).EXITS_diff.transform(\n",
    "    lambda x: np.where((x<0)|(x>20000),x.mask((x<0)|(x>20000)).mean(),x))"
   ]
  },
  {
   "cell_type": "code",
   "execution_count": 17,
   "metadata": {},
   "outputs": [
    {
     "data": {
      "text/plain": [
       "count    204234.000000\n",
       "mean        153.670505\n",
       "std         372.759533\n",
       "min           0.000000\n",
       "25%           9.000000\n",
       "50%          60.000000\n",
       "75%         182.458537\n",
       "max       19987.000000\n",
       "Name: EXITS_diff, dtype: float64"
      ]
     },
     "execution_count": 17,
     "metadata": {},
     "output_type": "execute_result"
    }
   ],
   "source": [
    "df.EXITS_diff.describe()"
   ]
  },
  {
   "cell_type": "code",
   "execution_count": 18,
   "metadata": {},
   "outputs": [],
   "source": [
    "# Look at station level\n",
    "gp_station = df.groupby('STATION')"
   ]
  },
  {
   "cell_type": "code",
   "execution_count": 75,
   "metadata": {},
   "outputs": [
    {
     "data": {
      "text/plain": [
       "STATION\n",
       "34 ST-PENN STA     1.050090e+06\n",
       "GRD CNTRL-42 ST    9.132488e+05\n",
       "34 ST-HERALD SQ    7.746095e+05\n",
       "23 ST              7.652739e+05\n",
       "14 ST-UNION SQ     6.711826e+05\n",
       "TIMES SQ-42 ST     6.387940e+05\n",
       "FULTON ST          6.236192e+05\n",
       "Name: ENTRIES_diff, dtype: float64"
      ]
     },
     "execution_count": 75,
     "metadata": {},
     "output_type": "execute_result"
    }
   ],
   "source": [
    "# summing all entries_diff (which is 4 hour segments of entries), summing (so getting across all dates in data),\n",
    "# showing highest 5 \n",
    "gp_station['ENTRIES_diff'].sum().sort_values(ascending=False)[:7]"
   ]
  },
  {
   "cell_type": "markdown",
   "metadata": {},
   "source": [
    "### Now that we have the top 5 stations, we can focus on which exits/entries within to focus on. We can also do some kind of analysis by day of week, or time of day"
   ]
  },
  {
   "cell_type": "code",
   "execution_count": 89,
   "metadata": {},
   "outputs": [],
   "source": [
    "# Making a df with top 5 entries\n",
    "top_entry_stations = df[df['STATION'].isin(['34 ST-PENN STA','GRD CNTRL-42 ST', '34 ST-HERALD SQ', '23 ST', '14 ST-UNION SQ' ])].nunique()"
   ]
  },
  {
   "cell_type": "code",
   "execution_count": 61,
   "metadata": {},
   "outputs": [
    {
     "data": {
      "text/html": [
       "<div>\n",
       "<style scoped>\n",
       "    .dataframe tbody tr th:only-of-type {\n",
       "        vertical-align: middle;\n",
       "    }\n",
       "\n",
       "    .dataframe tbody tr th {\n",
       "        vertical-align: top;\n",
       "    }\n",
       "\n",
       "    .dataframe thead th {\n",
       "        text-align: right;\n",
       "    }\n",
       "</style>\n",
       "<table border=\"1\" class=\"dataframe\">\n",
       "  <thead>\n",
       "    <tr style=\"text-align: right;\">\n",
       "      <th></th>\n",
       "      <th>ENTRIES</th>\n",
       "      <th>EXITS</th>\n",
       "      <th>ENTRIES_diff</th>\n",
       "      <th>EXITS_diff</th>\n",
       "      <th>TRAFFIC_FLOW</th>\n",
       "    </tr>\n",
       "    <tr>\n",
       "      <th>day_of_week</th>\n",
       "      <th></th>\n",
       "      <th></th>\n",
       "      <th></th>\n",
       "      <th></th>\n",
       "      <th></th>\n",
       "    </tr>\n",
       "  </thead>\n",
       "  <tbody>\n",
       "    <tr>\n",
       "      <td>Friday</td>\n",
       "      <td>4.219604e+07</td>\n",
       "      <td>3.486625e+07</td>\n",
       "      <td>213.966204</td>\n",
       "      <td>170.115461</td>\n",
       "      <td>4528.527327</td>\n",
       "    </tr>\n",
       "    <tr>\n",
       "      <td>Monday</td>\n",
       "      <td>4.225003e+07</td>\n",
       "      <td>3.500805e+07</td>\n",
       "      <td>201.336146</td>\n",
       "      <td>159.140703</td>\n",
       "      <td>333.984355</td>\n",
       "    </tr>\n",
       "    <tr>\n",
       "      <td>Saturday</td>\n",
       "      <td>4.211893e+07</td>\n",
       "      <td>3.486300e+07</td>\n",
       "      <td>161.336389</td>\n",
       "      <td>154.103031</td>\n",
       "      <td>14076.199471</td>\n",
       "    </tr>\n",
       "    <tr>\n",
       "      <td>Sunday</td>\n",
       "      <td>4.217439e+07</td>\n",
       "      <td>3.487956e+07</td>\n",
       "      <td>96.746350</td>\n",
       "      <td>82.087208</td>\n",
       "      <td>46.111020</td>\n",
       "    </tr>\n",
       "    <tr>\n",
       "      <td>Thursday</td>\n",
       "      <td>4.220531e+07</td>\n",
       "      <td>3.486576e+07</td>\n",
       "      <td>217.504577</td>\n",
       "      <td>171.283393</td>\n",
       "      <td>-20284.364732</td>\n",
       "    </tr>\n",
       "    <tr>\n",
       "      <td>Tuesday</td>\n",
       "      <td>4.198997e+07</td>\n",
       "      <td>3.488532e+07</td>\n",
       "      <td>212.798860</td>\n",
       "      <td>167.695397</td>\n",
       "      <td>197.912409</td>\n",
       "    </tr>\n",
       "    <tr>\n",
       "      <td>Wednesday</td>\n",
       "      <td>4.215796e+07</td>\n",
       "      <td>3.497263e+07</td>\n",
       "      <td>217.417733</td>\n",
       "      <td>171.140091</td>\n",
       "      <td>818.491196</td>\n",
       "    </tr>\n",
       "  </tbody>\n",
       "</table>\n",
       "</div>"
      ],
      "text/plain": [
       "                  ENTRIES         EXITS  ENTRIES_diff  EXITS_diff  \\\n",
       "day_of_week                                                         \n",
       "Friday       4.219604e+07  3.486625e+07    213.966204  170.115461   \n",
       "Monday       4.225003e+07  3.500805e+07    201.336146  159.140703   \n",
       "Saturday     4.211893e+07  3.486300e+07    161.336389  154.103031   \n",
       "Sunday       4.217439e+07  3.487956e+07     96.746350   82.087208   \n",
       "Thursday     4.220531e+07  3.486576e+07    217.504577  171.283393   \n",
       "Tuesday      4.198997e+07  3.488532e+07    212.798860  167.695397   \n",
       "Wednesday    4.215796e+07  3.497263e+07    217.417733  171.140091   \n",
       "\n",
       "             TRAFFIC_FLOW  \n",
       "day_of_week                \n",
       "Friday        4528.527327  \n",
       "Monday         333.984355  \n",
       "Saturday     14076.199471  \n",
       "Sunday          46.111020  \n",
       "Thursday    -20284.364732  \n",
       "Tuesday        197.912409  \n",
       "Wednesday      818.491196  "
      ]
     },
     "execution_count": 61,
     "metadata": {},
     "output_type": "execute_result"
    }
   ],
   "source": [
    "df.groupby('day_of_week').mean()"
   ]
  },
  {
   "cell_type": "code",
   "execution_count": 90,
   "metadata": {},
   "outputs": [
    {
     "data": {
      "text/plain": [
       "DatetimeIndex(['2019-09-14 00:00:00', '2019-09-14 04:00:00',\n",
       "               '2019-09-14 08:00:00', '2019-09-14 12:00:00',\n",
       "               '2019-09-14 16:00:00', '2019-09-14 20:00:00',\n",
       "               '2019-09-15 00:00:00', '2019-09-15 04:00:00',\n",
       "               '2019-09-15 08:00:00', '2019-09-15 12:00:00',\n",
       "               ...\n",
       "               '2019-09-19 09:00:00', '2019-09-19 13:00:00',\n",
       "               '2019-09-19 17:00:00', '2019-09-19 21:00:00',\n",
       "               '2019-09-20 01:00:00', '2019-09-20 05:00:00',\n",
       "               '2019-09-20 09:00:00', '2019-09-20 13:00:00',\n",
       "               '2019-09-20 17:00:00', '2019-09-20 21:00:00'],\n",
       "              dtype='datetime64[ns]', name='DATE_TIME', length=204235, freq=None)"
      ]
     },
     "execution_count": 90,
     "metadata": {},
     "output_type": "execute_result"
    }
   ],
   "source": [
    "df.index"
   ]
  },
  {
   "cell_type": "code",
   "execution_count": 69,
   "metadata": {},
   "outputs": [],
   "source": [
    "monthly_high = df['ENTRIES_diff'].resample(\"D\").max()"
   ]
  },
  {
   "cell_type": "code",
   "execution_count": 70,
   "metadata": {},
   "outputs": [
    {
     "data": {
      "text/plain": [
       "19998.0"
      ]
     },
     "execution_count": 70,
     "metadata": {},
     "output_type": "execute_result"
    }
   ],
   "source": [
    "monthly_high.max()"
   ]
  },
  {
   "cell_type": "code",
   "execution_count": null,
   "metadata": {},
   "outputs": [],
   "source": []
  }
 ],
 "metadata": {
  "kernelspec": {
   "display_name": "Python [conda env:metis] *",
   "language": "python",
   "name": "conda-env-metis-py"
  },
  "language_info": {
   "codemirror_mode": {
    "name": "ipython",
    "version": 3
   },
   "file_extension": ".py",
   "mimetype": "text/x-python",
   "name": "python",
   "nbconvert_exporter": "python",
   "pygments_lexer": "ipython3",
   "version": "3.7.4"
  }
 },
 "nbformat": 4,
 "nbformat_minor": 2
}
