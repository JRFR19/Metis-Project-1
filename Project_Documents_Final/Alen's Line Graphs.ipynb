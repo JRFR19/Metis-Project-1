{
 "cells": [
  {
   "cell_type": "code",
   "execution_count": 1,
   "metadata": {},
   "outputs": [],
   "source": [
    "import pandas as pd\n",
    "import numpy as np\n",
    "import matplotlib.pyplot as plt\n",
    "from datetime import datetime\n",
    "import pickle\n",
    "import seaborn as sns\n",
    "\n",
    "%matplotlib inline"
   ]
  },
  {
   "cell_type": "code",
   "execution_count": 2,
   "metadata": {},
   "outputs": [],
   "source": [
    "def get_data(week_nums):\n",
    "    url = \"http://web.mta.info/developers/data/nyct/turnstile/turnstile_{}.txt\"\n",
    "    dfs = []\n",
    "    col_names= ['CA','UNIT','SCP','STATION','LINENAME','DIVISION','DATE','TIME','DESC','ENTRIES','EXITS']\n",
    "    for week_num in week_nums:\n",
    "        file_url = url.format(week_num)\n",
    "        dfs.append(pd.read_csv(file_url, sep=\",\", header=0, names = col_names, parse_dates=[['DATE', 'TIME']]))\n",
    "    return pd.concat(dfs)\n",
    "        \n",
    "week_nums = [190504, 190511, 190518, 190525]\n",
    "df = get_data(week_nums)"
   ]
  },
  {
   "cell_type": "code",
   "execution_count": 3,
   "metadata": {},
   "outputs": [],
   "source": [
    "df['day_of_week'] = df['DATE_TIME'].dt.dayofweek"
   ]
  },
  {
   "cell_type": "code",
   "execution_count": 4,
   "metadata": {},
   "outputs": [],
   "source": [
    "#df['HOUR'] = df['DATE_TIME'].map(int(time.split(':')[0]))\n",
    "df['MONTH'] = df['DATE_TIME'].dt.month\n",
    "# df['YEAR'] = df['DATE_TIME'].map(date_to_year)"
   ]
  },
  {
   "cell_type": "code",
   "execution_count": 5,
   "metadata": {},
   "outputs": [],
   "source": [
    "df = df[df.DESC == 'REGULAR']"
   ]
  },
  {
   "cell_type": "code",
   "execution_count": 6,
   "metadata": {},
   "outputs": [
    {
     "data": {
      "text/plain": [
       "Index(['DATE_TIME', 'CA', 'UNIT', 'SCP', 'STATION', 'LINENAME', 'DIVISION',\n",
       "       'DESC', 'ENTRIES', 'EXITS', 'day_of_week', 'MONTH'],\n",
       "      dtype='object')"
      ]
     },
     "execution_count": 6,
     "metadata": {},
     "output_type": "execute_result"
    }
   ],
   "source": [
    "df.columns"
   ]
  },
  {
   "cell_type": "code",
   "execution_count": 7,
   "metadata": {},
   "outputs": [
    {
     "data": {
      "text/html": [
       "<div>\n",
       "<style scoped>\n",
       "    .dataframe tbody tr th:only-of-type {\n",
       "        vertical-align: middle;\n",
       "    }\n",
       "\n",
       "    .dataframe tbody tr th {\n",
       "        vertical-align: top;\n",
       "    }\n",
       "\n",
       "    .dataframe thead th {\n",
       "        text-align: right;\n",
       "    }\n",
       "</style>\n",
       "<table border=\"1\" class=\"dataframe\">\n",
       "  <thead>\n",
       "    <tr style=\"text-align: right;\">\n",
       "      <th></th>\n",
       "      <th>DATE_TIME</th>\n",
       "      <th>CA</th>\n",
       "      <th>UNIT</th>\n",
       "      <th>SCP</th>\n",
       "      <th>STATION</th>\n",
       "      <th>LINENAME</th>\n",
       "      <th>DIVISION</th>\n",
       "      <th>DESC</th>\n",
       "      <th>ENTRIES</th>\n",
       "      <th>EXITS</th>\n",
       "      <th>day_of_week</th>\n",
       "      <th>MONTH</th>\n",
       "    </tr>\n",
       "  </thead>\n",
       "  <tbody>\n",
       "    <tr>\n",
       "      <td>0</td>\n",
       "      <td>2019-04-27 00:00:00</td>\n",
       "      <td>A002</td>\n",
       "      <td>R051</td>\n",
       "      <td>02-00-00</td>\n",
       "      <td>59 ST</td>\n",
       "      <td>NQR456W</td>\n",
       "      <td>BMT</td>\n",
       "      <td>REGULAR</td>\n",
       "      <td>7035249</td>\n",
       "      <td>2384833</td>\n",
       "      <td>5</td>\n",
       "      <td>4</td>\n",
       "    </tr>\n",
       "    <tr>\n",
       "      <td>1</td>\n",
       "      <td>2019-04-27 04:00:00</td>\n",
       "      <td>A002</td>\n",
       "      <td>R051</td>\n",
       "      <td>02-00-00</td>\n",
       "      <td>59 ST</td>\n",
       "      <td>NQR456W</td>\n",
       "      <td>BMT</td>\n",
       "      <td>REGULAR</td>\n",
       "      <td>7035269</td>\n",
       "      <td>2384840</td>\n",
       "      <td>5</td>\n",
       "      <td>4</td>\n",
       "    </tr>\n",
       "    <tr>\n",
       "      <td>2</td>\n",
       "      <td>2019-04-27 08:00:00</td>\n",
       "      <td>A002</td>\n",
       "      <td>R051</td>\n",
       "      <td>02-00-00</td>\n",
       "      <td>59 ST</td>\n",
       "      <td>NQR456W</td>\n",
       "      <td>BMT</td>\n",
       "      <td>REGULAR</td>\n",
       "      <td>7035292</td>\n",
       "      <td>2384875</td>\n",
       "      <td>5</td>\n",
       "      <td>4</td>\n",
       "    </tr>\n",
       "    <tr>\n",
       "      <td>3</td>\n",
       "      <td>2019-04-27 12:00:00</td>\n",
       "      <td>A002</td>\n",
       "      <td>R051</td>\n",
       "      <td>02-00-00</td>\n",
       "      <td>59 ST</td>\n",
       "      <td>NQR456W</td>\n",
       "      <td>BMT</td>\n",
       "      <td>REGULAR</td>\n",
       "      <td>7035392</td>\n",
       "      <td>2384951</td>\n",
       "      <td>5</td>\n",
       "      <td>4</td>\n",
       "    </tr>\n",
       "    <tr>\n",
       "      <td>4</td>\n",
       "      <td>2019-04-27 16:00:00</td>\n",
       "      <td>A002</td>\n",
       "      <td>R051</td>\n",
       "      <td>02-00-00</td>\n",
       "      <td>59 ST</td>\n",
       "      <td>NQR456W</td>\n",
       "      <td>BMT</td>\n",
       "      <td>REGULAR</td>\n",
       "      <td>7035651</td>\n",
       "      <td>2385020</td>\n",
       "      <td>5</td>\n",
       "      <td>4</td>\n",
       "    </tr>\n",
       "  </tbody>\n",
       "</table>\n",
       "</div>"
      ],
      "text/plain": [
       "            DATE_TIME    CA  UNIT       SCP STATION LINENAME DIVISION  \\\n",
       "0 2019-04-27 00:00:00  A002  R051  02-00-00   59 ST  NQR456W      BMT   \n",
       "1 2019-04-27 04:00:00  A002  R051  02-00-00   59 ST  NQR456W      BMT   \n",
       "2 2019-04-27 08:00:00  A002  R051  02-00-00   59 ST  NQR456W      BMT   \n",
       "3 2019-04-27 12:00:00  A002  R051  02-00-00   59 ST  NQR456W      BMT   \n",
       "4 2019-04-27 16:00:00  A002  R051  02-00-00   59 ST  NQR456W      BMT   \n",
       "\n",
       "      DESC  ENTRIES    EXITS  day_of_week  MONTH  \n",
       "0  REGULAR  7035249  2384833            5      4  \n",
       "1  REGULAR  7035269  2384840            5      4  \n",
       "2  REGULAR  7035292  2384875            5      4  \n",
       "3  REGULAR  7035392  2384951            5      4  \n",
       "4  REGULAR  7035651  2385020            5      4  "
      ]
     },
     "execution_count": 7,
     "metadata": {},
     "output_type": "execute_result"
    }
   ],
   "source": [
    "df.head()"
   ]
  },
  {
   "cell_type": "code",
   "execution_count": 8,
   "metadata": {},
   "outputs": [],
   "source": [
    "df[\"ENTRIES_DAY_BEFORE\"] = (df.groupby([\"CA\", \"UNIT\", \"SCP\", \"STATION\"])[\"ENTRIES\"].transform(lambda grp: grp.shift(1)))"
   ]
  },
  {
   "cell_type": "code",
   "execution_count": 9,
   "metadata": {},
   "outputs": [],
   "source": [
    "df[\"EXITS_DAY_BEFORE\"] = (df.groupby([\"CA\", \"UNIT\", \"SCP\", \"STATION\"])[\"EXITS\"].transform(lambda grp: grp.shift(1)))"
   ]
  },
  {
   "cell_type": "code",
   "execution_count": 10,
   "metadata": {},
   "outputs": [
    {
     "data": {
      "text/html": [
       "<div>\n",
       "<style scoped>\n",
       "    .dataframe tbody tr th:only-of-type {\n",
       "        vertical-align: middle;\n",
       "    }\n",
       "\n",
       "    .dataframe tbody tr th {\n",
       "        vertical-align: top;\n",
       "    }\n",
       "\n",
       "    .dataframe thead th {\n",
       "        text-align: right;\n",
       "    }\n",
       "</style>\n",
       "<table border=\"1\" class=\"dataframe\">\n",
       "  <thead>\n",
       "    <tr style=\"text-align: right;\">\n",
       "      <th></th>\n",
       "      <th>DATE_TIME</th>\n",
       "      <th>CA</th>\n",
       "      <th>UNIT</th>\n",
       "      <th>SCP</th>\n",
       "      <th>STATION</th>\n",
       "      <th>LINENAME</th>\n",
       "      <th>DIVISION</th>\n",
       "      <th>DESC</th>\n",
       "      <th>ENTRIES</th>\n",
       "      <th>EXITS</th>\n",
       "      <th>day_of_week</th>\n",
       "      <th>MONTH</th>\n",
       "      <th>ENTRIES_DAY_BEFORE</th>\n",
       "      <th>EXITS_DAY_BEFORE</th>\n",
       "    </tr>\n",
       "  </thead>\n",
       "  <tbody>\n",
       "    <tr>\n",
       "      <td>0</td>\n",
       "      <td>2019-04-27 00:00:00</td>\n",
       "      <td>A002</td>\n",
       "      <td>R051</td>\n",
       "      <td>02-00-00</td>\n",
       "      <td>59 ST</td>\n",
       "      <td>NQR456W</td>\n",
       "      <td>BMT</td>\n",
       "      <td>REGULAR</td>\n",
       "      <td>7035249</td>\n",
       "      <td>2384833</td>\n",
       "      <td>5</td>\n",
       "      <td>4</td>\n",
       "      <td>NaN</td>\n",
       "      <td>NaN</td>\n",
       "    </tr>\n",
       "    <tr>\n",
       "      <td>1</td>\n",
       "      <td>2019-04-27 04:00:00</td>\n",
       "      <td>A002</td>\n",
       "      <td>R051</td>\n",
       "      <td>02-00-00</td>\n",
       "      <td>59 ST</td>\n",
       "      <td>NQR456W</td>\n",
       "      <td>BMT</td>\n",
       "      <td>REGULAR</td>\n",
       "      <td>7035269</td>\n",
       "      <td>2384840</td>\n",
       "      <td>5</td>\n",
       "      <td>4</td>\n",
       "      <td>7035249.0</td>\n",
       "      <td>2384833.0</td>\n",
       "    </tr>\n",
       "    <tr>\n",
       "      <td>2</td>\n",
       "      <td>2019-04-27 08:00:00</td>\n",
       "      <td>A002</td>\n",
       "      <td>R051</td>\n",
       "      <td>02-00-00</td>\n",
       "      <td>59 ST</td>\n",
       "      <td>NQR456W</td>\n",
       "      <td>BMT</td>\n",
       "      <td>REGULAR</td>\n",
       "      <td>7035292</td>\n",
       "      <td>2384875</td>\n",
       "      <td>5</td>\n",
       "      <td>4</td>\n",
       "      <td>7035269.0</td>\n",
       "      <td>2384840.0</td>\n",
       "    </tr>\n",
       "    <tr>\n",
       "      <td>3</td>\n",
       "      <td>2019-04-27 12:00:00</td>\n",
       "      <td>A002</td>\n",
       "      <td>R051</td>\n",
       "      <td>02-00-00</td>\n",
       "      <td>59 ST</td>\n",
       "      <td>NQR456W</td>\n",
       "      <td>BMT</td>\n",
       "      <td>REGULAR</td>\n",
       "      <td>7035392</td>\n",
       "      <td>2384951</td>\n",
       "      <td>5</td>\n",
       "      <td>4</td>\n",
       "      <td>7035292.0</td>\n",
       "      <td>2384875.0</td>\n",
       "    </tr>\n",
       "    <tr>\n",
       "      <td>4</td>\n",
       "      <td>2019-04-27 16:00:00</td>\n",
       "      <td>A002</td>\n",
       "      <td>R051</td>\n",
       "      <td>02-00-00</td>\n",
       "      <td>59 ST</td>\n",
       "      <td>NQR456W</td>\n",
       "      <td>BMT</td>\n",
       "      <td>REGULAR</td>\n",
       "      <td>7035651</td>\n",
       "      <td>2385020</td>\n",
       "      <td>5</td>\n",
       "      <td>4</td>\n",
       "      <td>7035392.0</td>\n",
       "      <td>2384951.0</td>\n",
       "    </tr>\n",
       "  </tbody>\n",
       "</table>\n",
       "</div>"
      ],
      "text/plain": [
       "            DATE_TIME    CA  UNIT       SCP STATION LINENAME DIVISION  \\\n",
       "0 2019-04-27 00:00:00  A002  R051  02-00-00   59 ST  NQR456W      BMT   \n",
       "1 2019-04-27 04:00:00  A002  R051  02-00-00   59 ST  NQR456W      BMT   \n",
       "2 2019-04-27 08:00:00  A002  R051  02-00-00   59 ST  NQR456W      BMT   \n",
       "3 2019-04-27 12:00:00  A002  R051  02-00-00   59 ST  NQR456W      BMT   \n",
       "4 2019-04-27 16:00:00  A002  R051  02-00-00   59 ST  NQR456W      BMT   \n",
       "\n",
       "      DESC  ENTRIES    EXITS  day_of_week  MONTH  ENTRIES_DAY_BEFORE  \\\n",
       "0  REGULAR  7035249  2384833            5      4                 NaN   \n",
       "1  REGULAR  7035269  2384840            5      4           7035249.0   \n",
       "2  REGULAR  7035292  2384875            5      4           7035269.0   \n",
       "3  REGULAR  7035392  2384951            5      4           7035292.0   \n",
       "4  REGULAR  7035651  2385020            5      4           7035392.0   \n",
       "\n",
       "   EXITS_DAY_BEFORE  \n",
       "0               NaN  \n",
       "1         2384833.0  \n",
       "2         2384840.0  \n",
       "3         2384875.0  \n",
       "4         2384951.0  "
      ]
     },
     "execution_count": 10,
     "metadata": {},
     "output_type": "execute_result"
    }
   ],
   "source": [
    "df.head()"
   ]
  },
  {
   "cell_type": "code",
   "execution_count": 11,
   "metadata": {},
   "outputs": [],
   "source": [
    "df.dropna(subset=[\"ENTRIES_DAY_BEFORE\"], axis=0, inplace=True)"
   ]
  },
  {
   "cell_type": "code",
   "execution_count": 12,
   "metadata": {},
   "outputs": [],
   "source": [
    "def get_daily_counts(row, max_counter):\n",
    "    counter = row[\"ENTRIES\"] - row[\"ENTRIES_DAY_BEFORE\"] + row[\"EXITS\"] - row[\"EXITS_DAY_BEFORE\"]\n",
    "    if counter < 0:\n",
    "        counter = -counter\n",
    "    if counter > max_counter:\n",
    "        #print(row[\"ENTRIES\"], row[\"PREV_ENTRIES\"])\n",
    "        return 0\n",
    "    return counter"
   ]
  },
  {
   "cell_type": "code",
   "execution_count": 13,
   "metadata": {},
   "outputs": [],
   "source": [
    "df[\"HOURLY_SUM\"] = df.apply(get_daily_counts, axis=1, max_counter=1000000)"
   ]
  },
  {
   "cell_type": "code",
   "execution_count": 14,
   "metadata": {},
   "outputs": [
    {
     "data": {
      "text/html": [
       "<div>\n",
       "<style scoped>\n",
       "    .dataframe tbody tr th:only-of-type {\n",
       "        vertical-align: middle;\n",
       "    }\n",
       "\n",
       "    .dataframe tbody tr th {\n",
       "        vertical-align: top;\n",
       "    }\n",
       "\n",
       "    .dataframe thead th {\n",
       "        text-align: right;\n",
       "    }\n",
       "</style>\n",
       "<table border=\"1\" class=\"dataframe\">\n",
       "  <thead>\n",
       "    <tr style=\"text-align: right;\">\n",
       "      <th></th>\n",
       "      <th>DATE_TIME</th>\n",
       "      <th>CA</th>\n",
       "      <th>UNIT</th>\n",
       "      <th>SCP</th>\n",
       "      <th>STATION</th>\n",
       "      <th>LINENAME</th>\n",
       "      <th>DIVISION</th>\n",
       "      <th>DESC</th>\n",
       "      <th>ENTRIES</th>\n",
       "      <th>EXITS</th>\n",
       "      <th>day_of_week</th>\n",
       "      <th>MONTH</th>\n",
       "      <th>ENTRIES_DAY_BEFORE</th>\n",
       "      <th>EXITS_DAY_BEFORE</th>\n",
       "      <th>HOURLY_SUM</th>\n",
       "    </tr>\n",
       "  </thead>\n",
       "  <tbody>\n",
       "    <tr>\n",
       "      <td>1</td>\n",
       "      <td>2019-04-27 04:00:00</td>\n",
       "      <td>A002</td>\n",
       "      <td>R051</td>\n",
       "      <td>02-00-00</td>\n",
       "      <td>59 ST</td>\n",
       "      <td>NQR456W</td>\n",
       "      <td>BMT</td>\n",
       "      <td>REGULAR</td>\n",
       "      <td>7035269</td>\n",
       "      <td>2384840</td>\n",
       "      <td>5</td>\n",
       "      <td>4</td>\n",
       "      <td>7035249.0</td>\n",
       "      <td>2384833.0</td>\n",
       "      <td>27.0</td>\n",
       "    </tr>\n",
       "    <tr>\n",
       "      <td>2</td>\n",
       "      <td>2019-04-27 08:00:00</td>\n",
       "      <td>A002</td>\n",
       "      <td>R051</td>\n",
       "      <td>02-00-00</td>\n",
       "      <td>59 ST</td>\n",
       "      <td>NQR456W</td>\n",
       "      <td>BMT</td>\n",
       "      <td>REGULAR</td>\n",
       "      <td>7035292</td>\n",
       "      <td>2384875</td>\n",
       "      <td>5</td>\n",
       "      <td>4</td>\n",
       "      <td>7035269.0</td>\n",
       "      <td>2384840.0</td>\n",
       "      <td>58.0</td>\n",
       "    </tr>\n",
       "    <tr>\n",
       "      <td>3</td>\n",
       "      <td>2019-04-27 12:00:00</td>\n",
       "      <td>A002</td>\n",
       "      <td>R051</td>\n",
       "      <td>02-00-00</td>\n",
       "      <td>59 ST</td>\n",
       "      <td>NQR456W</td>\n",
       "      <td>BMT</td>\n",
       "      <td>REGULAR</td>\n",
       "      <td>7035392</td>\n",
       "      <td>2384951</td>\n",
       "      <td>5</td>\n",
       "      <td>4</td>\n",
       "      <td>7035292.0</td>\n",
       "      <td>2384875.0</td>\n",
       "      <td>176.0</td>\n",
       "    </tr>\n",
       "    <tr>\n",
       "      <td>4</td>\n",
       "      <td>2019-04-27 16:00:00</td>\n",
       "      <td>A002</td>\n",
       "      <td>R051</td>\n",
       "      <td>02-00-00</td>\n",
       "      <td>59 ST</td>\n",
       "      <td>NQR456W</td>\n",
       "      <td>BMT</td>\n",
       "      <td>REGULAR</td>\n",
       "      <td>7035651</td>\n",
       "      <td>2385020</td>\n",
       "      <td>5</td>\n",
       "      <td>4</td>\n",
       "      <td>7035392.0</td>\n",
       "      <td>2384951.0</td>\n",
       "      <td>328.0</td>\n",
       "    </tr>\n",
       "    <tr>\n",
       "      <td>5</td>\n",
       "      <td>2019-04-27 20:00:00</td>\n",
       "      <td>A002</td>\n",
       "      <td>R051</td>\n",
       "      <td>02-00-00</td>\n",
       "      <td>59 ST</td>\n",
       "      <td>NQR456W</td>\n",
       "      <td>BMT</td>\n",
       "      <td>REGULAR</td>\n",
       "      <td>7035930</td>\n",
       "      <td>2385070</td>\n",
       "      <td>5</td>\n",
       "      <td>4</td>\n",
       "      <td>7035651.0</td>\n",
       "      <td>2385020.0</td>\n",
       "      <td>329.0</td>\n",
       "    </tr>\n",
       "  </tbody>\n",
       "</table>\n",
       "</div>"
      ],
      "text/plain": [
       "            DATE_TIME    CA  UNIT       SCP STATION LINENAME DIVISION  \\\n",
       "1 2019-04-27 04:00:00  A002  R051  02-00-00   59 ST  NQR456W      BMT   \n",
       "2 2019-04-27 08:00:00  A002  R051  02-00-00   59 ST  NQR456W      BMT   \n",
       "3 2019-04-27 12:00:00  A002  R051  02-00-00   59 ST  NQR456W      BMT   \n",
       "4 2019-04-27 16:00:00  A002  R051  02-00-00   59 ST  NQR456W      BMT   \n",
       "5 2019-04-27 20:00:00  A002  R051  02-00-00   59 ST  NQR456W      BMT   \n",
       "\n",
       "      DESC  ENTRIES    EXITS  day_of_week  MONTH  ENTRIES_DAY_BEFORE  \\\n",
       "1  REGULAR  7035269  2384840            5      4           7035249.0   \n",
       "2  REGULAR  7035292  2384875            5      4           7035269.0   \n",
       "3  REGULAR  7035392  2384951            5      4           7035292.0   \n",
       "4  REGULAR  7035651  2385020            5      4           7035392.0   \n",
       "5  REGULAR  7035930  2385070            5      4           7035651.0   \n",
       "\n",
       "   EXITS_DAY_BEFORE  HOURLY_SUM  \n",
       "1         2384833.0        27.0  \n",
       "2         2384840.0        58.0  \n",
       "3         2384875.0       176.0  \n",
       "4         2384951.0       328.0  \n",
       "5         2385020.0       329.0  "
      ]
     },
     "execution_count": 14,
     "metadata": {},
     "output_type": "execute_result"
    }
   ],
   "source": [
    "df.head()"
   ]
  },
  {
   "cell_type": "code",
   "execution_count": 15,
   "metadata": {},
   "outputs": [],
   "source": [
    "df[\"HOURLY_SUM\"] = df.groupby(['SCP','MONTH']).HOURLY_SUM.transform(lambda x: np.where((x<0)|(x>35000),x.mask((x<0)|(x>35000)).mean(),x))\n",
    "#df[\"EXITS_DAY_BEFORE\"] = df.groupby(['SCP','MONTH']).EXITS_DAY_BEFORE.transform(lambda x: np.where((x<0)|(x>20000),x.mask((x<0)|(x>20000)).mean(),x))"
   ]
  },
  {
   "cell_type": "code",
   "execution_count": 16,
   "metadata": {},
   "outputs": [
    {
     "data": {
      "text/html": [
       "<div>\n",
       "<style scoped>\n",
       "    .dataframe tbody tr th:only-of-type {\n",
       "        vertical-align: middle;\n",
       "    }\n",
       "\n",
       "    .dataframe tbody tr th {\n",
       "        vertical-align: top;\n",
       "    }\n",
       "\n",
       "    .dataframe thead th {\n",
       "        text-align: right;\n",
       "    }\n",
       "</style>\n",
       "<table border=\"1\" class=\"dataframe\">\n",
       "  <thead>\n",
       "    <tr style=\"text-align: right;\">\n",
       "      <th></th>\n",
       "      <th>DATE_TIME</th>\n",
       "      <th>CA</th>\n",
       "      <th>UNIT</th>\n",
       "      <th>SCP</th>\n",
       "      <th>STATION</th>\n",
       "      <th>LINENAME</th>\n",
       "      <th>DIVISION</th>\n",
       "      <th>DESC</th>\n",
       "      <th>ENTRIES</th>\n",
       "      <th>EXITS</th>\n",
       "      <th>day_of_week</th>\n",
       "      <th>MONTH</th>\n",
       "      <th>ENTRIES_DAY_BEFORE</th>\n",
       "      <th>EXITS_DAY_BEFORE</th>\n",
       "      <th>HOURLY_SUM</th>\n",
       "    </tr>\n",
       "  </thead>\n",
       "  <tbody>\n",
       "    <tr>\n",
       "      <td>1</td>\n",
       "      <td>2019-04-27 04:00:00</td>\n",
       "      <td>A002</td>\n",
       "      <td>R051</td>\n",
       "      <td>02-00-00</td>\n",
       "      <td>59 ST</td>\n",
       "      <td>NQR456W</td>\n",
       "      <td>BMT</td>\n",
       "      <td>REGULAR</td>\n",
       "      <td>7035269</td>\n",
       "      <td>2384840</td>\n",
       "      <td>5</td>\n",
       "      <td>4</td>\n",
       "      <td>7035249.0</td>\n",
       "      <td>2384833.0</td>\n",
       "      <td>27.0</td>\n",
       "    </tr>\n",
       "    <tr>\n",
       "      <td>2</td>\n",
       "      <td>2019-04-27 08:00:00</td>\n",
       "      <td>A002</td>\n",
       "      <td>R051</td>\n",
       "      <td>02-00-00</td>\n",
       "      <td>59 ST</td>\n",
       "      <td>NQR456W</td>\n",
       "      <td>BMT</td>\n",
       "      <td>REGULAR</td>\n",
       "      <td>7035292</td>\n",
       "      <td>2384875</td>\n",
       "      <td>5</td>\n",
       "      <td>4</td>\n",
       "      <td>7035269.0</td>\n",
       "      <td>2384840.0</td>\n",
       "      <td>58.0</td>\n",
       "    </tr>\n",
       "    <tr>\n",
       "      <td>3</td>\n",
       "      <td>2019-04-27 12:00:00</td>\n",
       "      <td>A002</td>\n",
       "      <td>R051</td>\n",
       "      <td>02-00-00</td>\n",
       "      <td>59 ST</td>\n",
       "      <td>NQR456W</td>\n",
       "      <td>BMT</td>\n",
       "      <td>REGULAR</td>\n",
       "      <td>7035392</td>\n",
       "      <td>2384951</td>\n",
       "      <td>5</td>\n",
       "      <td>4</td>\n",
       "      <td>7035292.0</td>\n",
       "      <td>2384875.0</td>\n",
       "      <td>176.0</td>\n",
       "    </tr>\n",
       "    <tr>\n",
       "      <td>4</td>\n",
       "      <td>2019-04-27 16:00:00</td>\n",
       "      <td>A002</td>\n",
       "      <td>R051</td>\n",
       "      <td>02-00-00</td>\n",
       "      <td>59 ST</td>\n",
       "      <td>NQR456W</td>\n",
       "      <td>BMT</td>\n",
       "      <td>REGULAR</td>\n",
       "      <td>7035651</td>\n",
       "      <td>2385020</td>\n",
       "      <td>5</td>\n",
       "      <td>4</td>\n",
       "      <td>7035392.0</td>\n",
       "      <td>2384951.0</td>\n",
       "      <td>328.0</td>\n",
       "    </tr>\n",
       "    <tr>\n",
       "      <td>5</td>\n",
       "      <td>2019-04-27 20:00:00</td>\n",
       "      <td>A002</td>\n",
       "      <td>R051</td>\n",
       "      <td>02-00-00</td>\n",
       "      <td>59 ST</td>\n",
       "      <td>NQR456W</td>\n",
       "      <td>BMT</td>\n",
       "      <td>REGULAR</td>\n",
       "      <td>7035930</td>\n",
       "      <td>2385070</td>\n",
       "      <td>5</td>\n",
       "      <td>4</td>\n",
       "      <td>7035651.0</td>\n",
       "      <td>2385020.0</td>\n",
       "      <td>329.0</td>\n",
       "    </tr>\n",
       "  </tbody>\n",
       "</table>\n",
       "</div>"
      ],
      "text/plain": [
       "            DATE_TIME    CA  UNIT       SCP STATION LINENAME DIVISION  \\\n",
       "1 2019-04-27 04:00:00  A002  R051  02-00-00   59 ST  NQR456W      BMT   \n",
       "2 2019-04-27 08:00:00  A002  R051  02-00-00   59 ST  NQR456W      BMT   \n",
       "3 2019-04-27 12:00:00  A002  R051  02-00-00   59 ST  NQR456W      BMT   \n",
       "4 2019-04-27 16:00:00  A002  R051  02-00-00   59 ST  NQR456W      BMT   \n",
       "5 2019-04-27 20:00:00  A002  R051  02-00-00   59 ST  NQR456W      BMT   \n",
       "\n",
       "      DESC  ENTRIES    EXITS  day_of_week  MONTH  ENTRIES_DAY_BEFORE  \\\n",
       "1  REGULAR  7035269  2384840            5      4           7035249.0   \n",
       "2  REGULAR  7035292  2384875            5      4           7035269.0   \n",
       "3  REGULAR  7035392  2384951            5      4           7035292.0   \n",
       "4  REGULAR  7035651  2385020            5      4           7035392.0   \n",
       "5  REGULAR  7035930  2385070            5      4           7035651.0   \n",
       "\n",
       "   EXITS_DAY_BEFORE  HOURLY_SUM  \n",
       "1         2384833.0        27.0  \n",
       "2         2384840.0        58.0  \n",
       "3         2384875.0       176.0  \n",
       "4         2384951.0       328.0  \n",
       "5         2385020.0       329.0  "
      ]
     },
     "execution_count": 16,
     "metadata": {},
     "output_type": "execute_result"
    }
   ],
   "source": [
    "df.head()"
   ]
  },
  {
   "cell_type": "code",
   "execution_count": 17,
   "metadata": {},
   "outputs": [
    {
     "name": "stdout",
     "output_type": "stream",
     "text": [
      "STATION\n",
      "34 ST-PENN STA     8.016840e+06\n",
      "GRD CNTRL-42 ST    6.853626e+06\n",
      "34 ST-HERALD SQ    5.702104e+06\n",
      "14 ST-UNION SQ     5.045479e+06\n",
      "TIMES SQ-42 ST     4.895134e+06\n",
      "23 ST              4.808342e+06\n",
      "42 ST-PORT AUTH    4.561923e+06\n",
      "FULTON ST          4.328372e+06\n",
      "86 ST              4.125384e+06\n",
      "125 ST             3.610646e+06\n",
      "59 ST COLUMBUS     3.389135e+06\n",
      "CANAL ST           3.331187e+06\n",
      "59 ST              3.022021e+06\n",
      "14 ST              2.987765e+06\n",
      "47-50 STS ROCK     2.930321e+06\n",
      "Name: HOURLY_SUM, dtype: float64\n"
     ]
    }
   ],
   "source": [
    "top_15_stations_with_sum = df.groupby(['STATION'])['HOURLY_SUM'].sum().sort_values(ascending = False).head(15)\n",
    "print(top_15_stations_with_sum)"
   ]
  },
  {
   "cell_type": "code",
   "execution_count": 18,
   "metadata": {},
   "outputs": [
    {
     "data": {
      "text/plain": [
       "STATION\n",
       "34 ST-PENN STA     8.016840e+06\n",
       "GRD CNTRL-42 ST    6.853626e+06\n",
       "34 ST-HERALD SQ    5.702104e+06\n",
       "14 ST-UNION SQ     5.045479e+06\n",
       "TIMES SQ-42 ST     4.895134e+06\n",
       "23 ST              4.808342e+06\n",
       "42 ST-PORT AUTH    4.561923e+06\n",
       "FULTON ST          4.328372e+06\n",
       "86 ST              4.125384e+06\n",
       "125 ST             3.610646e+06\n",
       "59 ST COLUMBUS     3.389135e+06\n",
       "CANAL ST           3.331187e+06\n",
       "59 ST              3.022021e+06\n",
       "14 ST              2.987765e+06\n",
       "47-50 STS ROCK     2.930321e+06\n",
       "Name: HOURLY_SUM, dtype: float64"
      ]
     },
     "execution_count": 18,
     "metadata": {},
     "output_type": "execute_result"
    }
   ],
   "source": [
    "top_15_stations_with_sum.head(16)"
   ]
  },
  {
   "cell_type": "code",
   "execution_count": 19,
   "metadata": {},
   "outputs": [],
   "source": [
    "top_15 = list(top_15_stations_with_sum.index[:])"
   ]
  },
  {
   "cell_type": "code",
   "execution_count": 20,
   "metadata": {},
   "outputs": [
    {
     "data": {
      "text/plain": [
       "['34 ST-PENN STA',\n",
       " 'GRD CNTRL-42 ST',\n",
       " '34 ST-HERALD SQ',\n",
       " '14 ST-UNION SQ',\n",
       " 'TIMES SQ-42 ST',\n",
       " '23 ST',\n",
       " '42 ST-PORT AUTH',\n",
       " 'FULTON ST',\n",
       " '86 ST',\n",
       " '125 ST',\n",
       " '59 ST COLUMBUS',\n",
       " 'CANAL ST',\n",
       " '59 ST',\n",
       " '14 ST',\n",
       " '47-50 STS ROCK']"
      ]
     },
     "execution_count": 20,
     "metadata": {},
     "output_type": "execute_result"
    }
   ],
   "source": [
    "top_15"
   ]
  },
  {
   "cell_type": "code",
   "execution_count": 21,
   "metadata": {},
   "outputs": [],
   "source": [
    "df_top_15 = df[df['STATION'].isin(top_15)]"
   ]
  },
  {
   "cell_type": "code",
   "execution_count": 22,
   "metadata": {},
   "outputs": [
    {
     "data": {
      "text/plain": [
       "15"
      ]
     },
     "execution_count": 22,
     "metadata": {},
     "output_type": "execute_result"
    }
   ],
   "source": [
    "df_top_15['STATION'].nunique()"
   ]
  },
  {
   "cell_type": "code",
   "execution_count": 23,
   "metadata": {},
   "outputs": [
    {
     "data": {
      "text/html": [
       "<div>\n",
       "<style scoped>\n",
       "    .dataframe tbody tr th:only-of-type {\n",
       "        vertical-align: middle;\n",
       "    }\n",
       "\n",
       "    .dataframe tbody tr th {\n",
       "        vertical-align: top;\n",
       "    }\n",
       "\n",
       "    .dataframe thead th {\n",
       "        text-align: right;\n",
       "    }\n",
       "</style>\n",
       "<table border=\"1\" class=\"dataframe\">\n",
       "  <thead>\n",
       "    <tr style=\"text-align: right;\">\n",
       "      <th></th>\n",
       "      <th>DATE_TIME</th>\n",
       "      <th>CA</th>\n",
       "      <th>UNIT</th>\n",
       "      <th>SCP</th>\n",
       "      <th>STATION</th>\n",
       "      <th>LINENAME</th>\n",
       "      <th>DIVISION</th>\n",
       "      <th>DESC</th>\n",
       "      <th>ENTRIES</th>\n",
       "      <th>EXITS</th>\n",
       "      <th>day_of_week</th>\n",
       "      <th>MONTH</th>\n",
       "      <th>ENTRIES_DAY_BEFORE</th>\n",
       "      <th>EXITS_DAY_BEFORE</th>\n",
       "      <th>HOURLY_SUM</th>\n",
       "    </tr>\n",
       "  </thead>\n",
       "  <tbody>\n",
       "    <tr>\n",
       "      <td>1</td>\n",
       "      <td>2019-04-27 04:00:00</td>\n",
       "      <td>A002</td>\n",
       "      <td>R051</td>\n",
       "      <td>02-00-00</td>\n",
       "      <td>59 ST</td>\n",
       "      <td>NQR456W</td>\n",
       "      <td>BMT</td>\n",
       "      <td>REGULAR</td>\n",
       "      <td>7035269</td>\n",
       "      <td>2384840</td>\n",
       "      <td>5</td>\n",
       "      <td>4</td>\n",
       "      <td>7035249.0</td>\n",
       "      <td>2384833.0</td>\n",
       "      <td>27.0</td>\n",
       "    </tr>\n",
       "    <tr>\n",
       "      <td>2</td>\n",
       "      <td>2019-04-27 08:00:00</td>\n",
       "      <td>A002</td>\n",
       "      <td>R051</td>\n",
       "      <td>02-00-00</td>\n",
       "      <td>59 ST</td>\n",
       "      <td>NQR456W</td>\n",
       "      <td>BMT</td>\n",
       "      <td>REGULAR</td>\n",
       "      <td>7035292</td>\n",
       "      <td>2384875</td>\n",
       "      <td>5</td>\n",
       "      <td>4</td>\n",
       "      <td>7035269.0</td>\n",
       "      <td>2384840.0</td>\n",
       "      <td>58.0</td>\n",
       "    </tr>\n",
       "    <tr>\n",
       "      <td>3</td>\n",
       "      <td>2019-04-27 12:00:00</td>\n",
       "      <td>A002</td>\n",
       "      <td>R051</td>\n",
       "      <td>02-00-00</td>\n",
       "      <td>59 ST</td>\n",
       "      <td>NQR456W</td>\n",
       "      <td>BMT</td>\n",
       "      <td>REGULAR</td>\n",
       "      <td>7035392</td>\n",
       "      <td>2384951</td>\n",
       "      <td>5</td>\n",
       "      <td>4</td>\n",
       "      <td>7035292.0</td>\n",
       "      <td>2384875.0</td>\n",
       "      <td>176.0</td>\n",
       "    </tr>\n",
       "    <tr>\n",
       "      <td>4</td>\n",
       "      <td>2019-04-27 16:00:00</td>\n",
       "      <td>A002</td>\n",
       "      <td>R051</td>\n",
       "      <td>02-00-00</td>\n",
       "      <td>59 ST</td>\n",
       "      <td>NQR456W</td>\n",
       "      <td>BMT</td>\n",
       "      <td>REGULAR</td>\n",
       "      <td>7035651</td>\n",
       "      <td>2385020</td>\n",
       "      <td>5</td>\n",
       "      <td>4</td>\n",
       "      <td>7035392.0</td>\n",
       "      <td>2384951.0</td>\n",
       "      <td>328.0</td>\n",
       "    </tr>\n",
       "    <tr>\n",
       "      <td>5</td>\n",
       "      <td>2019-04-27 20:00:00</td>\n",
       "      <td>A002</td>\n",
       "      <td>R051</td>\n",
       "      <td>02-00-00</td>\n",
       "      <td>59 ST</td>\n",
       "      <td>NQR456W</td>\n",
       "      <td>BMT</td>\n",
       "      <td>REGULAR</td>\n",
       "      <td>7035930</td>\n",
       "      <td>2385070</td>\n",
       "      <td>5</td>\n",
       "      <td>4</td>\n",
       "      <td>7035651.0</td>\n",
       "      <td>2385020.0</td>\n",
       "      <td>329.0</td>\n",
       "    </tr>\n",
       "  </tbody>\n",
       "</table>\n",
       "</div>"
      ],
      "text/plain": [
       "            DATE_TIME    CA  UNIT       SCP STATION LINENAME DIVISION  \\\n",
       "1 2019-04-27 04:00:00  A002  R051  02-00-00   59 ST  NQR456W      BMT   \n",
       "2 2019-04-27 08:00:00  A002  R051  02-00-00   59 ST  NQR456W      BMT   \n",
       "3 2019-04-27 12:00:00  A002  R051  02-00-00   59 ST  NQR456W      BMT   \n",
       "4 2019-04-27 16:00:00  A002  R051  02-00-00   59 ST  NQR456W      BMT   \n",
       "5 2019-04-27 20:00:00  A002  R051  02-00-00   59 ST  NQR456W      BMT   \n",
       "\n",
       "      DESC  ENTRIES    EXITS  day_of_week  MONTH  ENTRIES_DAY_BEFORE  \\\n",
       "1  REGULAR  7035269  2384840            5      4           7035249.0   \n",
       "2  REGULAR  7035292  2384875            5      4           7035269.0   \n",
       "3  REGULAR  7035392  2384951            5      4           7035292.0   \n",
       "4  REGULAR  7035651  2385020            5      4           7035392.0   \n",
       "5  REGULAR  7035930  2385070            5      4           7035651.0   \n",
       "\n",
       "   EXITS_DAY_BEFORE  HOURLY_SUM  \n",
       "1         2384833.0        27.0  \n",
       "2         2384840.0        58.0  \n",
       "3         2384875.0       176.0  \n",
       "4         2384951.0       328.0  \n",
       "5         2385020.0       329.0  "
      ]
     },
     "execution_count": 23,
     "metadata": {},
     "output_type": "execute_result"
    }
   ],
   "source": [
    "df_top_15.head()"
   ]
  },
  {
   "cell_type": "code",
   "execution_count": 24,
   "metadata": {},
   "outputs": [],
   "source": [
    "gb_station_top15 = df_top_15.groupby(['STATION'])['HOURLY_SUM'].sum().sort_values(ascending=False).head(15)"
   ]
  },
  {
   "cell_type": "code",
   "execution_count": 25,
   "metadata": {},
   "outputs": [
    {
     "data": {
      "text/plain": [
       "<matplotlib.axes._subplots.AxesSubplot at 0x108d47a10>"
      ]
     },
     "execution_count": 25,
     "metadata": {},
     "output_type": "execute_result"
    },
    {
     "data": {
      "image/png": "[encoded data removed]",
      "text/plain": [
       "<Figure size 432x288 with 1 Axes>"
      ]
     },
     "metadata": {
      "needs_background": "light"
     },
     "output_type": "display_data"
    }
   ],
   "source": [
    "gb_station_top15.plot(kind='bar',title= \"Top 15 Stations by Traffic in May 2019\")"
   ]
  },
  {
   "cell_type": "code",
   "execution_count": 26,
   "metadata": {},
   "outputs": [],
   "source": [
    "df_top_5 = df_top_15[df_top_15['STATION'].isin(['86 ST','59 ST COLUMBUS','23 ST','14 ST-UNION SQ','CANAL ST'])]"
   ]
  },
  {
   "cell_type": "code",
   "execution_count": 27,
   "metadata": {},
   "outputs": [],
   "source": [
    "gb_station_top5 = df_top_5.groupby(['STATION'])['HOURLY_SUM'].sum().sort_values(ascending=False).head(15)"
   ]
  },
  {
   "cell_type": "code",
   "execution_count": 28,
   "metadata": {},
   "outputs": [
    {
     "data": {
      "text/plain": [
       "<matplotlib.axes._subplots.AxesSubplot at 0x1a1d415510>"
      ]
     },
     "execution_count": 28,
     "metadata": {},
     "output_type": "execute_result"
    },
    {
     "data": {
      "image/png": "[encoded data removed]",
      "text/plain": [
       "<Figure size 432x288 with 1 Axes>"
      ]
     },
     "metadata": {
      "needs_background": "light"
     },
     "output_type": "display_data"
    }
   ],
   "source": [
    "gb_station_top5.plot(kind='bar',title= \"MAY 2019 Best 5 Stations for Entries/Exits in Highest Median Income Area\")"
   ]
  },
  {
   "cell_type": "code",
   "execution_count": 29,
   "metadata": {},
   "outputs": [
    {
     "data": {
      "text/html": [
       "<div>\n",
       "<style scoped>\n",
       "    .dataframe tbody tr th:only-of-type {\n",
       "        vertical-align: middle;\n",
       "    }\n",
       "\n",
       "    .dataframe tbody tr th {\n",
       "        vertical-align: top;\n",
       "    }\n",
       "\n",
       "    .dataframe thead th {\n",
       "        text-align: right;\n",
       "    }\n",
       "</style>\n",
       "<table border=\"1\" class=\"dataframe\">\n",
       "  <thead>\n",
       "    <tr style=\"text-align: right;\">\n",
       "      <th></th>\n",
       "      <th>DATE_TIME</th>\n",
       "      <th>CA</th>\n",
       "      <th>UNIT</th>\n",
       "      <th>SCP</th>\n",
       "      <th>STATION</th>\n",
       "      <th>LINENAME</th>\n",
       "      <th>DIVISION</th>\n",
       "      <th>DESC</th>\n",
       "      <th>ENTRIES</th>\n",
       "      <th>EXITS</th>\n",
       "      <th>day_of_week</th>\n",
       "      <th>MONTH</th>\n",
       "      <th>ENTRIES_DAY_BEFORE</th>\n",
       "      <th>EXITS_DAY_BEFORE</th>\n",
       "      <th>HOURLY_SUM</th>\n",
       "    </tr>\n",
       "  </thead>\n",
       "  <tbody>\n",
       "    <tr>\n",
       "      <td>162119</td>\n",
       "      <td>2019-05-23 08:00:00</td>\n",
       "      <td>R250</td>\n",
       "      <td>R179</td>\n",
       "      <td>00-00-0B</td>\n",
       "      <td>86 ST</td>\n",
       "      <td>456</td>\n",
       "      <td>IRT</td>\n",
       "      <td>REGULAR</td>\n",
       "      <td>972632609</td>\n",
       "      <td>301819543</td>\n",
       "      <td>3</td>\n",
       "      <td>5</td>\n",
       "      <td>972632892.0</td>\n",
       "      <td>301819870.0</td>\n",
       "      <td>610.0</td>\n",
       "    </tr>\n",
       "    <tr>\n",
       "      <td>162120</td>\n",
       "      <td>2019-05-23 12:00:00</td>\n",
       "      <td>R250</td>\n",
       "      <td>R179</td>\n",
       "      <td>00-00-0B</td>\n",
       "      <td>86 ST</td>\n",
       "      <td>456</td>\n",
       "      <td>IRT</td>\n",
       "      <td>REGULAR</td>\n",
       "      <td>972631342</td>\n",
       "      <td>301819220</td>\n",
       "      <td>3</td>\n",
       "      <td>5</td>\n",
       "      <td>972632609.0</td>\n",
       "      <td>301819543.0</td>\n",
       "      <td>1590.0</td>\n",
       "    </tr>\n",
       "    <tr>\n",
       "      <td>162121</td>\n",
       "      <td>2019-05-23 16:00:00</td>\n",
       "      <td>R250</td>\n",
       "      <td>R179</td>\n",
       "      <td>00-00-0B</td>\n",
       "      <td>86 ST</td>\n",
       "      <td>456</td>\n",
       "      <td>IRT</td>\n",
       "      <td>REGULAR</td>\n",
       "      <td>972630353</td>\n",
       "      <td>301818931</td>\n",
       "      <td>3</td>\n",
       "      <td>5</td>\n",
       "      <td>972631342.0</td>\n",
       "      <td>301819220.0</td>\n",
       "      <td>1278.0</td>\n",
       "    </tr>\n",
       "    <tr>\n",
       "      <td>162122</td>\n",
       "      <td>2019-05-23 20:00:00</td>\n",
       "      <td>R250</td>\n",
       "      <td>R179</td>\n",
       "      <td>00-00-0B</td>\n",
       "      <td>86 ST</td>\n",
       "      <td>456</td>\n",
       "      <td>IRT</td>\n",
       "      <td>REGULAR</td>\n",
       "      <td>972628940</td>\n",
       "      <td>301818738</td>\n",
       "      <td>3</td>\n",
       "      <td>5</td>\n",
       "      <td>972630353.0</td>\n",
       "      <td>301818931.0</td>\n",
       "      <td>1606.0</td>\n",
       "    </tr>\n",
       "    <tr>\n",
       "      <td>162123</td>\n",
       "      <td>2019-05-24 00:00:00</td>\n",
       "      <td>R250</td>\n",
       "      <td>R179</td>\n",
       "      <td>00-00-0B</td>\n",
       "      <td>86 ST</td>\n",
       "      <td>456</td>\n",
       "      <td>IRT</td>\n",
       "      <td>REGULAR</td>\n",
       "      <td>972628415</td>\n",
       "      <td>301818589</td>\n",
       "      <td>4</td>\n",
       "      <td>5</td>\n",
       "      <td>972628940.0</td>\n",
       "      <td>301818738.0</td>\n",
       "      <td>674.0</td>\n",
       "    </tr>\n",
       "    <tr>\n",
       "      <td>162124</td>\n",
       "      <td>2019-05-24 04:00:00</td>\n",
       "      <td>R250</td>\n",
       "      <td>R179</td>\n",
       "      <td>00-00-0B</td>\n",
       "      <td>86 ST</td>\n",
       "      <td>456</td>\n",
       "      <td>IRT</td>\n",
       "      <td>REGULAR</td>\n",
       "      <td>972628392</td>\n",
       "      <td>301818561</td>\n",
       "      <td>4</td>\n",
       "      <td>5</td>\n",
       "      <td>972628415.0</td>\n",
       "      <td>301818589.0</td>\n",
       "      <td>51.0</td>\n",
       "    </tr>\n",
       "    <tr>\n",
       "      <td>162125</td>\n",
       "      <td>2019-05-24 08:00:00</td>\n",
       "      <td>R250</td>\n",
       "      <td>R179</td>\n",
       "      <td>00-00-0B</td>\n",
       "      <td>86 ST</td>\n",
       "      <td>456</td>\n",
       "      <td>IRT</td>\n",
       "      <td>REGULAR</td>\n",
       "      <td>972628124</td>\n",
       "      <td>301818205</td>\n",
       "      <td>4</td>\n",
       "      <td>5</td>\n",
       "      <td>972628392.0</td>\n",
       "      <td>301818561.0</td>\n",
       "      <td>624.0</td>\n",
       "    </tr>\n",
       "    <tr>\n",
       "      <td>162126</td>\n",
       "      <td>2019-05-24 12:00:00</td>\n",
       "      <td>R250</td>\n",
       "      <td>R179</td>\n",
       "      <td>00-00-0B</td>\n",
       "      <td>86 ST</td>\n",
       "      <td>456</td>\n",
       "      <td>IRT</td>\n",
       "      <td>REGULAR</td>\n",
       "      <td>972627177</td>\n",
       "      <td>301817842</td>\n",
       "      <td>4</td>\n",
       "      <td>5</td>\n",
       "      <td>972628124.0</td>\n",
       "      <td>301818205.0</td>\n",
       "      <td>1310.0</td>\n",
       "    </tr>\n",
       "    <tr>\n",
       "      <td>162127</td>\n",
       "      <td>2019-05-24 16:00:00</td>\n",
       "      <td>R250</td>\n",
       "      <td>R179</td>\n",
       "      <td>00-00-0B</td>\n",
       "      <td>86 ST</td>\n",
       "      <td>456</td>\n",
       "      <td>IRT</td>\n",
       "      <td>REGULAR</td>\n",
       "      <td>972626304</td>\n",
       "      <td>301817547</td>\n",
       "      <td>4</td>\n",
       "      <td>5</td>\n",
       "      <td>972627177.0</td>\n",
       "      <td>301817842.0</td>\n",
       "      <td>1168.0</td>\n",
       "    </tr>\n",
       "    <tr>\n",
       "      <td>162128</td>\n",
       "      <td>2019-05-24 20:00:00</td>\n",
       "      <td>R250</td>\n",
       "      <td>R179</td>\n",
       "      <td>00-00-0B</td>\n",
       "      <td>86 ST</td>\n",
       "      <td>456</td>\n",
       "      <td>IRT</td>\n",
       "      <td>REGULAR</td>\n",
       "      <td>972625084</td>\n",
       "      <td>301817306</td>\n",
       "      <td>4</td>\n",
       "      <td>5</td>\n",
       "      <td>972626304.0</td>\n",
       "      <td>301817547.0</td>\n",
       "      <td>1461.0</td>\n",
       "    </tr>\n",
       "  </tbody>\n",
       "</table>\n",
       "</div>"
      ],
      "text/plain": [
       "                 DATE_TIME    CA  UNIT       SCP STATION LINENAME DIVISION  \\\n",
       "162119 2019-05-23 08:00:00  R250  R179  00-00-0B   86 ST      456      IRT   \n",
       "162120 2019-05-23 12:00:00  R250  R179  00-00-0B   86 ST      456      IRT   \n",
       "162121 2019-05-23 16:00:00  R250  R179  00-00-0B   86 ST      456      IRT   \n",
       "162122 2019-05-23 20:00:00  R250  R179  00-00-0B   86 ST      456      IRT   \n",
       "162123 2019-05-24 00:00:00  R250  R179  00-00-0B   86 ST      456      IRT   \n",
       "162124 2019-05-24 04:00:00  R250  R179  00-00-0B   86 ST      456      IRT   \n",
       "162125 2019-05-24 08:00:00  R250  R179  00-00-0B   86 ST      456      IRT   \n",
       "162126 2019-05-24 12:00:00  R250  R179  00-00-0B   86 ST      456      IRT   \n",
       "162127 2019-05-24 16:00:00  R250  R179  00-00-0B   86 ST      456      IRT   \n",
       "162128 2019-05-24 20:00:00  R250  R179  00-00-0B   86 ST      456      IRT   \n",
       "\n",
       "           DESC    ENTRIES      EXITS  day_of_week  MONTH  ENTRIES_DAY_BEFORE  \\\n",
       "162119  REGULAR  972632609  301819543            3      5         972632892.0   \n",
       "162120  REGULAR  972631342  301819220            3      5         972632609.0   \n",
       "162121  REGULAR  972630353  301818931            3      5         972631342.0   \n",
       "162122  REGULAR  972628940  301818738            3      5         972630353.0   \n",
       "162123  REGULAR  972628415  301818589            4      5         972628940.0   \n",
       "162124  REGULAR  972628392  301818561            4      5         972628415.0   \n",
       "162125  REGULAR  972628124  301818205            4      5         972628392.0   \n",
       "162126  REGULAR  972627177  301817842            4      5         972628124.0   \n",
       "162127  REGULAR  972626304  301817547            4      5         972627177.0   \n",
       "162128  REGULAR  972625084  301817306            4      5         972626304.0   \n",
       "\n",
       "        EXITS_DAY_BEFORE  HOURLY_SUM  \n",
       "162119       301819870.0       610.0  \n",
       "162120       301819543.0      1590.0  \n",
       "162121       301819220.0      1278.0  \n",
       "162122       301818931.0      1606.0  \n",
       "162123       301818738.0       674.0  \n",
       "162124       301818589.0        51.0  \n",
       "162125       301818561.0       624.0  \n",
       "162126       301818205.0      1310.0  \n",
       "162127       301817842.0      1168.0  \n",
       "162128       301817547.0      1461.0  "
      ]
     },
     "execution_count": 29,
     "metadata": {},
     "output_type": "execute_result"
    }
   ],
   "source": [
    "df_top_5.tail(10)"
   ]
  },
  {
   "cell_type": "code",
   "execution_count": 30,
   "metadata": {},
   "outputs": [],
   "source": [
    "gb_station_top5_by_day_of_week = df_top_5.groupby(['day_of_week'])['HOURLY_SUM'].sum().head(15)"
   ]
  },
  {
   "cell_type": "code",
   "execution_count": 31,
   "metadata": {},
   "outputs": [
    {
     "data": {
      "text/plain": [
       "<matplotlib.axes._subplots.AxesSubplot at 0x1a1d6dc850>"
      ]
     },
     "execution_count": 31,
     "metadata": {},
     "output_type": "execute_result"
    },
    {
     "data": {
      "image/png": "[encoded data removed]",
      "text/plain": [
       "<Figure size 432x288 with 1 Axes>"
      ]
     },
     "metadata": {
      "needs_background": "light"
     },
     "output_type": "display_data"
    }
   ],
   "source": [
    "gb_station_top5_by_day_of_week.plot(kind='bar',title= \"Top 5 Stations by Traffic in Highest Median Income Area\")"
   ]
  },
  {
   "cell_type": "code",
   "execution_count": 32,
   "metadata": {},
   "outputs": [],
   "source": [
    "df_top_5 = df_top_5.set_index('DATE_TIME')"
   ]
  },
  {
   "cell_type": "code",
   "execution_count": 43,
   "metadata": {},
   "outputs": [
    {
     "data": {
      "text/html": [
       "<div>\n",
       "<style scoped>\n",
       "    .dataframe tbody tr th:only-of-type {\n",
       "        vertical-align: middle;\n",
       "    }\n",
       "\n",
       "    .dataframe tbody tr th {\n",
       "        vertical-align: top;\n",
       "    }\n",
       "\n",
       "    .dataframe thead th {\n",
       "        text-align: right;\n",
       "    }\n",
       "</style>\n",
       "<table border=\"1\" class=\"dataframe\">\n",
       "  <thead>\n",
       "    <tr style=\"text-align: right;\">\n",
       "      <th></th>\n",
       "      <th>CA</th>\n",
       "      <th>UNIT</th>\n",
       "      <th>SCP</th>\n",
       "      <th>STATION</th>\n",
       "      <th>LINENAME</th>\n",
       "      <th>DIVISION</th>\n",
       "      <th>DESC</th>\n",
       "      <th>ENTRIES</th>\n",
       "      <th>EXITS</th>\n",
       "      <th>day_of_week</th>\n",
       "      <th>MONTH</th>\n",
       "      <th>ENTRIES_DAY_BEFORE</th>\n",
       "      <th>EXITS_DAY_BEFORE</th>\n",
       "      <th>HOURLY_SUM</th>\n",
       "    </tr>\n",
       "    <tr>\n",
       "      <th>DATE_TIME</th>\n",
       "      <th></th>\n",
       "      <th></th>\n",
       "      <th></th>\n",
       "      <th></th>\n",
       "      <th></th>\n",
       "      <th></th>\n",
       "      <th></th>\n",
       "      <th></th>\n",
       "      <th></th>\n",
       "      <th></th>\n",
       "      <th></th>\n",
       "      <th></th>\n",
       "      <th></th>\n",
       "      <th></th>\n",
       "    </tr>\n",
       "  </thead>\n",
       "  <tbody>\n",
       "    <tr>\n",
       "      <td>2019-04-27 04:00:00</td>\n",
       "      <td>A030</td>\n",
       "      <td>R083</td>\n",
       "      <td>01-00-00</td>\n",
       "      <td>23 ST</td>\n",
       "      <td>NRW</td>\n",
       "      <td>BMT</td>\n",
       "      <td>REGULAR</td>\n",
       "      <td>53384</td>\n",
       "      <td>65846</td>\n",
       "      <td>5</td>\n",
       "      <td>4</td>\n",
       "      <td>53384.0</td>\n",
       "      <td>65840.0</td>\n",
       "      <td>6.0</td>\n",
       "    </tr>\n",
       "    <tr>\n",
       "      <td>2019-04-27 08:00:00</td>\n",
       "      <td>A030</td>\n",
       "      <td>R083</td>\n",
       "      <td>01-00-00</td>\n",
       "      <td>23 ST</td>\n",
       "      <td>NRW</td>\n",
       "      <td>BMT</td>\n",
       "      <td>REGULAR</td>\n",
       "      <td>53384</td>\n",
       "      <td>65899</td>\n",
       "      <td>5</td>\n",
       "      <td>4</td>\n",
       "      <td>53384.0</td>\n",
       "      <td>65846.0</td>\n",
       "      <td>53.0</td>\n",
       "    </tr>\n",
       "    <tr>\n",
       "      <td>2019-04-27 12:00:00</td>\n",
       "      <td>A030</td>\n",
       "      <td>R083</td>\n",
       "      <td>01-00-00</td>\n",
       "      <td>23 ST</td>\n",
       "      <td>NRW</td>\n",
       "      <td>BMT</td>\n",
       "      <td>REGULAR</td>\n",
       "      <td>53384</td>\n",
       "      <td>66056</td>\n",
       "      <td>5</td>\n",
       "      <td>4</td>\n",
       "      <td>53384.0</td>\n",
       "      <td>65899.0</td>\n",
       "      <td>157.0</td>\n",
       "    </tr>\n",
       "    <tr>\n",
       "      <td>2019-04-27 16:00:00</td>\n",
       "      <td>A030</td>\n",
       "      <td>R083</td>\n",
       "      <td>01-00-00</td>\n",
       "      <td>23 ST</td>\n",
       "      <td>NRW</td>\n",
       "      <td>BMT</td>\n",
       "      <td>REGULAR</td>\n",
       "      <td>53384</td>\n",
       "      <td>66332</td>\n",
       "      <td>5</td>\n",
       "      <td>4</td>\n",
       "      <td>53384.0</td>\n",
       "      <td>66056.0</td>\n",
       "      <td>276.0</td>\n",
       "    </tr>\n",
       "    <tr>\n",
       "      <td>2019-04-27 20:00:00</td>\n",
       "      <td>A030</td>\n",
       "      <td>R083</td>\n",
       "      <td>01-00-00</td>\n",
       "      <td>23 ST</td>\n",
       "      <td>NRW</td>\n",
       "      <td>BMT</td>\n",
       "      <td>REGULAR</td>\n",
       "      <td>53384</td>\n",
       "      <td>66535</td>\n",
       "      <td>5</td>\n",
       "      <td>4</td>\n",
       "      <td>53384.0</td>\n",
       "      <td>66332.0</td>\n",
       "      <td>203.0</td>\n",
       "    </tr>\n",
       "  </tbody>\n",
       "</table>\n",
       "</div>"
      ],
      "text/plain": [
       "                       CA  UNIT       SCP STATION LINENAME DIVISION     DESC  \\\n",
       "DATE_TIME                                                                      \n",
       "2019-04-27 04:00:00  A030  R083  01-00-00   23 ST      NRW      BMT  REGULAR   \n",
       "2019-04-27 08:00:00  A030  R083  01-00-00   23 ST      NRW      BMT  REGULAR   \n",
       "2019-04-27 12:00:00  A030  R083  01-00-00   23 ST      NRW      BMT  REGULAR   \n",
       "2019-04-27 16:00:00  A030  R083  01-00-00   23 ST      NRW      BMT  REGULAR   \n",
       "2019-04-27 20:00:00  A030  R083  01-00-00   23 ST      NRW      BMT  REGULAR   \n",
       "\n",
       "                     ENTRIES  EXITS  day_of_week  MONTH  ENTRIES_DAY_BEFORE  \\\n",
       "DATE_TIME                                                                     \n",
       "2019-04-27 04:00:00    53384  65846            5      4             53384.0   \n",
       "2019-04-27 08:00:00    53384  65899            5      4             53384.0   \n",
       "2019-04-27 12:00:00    53384  66056            5      4             53384.0   \n",
       "2019-04-27 16:00:00    53384  66332            5      4             53384.0   \n",
       "2019-04-27 20:00:00    53384  66535            5      4             53384.0   \n",
       "\n",
       "                     EXITS_DAY_BEFORE  HOURLY_SUM  \n",
       "DATE_TIME                                          \n",
       "2019-04-27 04:00:00           65840.0         6.0  \n",
       "2019-04-27 08:00:00           65846.0        53.0  \n",
       "2019-04-27 12:00:00           65899.0       157.0  \n",
       "2019-04-27 16:00:00           66056.0       276.0  \n",
       "2019-04-27 20:00:00           66332.0       203.0  "
      ]
     },
     "execution_count": 43,
     "metadata": {},
     "output_type": "execute_result"
    }
   ],
   "source": [
    "df_top_5.head()"
   ]
  },
  {
   "cell_type": "code",
   "execution_count": 34,
   "metadata": {},
   "outputs": [],
   "source": [
    "fourH_hourly_sum_top_5 = df_top_5.groupby(['STATION'])['HOURLY_SUM'].resample('4H').sum()"
   ]
  },
  {
   "cell_type": "code",
   "execution_count": 35,
   "metadata": {},
   "outputs": [
    {
     "data": {
      "text/plain": [
       "<matplotlib.axes._subplots.AxesSubplot at 0x1a1d28a310>"
      ]
     },
     "execution_count": 35,
     "metadata": {},
     "output_type": "execute_result"
    },
    {
     "data": {
      "image/png": "[encoded data removed]",
      "text/plain": [
       "<Figure size 432x288 with 1 Axes>"
      ]
     },
     "metadata": {
      "needs_background": "light"
     },
     "output_type": "display_data"
    }
   ],
   "source": [
    "fourH_hourly_sum_top_5.plot(kind='line', legend=True)"
   ]
  },
  {
   "cell_type": "code",
   "execution_count": 36,
   "metadata": {},
   "outputs": [
    {
     "data": {
      "image/png": "[encoded data removed]",
      "text/plain": [
       "<Figure size 432x288 with 1 Axes>"
      ]
     },
     "metadata": {
      "needs_background": "light"
     },
     "output_type": "display_data"
    }
   ],
   "source": [
    "fourH_hourly_sum_top_5.plot(kind='line', legend=True).get_figure().savefig('output.png')"
   ]
  },
  {
   "cell_type": "code",
   "execution_count": 38,
   "metadata": {},
   "outputs": [
    {
     "data": {
      "text/plain": [
       "MultiIndex([('14 ST-UNION SQ', '2019-04-27 00:00:00'),\n",
       "            ('14 ST-UNION SQ', '2019-04-27 04:00:00'),\n",
       "            ('14 ST-UNION SQ', '2019-04-27 08:00:00'),\n",
       "            ('14 ST-UNION SQ', '2019-04-27 12:00:00'),\n",
       "            ('14 ST-UNION SQ', '2019-04-27 16:00:00'),\n",
       "            ('14 ST-UNION SQ', '2019-04-27 20:00:00'),\n",
       "            ('14 ST-UNION SQ', '2019-04-28 00:00:00'),\n",
       "            ('14 ST-UNION SQ', '2019-04-28 04:00:00'),\n",
       "            ('14 ST-UNION SQ', '2019-04-28 08:00:00'),\n",
       "            ('14 ST-UNION SQ', '2019-04-28 12:00:00'),\n",
       "            ...\n",
       "            (      'CANAL ST', '2019-05-23 08:00:00'),\n",
       "            (      'CANAL ST', '2019-05-23 12:00:00'),\n",
       "            (      'CANAL ST', '2019-05-23 16:00:00'),\n",
       "            (      'CANAL ST', '2019-05-23 20:00:00'),\n",
       "            (      'CANAL ST', '2019-05-24 00:00:00'),\n",
       "            (      'CANAL ST', '2019-05-24 04:00:00'),\n",
       "            (      'CANAL ST', '2019-05-24 08:00:00'),\n",
       "            (      'CANAL ST', '2019-05-24 12:00:00'),\n",
       "            (      'CANAL ST', '2019-05-24 16:00:00'),\n",
       "            (      'CANAL ST', '2019-05-24 20:00:00')],\n",
       "           names=['STATION', 'DATE_TIME'], length=836)"
      ]
     },
     "execution_count": 38,
     "metadata": {},
     "output_type": "execute_result"
    }
   ],
   "source": [
    "fourH_hourly_sum_top_5.index"
   ]
  },
  {
   "cell_type": "code",
   "execution_count": null,
   "metadata": {
    "scrolled": true
   },
   "outputs": [],
   "source": [
    "test = df_top_5.groupby(['STATION'])['HOURLY_SUM'].resample('4H',on='DATE_TIME').sum()"
   ]
  },
  {
   "cell_type": "code",
   "execution_count": 92,
   "metadata": {},
   "outputs": [
    {
     "data": {
      "image/png": "[encoded data removed]",
      "text/plain": [
       "<Figure size 432x288 with 1 Axes>"
      ]
     },
     "metadata": {
      "needs_background": "light"
     },
     "output_type": "display_data"
    }
   ],
   "source": [
    "df_top_5['2019-05-20': '2019-05-24']['HOURLY_SUM'].resample('4H').sum().plot(legend=True,title='Daily Flow of Traffic for Whole Week',kind='area',cmap='BuPu_r').get_figure().savefig('WeekFlow.png')"
   ]
  },
  {
   "cell_type": "code",
   "execution_count": 112,
   "metadata": {},
   "outputs": [
    {
     "data": {
      "image/png": "[encoded data removed]",
      "text/plain": [
       "<Figure size 432x288 with 1 Axes>"
      ]
     },
     "metadata": {
      "needs_background": "light"
     },
     "output_type": "display_data"
    }
   ],
   "source": [
    "df_top_5['2019-05-20': '2019-05-24']['HOURLY_SUM'].resample('4H').sum().plot(legend=True,title='Daily Flow of Traffic for Whole Week',kind='line',cmap='BuPu_r').get_figure().savefig('Weekly_final.png')"
   ]
  },
  {
   "cell_type": "code",
   "execution_count": null,
   "metadata": {},
   "outputs": [],
   "source": []
  },
  {
   "cell_type": "code",
   "execution_count": 106,
   "metadata": {},
   "outputs": [
    {
     "data": {
      "text/plain": [
       "DATE_TIME\n",
       "2019-05-20 00:00:00     50195.0\n",
       "2019-05-20 04:00:00      5813.0\n",
       "2019-05-20 08:00:00     97066.0\n",
       "2019-05-20 12:00:00    192377.0\n",
       "2019-05-20 16:00:00    193165.0\n",
       "2019-05-20 20:00:00    260555.0\n",
       "2019-05-21 00:00:00     82703.0\n",
       "2019-05-21 04:00:00      8507.0\n",
       "2019-05-21 08:00:00    103551.0\n",
       "2019-05-21 12:00:00    202319.0\n",
       "2019-05-21 16:00:00    196955.0\n",
       "2019-05-21 20:00:00    285995.0\n",
       "2019-05-22 00:00:00     86192.0\n",
       "2019-05-22 04:00:00      7855.0\n",
       "2019-05-22 08:00:00    102578.0\n",
       "2019-05-22 12:00:00    203408.0\n",
       "2019-05-22 16:00:00    206219.0\n",
       "2019-05-22 20:00:00    279619.0\n",
       "2019-05-23 00:00:00     84979.0\n",
       "2019-05-23 04:00:00     11802.0\n",
       "2019-05-23 08:00:00     93900.0\n",
       "2019-05-23 12:00:00    196120.0\n",
       "2019-05-23 16:00:00    197889.0\n",
       "2019-05-23 20:00:00    261288.0\n",
       "2019-05-24 00:00:00     82282.0\n",
       "2019-05-24 04:00:00      8470.0\n",
       "2019-05-24 08:00:00     92817.0\n",
       "2019-05-24 12:00:00    166304.0\n",
       "2019-05-24 16:00:00    230152.0\n",
       "2019-05-24 20:00:00    212596.0\n",
       "Freq: 4H, Name: HOURLY_SUM, dtype: float64"
      ]
     },
     "execution_count": 106,
     "metadata": {},
     "output_type": "execute_result"
    }
   ],
   "source": [
    "df_top_5['2019-05-20': '2019-05-24']['HOURLY_SUM'].resample('4H').sum()"
   ]
  },
  {
   "cell_type": "code",
   "execution_count": 65,
   "metadata": {},
   "outputs": [
    {
     "data": {
      "text/plain": [
       "DATE_TIME\n",
       "2019-05-20 00:00:00     50195.0\n",
       "2019-05-20 04:00:00      5813.0\n",
       "2019-05-20 08:00:00     97066.0\n",
       "2019-05-20 12:00:00    192377.0\n",
       "2019-05-20 16:00:00    193165.0\n",
       "2019-05-20 20:00:00    260555.0\n",
       "2019-05-21 00:00:00     82703.0\n",
       "2019-05-21 04:00:00      8507.0\n",
       "2019-05-21 08:00:00    103551.0\n",
       "2019-05-21 12:00:00    202319.0\n",
       "2019-05-21 16:00:00    196955.0\n",
       "2019-05-21 20:00:00    285995.0\n",
       "2019-05-22 00:00:00     86192.0\n",
       "2019-05-22 04:00:00      7855.0\n",
       "2019-05-22 08:00:00    102578.0\n",
       "2019-05-22 12:00:00    203408.0\n",
       "2019-05-22 16:00:00    206219.0\n",
       "2019-05-22 20:00:00    279619.0\n",
       "2019-05-23 00:00:00     84979.0\n",
       "2019-05-23 04:00:00     11802.0\n",
       "2019-05-23 08:00:00     93900.0\n",
       "2019-05-23 12:00:00    196120.0\n",
       "2019-05-23 16:00:00    197889.0\n",
       "2019-05-23 20:00:00    261288.0\n",
       "2019-05-24 00:00:00     82282.0\n",
       "2019-05-24 04:00:00      8470.0\n",
       "2019-05-24 08:00:00     92817.0\n",
       "2019-05-24 12:00:00    166304.0\n",
       "2019-05-24 16:00:00    230152.0\n",
       "2019-05-24 20:00:00    212596.0\n",
       "Freq: 4H, Name: HOURLY_SUM, dtype: float64"
      ]
     },
     "execution_count": 65,
     "metadata": {},
     "output_type": "execute_result"
    }
   ],
   "source": [
    "df_top_5['2019-05-20': '2019-05-24']['HOURLY_SUM'].resample('4H').sum()"
   ]
  },
  {
   "cell_type": "code",
   "execution_count": 115,
   "metadata": {},
   "outputs": [
    {
     "data": {
      "image/png": "[encoded data removed]",
      "text/plain": [
       "<Figure size 432x288 with 1 Axes>"
      ]
     },
     "metadata": {
      "needs_background": "light"
     },
     "output_type": "display_data"
    }
   ],
   "source": [
    "df_top_5['2019-05-22']['HOURLY_SUM'].resample('4H').sum().plot(legend=True,title='Single Day Traffic Flow Sampled Every 4H',kind='line',cmap='BuPu_r').get_figure().savefig('SingleDay4H_fina__test.png', bb_box = 'tight')"
   ]
  },
  {
   "cell_type": "code",
   "execution_count": 100,
   "metadata": {},
   "outputs": [
    {
     "data": {
      "text/plain": [
       "DATE_TIME\n",
       "2019-05-22 00:00:00     318.051661\n",
       "2019-05-22 04:00:00      29.092593\n",
       "2019-05-22 08:00:00     377.125000\n",
       "2019-05-22 12:00:00     745.084249\n",
       "2019-05-22 16:00:00     755.380952\n",
       "2019-05-22 20:00:00    1024.245421\n",
       "Freq: 4H, Name: HOURLY_SUM, dtype: float64"
      ]
     },
     "execution_count": 100,
     "metadata": {},
     "output_type": "execute_result"
    }
   ],
   "source": [
    "df_top_5['2019-05-22']['HOURLY_SUM'].resample('4H').mean()"
   ]
  },
  {
   "cell_type": "code",
   "execution_count": 97,
   "metadata": {},
   "outputs": [
    {
     "data": {
      "text/plain": [
       "<matplotlib.axes._subplots.AxesSubplot at 0x1a27c0ccd0>"
      ]
     },
     "execution_count": 97,
     "metadata": {},
     "output_type": "execute_result"
    },
    {
     "data": {
      "image/png": "[encoded data removed]",
      "text/plain": [
       "<Figure size 432x288 with 1 Axes>"
      ]
     },
     "metadata": {
      "needs_background": "light"
     },
     "output_type": "display_data"
    }
   ],
   "source": [
    "df_top_5['2019-05-22 8:00:00': '2019-05-22 20:00:00']['HOURLY_SUM'].resample('4H').sum().plot(legend=True,title='Single Day Traffic Flow Sampled Every 3H',kind='area',cmap='BuPu_r')"
   ]
  },
  {
   "cell_type": "code",
   "execution_count": null,
   "metadata": {},
   "outputs": [],
   "source": []
  }
 ],
 "metadata": {
  "kernelspec": {
   "display_name": "Python 3",
   "language": "python",
   "name": "python3"
  },
  "language_info": {
   "codemirror_mode": {
    "name": "ipython",
    "version": 3
   },
   "file_extension": ".py",
   "mimetype": "text/x-python",
   "name": "python",
   "nbconvert_exporter": "python",
   "pygments_lexer": "ipython3",
   "version": "3.7.4"
  }
 },
 "nbformat": 4,
 "nbformat_minor": 4
}
