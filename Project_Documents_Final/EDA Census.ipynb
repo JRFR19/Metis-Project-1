{
 "cells": [
  {
   "cell_type": "markdown",
   "metadata": {},
   "source": [
    "# Census data notebook: test on #10022\n"
   ]
  },
  {
   "cell_type": "code",
   "execution_count": 12,
   "metadata": {},
   "outputs": [
    {
     "name": "stdout",
     "output_type": "stream",
     "text": [
      "Collecting us\n",
      "  Downloading https://files.pythonhosted.org/packages/72/83/8731cbf5afcf3434c0b24cfc520c11fd27bfc8a6878114662f4e3dbdab71/us-1.0.0.tar.gz\n",
      "Collecting jellyfish==0.5.6 (from us)\n",
      "\u001b[?25l  Downloading https://files.pythonhosted.org/packages/94/48/ddb1458d966f0a84e472d059d87a9d1527df7768a725132fc1d810728386/jellyfish-0.5.6.tar.gz (132kB)\n",
      "\u001b[K     |████████████████████████████████| 133kB 6.1MB/s eta 0:00:01\n",
      "\u001b[?25hBuilding wheels for collected packages: us, jellyfish\n",
      "  Building wheel for us (setup.py) ... \u001b[?25ldone\n",
      "\u001b[?25h  Created wheel for us: filename=us-1.0.0-cp37-none-any.whl size=11834 sha256=dc13028893244d184ab757b7df813d105eeafca78aa859014a3b3d3c6f2a358b\n",
      "  Stored in directory: /Users/alentersakyan/Library/Caches/pip/wheels/b3/98/40/cb8be35d7779a0ae4372c84e7a585c947bfc41540fd8999e53\n",
      "  Building wheel for jellyfish (setup.py) ... \u001b[?25ldone\n",
      "\u001b[?25h  Created wheel for jellyfish: filename=jellyfish-0.5.6-cp37-cp37m-macosx_10_9_x86_64.whl size=23144 sha256=261df20cf7b1a232fb993721e9d2f1031e63639d6151b8e076d2322b88e7653a\n",
      "  Stored in directory: /Users/alentersakyan/Library/Caches/pip/wheels/3b/29/06/8d686d24f742cb89e7bde7f26f18cb9e89b3c8bcd6999cb12a\n",
      "Successfully built us jellyfish\n",
      "Installing collected packages: jellyfish, us\n",
      "Successfully installed jellyfish-0.5.6 us-1.0.0\n"
     ]
    }
   ],
   "source": [
    "!pip install us"
   ]
  },
  {
   "cell_type": "code",
   "execution_count": 1,
   "metadata": {},
   "outputs": [
    {
     "data": {
      "text/plain": [
       "Index(['DATE_TIME', 'C/A', 'UNIT', 'SCP', 'STATION', 'LINENAME', 'DIVISION',\n",
       "       'DESC', 'ENTRIES',\n",
       "       'EXITS                                                               ',\n",
       "       'day_of_week'],\n",
       "      dtype='object')"
      ]
     },
     "execution_count": 1,
     "metadata": {},
     "output_type": "execute_result"
    }
   ],
   "source": [
    "import pandas as pd\n",
    "import numpy as np\n",
    "from datetime import datetime\n",
    "import matplotlib.pyplot as plt\n",
    "import seaborn as sns\n",
    "\n",
    "%config InlineBackend.figure_format = 'svg'\n",
    "%matplotlib inline \n",
    "df = pd.read_csv('http://web.mta.info/developers/data/nyct/turnstile/turnstile_190921.txt', parse_dates=[['DATE', 'TIME']])\n",
    "df['day_of_week'] = df['DATE_TIME'].dt.weekday_name\n",
    "df.columns"
   ]
  },
  {
   "cell_type": "code",
   "execution_count": 2,
   "metadata": {},
   "outputs": [],
   "source": [
    "# Rename exit\n",
    "df.rename(columns ={\"EXITS                                                               \":\"EXITS\"}, inplace=True)"
   ]
  },
  {
   "cell_type": "code",
   "execution_count": 3,
   "metadata": {},
   "outputs": [],
   "source": [
    "# Get only regular/ working units. The irregulars could be contributing to outliers\n",
    "df = df[df['DESC'] == 'REGULAR']"
   ]
  },
  {
   "cell_type": "code",
   "execution_count": 4,
   "metadata": {},
   "outputs": [],
   "source": [
    "# Create dif scores for entries / exits\n",
    "df['ENTRIES_diff'] = df.ENTRIES.diff()\n",
    "df['EXITS_diff'] = df.EXITS.diff()"
   ]
  },
  {
   "cell_type": "code",
   "execution_count": 5,
   "metadata": {},
   "outputs": [],
   "source": [
    "# Replace outliers: delete under zero, replace > 20,000 with mean\n",
    "# GROUPED BY STATION-- so means are coming by station\n",
    "\n",
    "df['ENTRIES_diff'] = df.groupby(['STATION']).ENTRIES_diff.transform(\n",
    "    lambda x: np.where((x<0)|(x>20000),x.mask((x<0)|(x>20000)).mean(),x))"
   ]
  },
  {
   "cell_type": "code",
   "execution_count": 6,
   "metadata": {},
   "outputs": [],
   "source": [
    "df['EXITS_diff'] = df.groupby(['STATION']).EXITS_diff.transform(\n",
    "    lambda x: np.where((x<0)|(x>20000),x.mask((x<0)|(x>20000)).mean(),x))"
   ]
  },
  {
   "cell_type": "code",
   "execution_count": 7,
   "metadata": {},
   "outputs": [],
   "source": [
    "df['TRAFFIC_FLOW'] = df['ENTRIES_diff'] + df['EXITS_diff']"
   ]
  },
  {
   "cell_type": "code",
   "execution_count": 15,
   "metadata": {},
   "outputs": [],
   "source": [
    "from census import Census\n",
    "from us import states"
   ]
  },
  {
   "cell_type": "code",
   "execution_count": 13,
   "metadata": {},
   "outputs": [],
   "source": [
    "c = Census(\"cc11fdd181d0dd4254743a9fee5c695176ed0f25\")"
   ]
  },
  {
   "cell_type": "code",
   "execution_count": 16,
   "metadata": {},
   "outputs": [
    {
     "data": {
      "text/plain": [
       "[{'NAME': 'Maryland', 'B25034_010E': 129556.0, 'state': '24'}]"
      ]
     },
     "execution_count": 16,
     "metadata": {},
     "output_type": "execute_result"
    }
   ],
   "source": [
    "c.acs5.get(('NAME', 'B25034_010E'),\n",
    "          {'for': 'state:{}'.format(states.MD.fips)})"
   ]
  },
  {
   "cell_type": "code",
   "execution_count": 17,
   "metadata": {},
   "outputs": [
    {
     "name": "stdout",
     "output_type": "stream",
     "text": [
      "Collecting uszipcode\n",
      "\u001b[?25l  Downloading https://files.pythonhosted.org/packages/34/e1/f828cd05732433d0074a17a2623a8c1281c5dc7fb265fef1d3867692037b/uszipcode-0.2.2-py2.py3-none-any.whl (137kB)\n",
      "\u001b[K     |████████████████████████████████| 143kB 4.4MB/s eta 0:00:01\n",
      "\u001b[?25hCollecting pathlib-mate (from uszipcode)\n",
      "\u001b[?25l  Downloading https://files.pythonhosted.org/packages/ff/f2/a1e6044fe90784e7bbc05286f2e8616aa2ff167f7275f5a6f2df479092c0/pathlib_mate-0.0.15-py2.py3-none-any.whl (195kB)\n",
      "\u001b[K     |████████████████████████████████| 204kB 5.6MB/s eta 0:00:01\n",
      "\u001b[?25hCollecting sqlalchemy (from uszipcode)\n",
      "\u001b[?25l  Downloading https://files.pythonhosted.org/packages/fc/49/82d64d705ced344ba458197dadab30cfa745f9650ee22260ac2b275d288c/SQLAlchemy-1.3.8.tar.gz (5.9MB)\n",
      "\u001b[K     |████████████████████████████████| 5.9MB 5.9MB/s eta 0:00:01     |████████████████                | 3.0MB 5.9MB/s eta 0:00:01\n",
      "\u001b[?25hRequirement already satisfied: attrs in /anaconda3/envs/metis/lib/python3.7/site-packages (from uszipcode) (19.1.0)\n",
      "Requirement already satisfied: requests in /anaconda3/envs/metis/lib/python3.7/site-packages (from uszipcode) (2.22.0)\n",
      "Requirement already satisfied: six in /anaconda3/envs/metis/lib/python3.7/site-packages (from pathlib-mate->uszipcode) (1.12.0)\n",
      "Collecting autopep8 (from pathlib-mate->uszipcode)\n",
      "\u001b[?25l  Downloading https://files.pythonhosted.org/packages/45/f3/24b437da561b6af4840c871fbbda32889ca304fc1f7b6cc3ada8b09f394a/autopep8-1.4.4.tar.gz (114kB)\n",
      "\u001b[K     |████████████████████████████████| 122kB 4.1MB/s eta 0:00:01\n",
      "\u001b[?25hRequirement already satisfied: chardet<3.1.0,>=3.0.2 in /anaconda3/envs/metis/lib/python3.7/site-packages (from requests->uszipcode) (3.0.4)\n",
      "Requirement already satisfied: urllib3!=1.25.0,!=1.25.1,<1.26,>=1.21.1 in /anaconda3/envs/metis/lib/python3.7/site-packages (from requests->uszipcode) (1.25.6)\n",
      "Requirement already satisfied: certifi>=2017.4.17 in /anaconda3/envs/metis/lib/python3.7/site-packages (from requests->uszipcode) (2019.9.11)\n",
      "Requirement already satisfied: idna<2.9,>=2.5 in /anaconda3/envs/metis/lib/python3.7/site-packages (from requests->uszipcode) (2.8)\n",
      "Collecting pycodestyle>=2.4.0 (from autopep8->pathlib-mate->uszipcode)\n",
      "\u001b[?25l  Downloading https://files.pythonhosted.org/packages/0e/0c/04a353e104d2f324f8ee5f4b32012618c1c86dd79e52a433b64fceed511b/pycodestyle-2.5.0-py2.py3-none-any.whl (51kB)\n",
      "\u001b[K     |████████████████████████████████| 51kB 14.7MB/s eta 0:00:01\n",
      "\u001b[?25hBuilding wheels for collected packages: sqlalchemy, autopep8\n",
      "  Building wheel for sqlalchemy (setup.py) ... \u001b[?25ldone\n",
      "\u001b[?25h  Created wheel for sqlalchemy: filename=SQLAlchemy-1.3.8-cp37-cp37m-macosx_10_9_x86_64.whl size=1147335 sha256=b6fa747fbf349762b947632e480587c5cb676da0ff55e2323f672471e13f08bb\n",
      "  Stored in directory: /Users/alentersakyan/Library/Caches/pip/wheels/97/b6/66/de2064d40c920adc2984ff3b8fd4f11494c8ab9e48ba87e8a2\n",
      "  Building wheel for autopep8 (setup.py) ... \u001b[?25ldone\n",
      "\u001b[?25h  Created wheel for autopep8: filename=autopep8-1.4.4-py2.py3-none-any.whl size=42630 sha256=dd58618549c92ac2cc2c820b41979b28afb2bde432179beeef593757a0d9a937\n",
      "  Stored in directory: /Users/alentersakyan/Library/Caches/pip/wheels/7e/f5/4b/c19e6276126325eb8071b273347c05a830c37a82b9b3b81510\n",
      "Successfully built sqlalchemy autopep8\n",
      "Installing collected packages: pycodestyle, autopep8, pathlib-mate, sqlalchemy, uszipcode\n",
      "Successfully installed autopep8-1.4.4 pathlib-mate-0.0.15 pycodestyle-2.5.0 sqlalchemy-1.3.8 uszipcode-0.2.2\n"
     ]
    }
   ],
   "source": [
    "!pip install uszipcode"
   ]
  },
  {
   "cell_type": "code",
   "execution_count": 18,
   "metadata": {},
   "outputs": [],
   "source": [
    "from uszipcode import SearchEngine"
   ]
  },
  {
   "cell_type": "code",
   "execution_count": 19,
   "metadata": {},
   "outputs": [
    {
     "name": "stdout",
     "output_type": "stream",
     "text": [
      "Start downloading data for simple zipcode database, total size 9MB ...\n",
      "  1 MB finished ...\n",
      "  2 MB finished ...\n",
      "  3 MB finished ...\n",
      "  4 MB finished ...\n",
      "  5 MB finished ...\n",
      "  6 MB finished ...\n",
      "  7 MB finished ...\n",
      "  8 MB finished ...\n",
      "  9 MB finished ...\n",
      "  10 MB finished ...\n",
      "  Complete!\n"
     ]
    }
   ],
   "source": [
    "search = SearchEngine(simple_zipcode=True) # set simple_zipcode=False to use rich info database"
   ]
  },
  {
   "cell_type": "code",
   "execution_count": 20,
   "metadata": {},
   "outputs": [],
   "source": [
    "zipcode = search.by_zipcode(\"10022\")"
   ]
  },
  {
   "cell_type": "code",
   "execution_count": 27,
   "metadata": {},
   "outputs": [],
   "source": [
    "import pprint\n",
    "pp = pprint.PrettyPrinter(indent=4)"
   ]
  },
  {
   "cell_type": "code",
   "execution_count": 22,
   "metadata": {},
   "outputs": [],
   "source": [
    "zip_10022 = zipcode.to_dict()"
   ]
  },
  {
   "cell_type": "code",
   "execution_count": 29,
   "metadata": {},
   "outputs": [],
   "source": [
    "#pp.pprint(zip_10022)"
   ]
  },
  {
   "cell_type": "code",
   "execution_count": 237,
   "metadata": {},
   "outputs": [],
   "source": [
    "def getDemographics(test2):\n",
    "    ''' Get demographics for a zipcode. Input str of zip (\"12345\")'''\n",
    "    from uszipcode import SearchEngine\n",
    "    import pprint\n",
    "    census_data = []\n",
    "    median_incomes = []\n",
    "    zipcodes = []\n",
    "    for zipcode_entry in test2: #zipcode_entry is a zipcode from the list \n",
    "        zipcode_census_info = search.by_zipcode(zipcode_entry)\n",
    "        census_data.append(zipcode_census_info) # Whole set of census data for all zips\n",
    "        #pp = pprint.PrettyPrinter(indent=4)\n",
    "        for zipcode_object in census_data: #zipcode_object is a single set of census data for a single zipcode\n",
    "            median_incomes.append(zipcode_object.values()[-5]) #median income for single output\n",
    "            zipcodes.append(zipcode_object.values()[0]) #zipcode for that single output\n",
    "        \n",
    "        #zip_with_income = list(zip(median_income,zipcode))\n",
    "\n",
    "    \n",
    "            # y2 = list(zip(x[1].keys(), x[1].values()))\n",
    "    return zipcode_object.values()[-5]"
   ]
  },
  {
   "cell_type": "code",
   "execution_count": 268,
   "metadata": {},
   "outputs": [
    {
     "name": "stdout",
     "output_type": "stream",
     "text": [
      "45\n",
      "45\n",
      "SimpleZipcode(zipcode='10001', zipcode_type='Standard', major_city='New York', post_office_city='New York, NY', common_city_list=['New York'], county='New York County', state='NY', lat=40.75, lng=-73.99, timezone='Eastern', radius_in_miles=0.9090909090909091, area_code_list=['718', '917', '347', '646'], population=21102, population_density=33959.0, land_area_in_sqmi=0.62, water_area_in_sqmi=0.0, housing_units=12476, occupied_housing_units=11031, median_home_value=650200, median_household_income=81671, bounds_west=-74.008621, bounds_east=-73.984076, bounds_north=40.759731, bounds_south=40.743451)\n"
     ]
    }
   ],
   "source": [
    "census_data = []\n",
    "median_incomes = []\n",
    "zipcodes = []\n",
    "for zipcode_entry in list_of_zips: #zipcode_entry is a zipcode from the list \n",
    "    zipcode_census_info = search.by_zipcode(zipcode_entry)\n",
    "    census_data.append(zipcode_census_info) # Whole set of census data for all zips\n",
    "    #pp = pprint.PrettyPrinter(indent=4)\n",
    "    for item in census_data: #item is a single set of census data for a single zipcode\n",
    "        median_incomes.append(item.values()[-5]) #median income for single output\n",
    "        zipcodes.append(item.values()[0]) #zipcode for that single output\n",
    "        \n",
    "    #zip_with_income = list(zip(median_income,zipcode))\n",
    "#print(zipcode_entry)\n",
    "#print(list_of_zips)\n",
    "#print(census_data)\n",
    "print(len(zipcodes))\n",
    "print(len(median_incomes))\n",
    "print(census_data[0])"
   ]
  },
  {
   "cell_type": "code",
   "execution_count": null,
   "metadata": {},
   "outputs": [],
   "source": [
    "# def getMedianIncome(final_out):\n",
    "#     '''From the list of census zipcode data, parse out median household income for each zip'''\n",
    "#     zipcodes = []\n",
    "#     incomes = []\n",
    "#     # later zip two together\n",
    "#     for x in final_out:\n",
    "#         median_income = x[0].values()[-5]\n",
    "#     print(x)\n",
    "    "
   ]
  },
  {
   "cell_type": "code",
   "execution_count": 240,
   "metadata": {},
   "outputs": [],
   "source": [
    "getDemographics(list_of_zips)"
   ]
  },
  {
   "cell_type": "code",
   "execution_count": 199,
   "metadata": {},
   "outputs": [],
   "source": [
    "zipcode_objects = getDemographics(list_of_zips)\n",
    "#print(x[0].values()[-5])"
   ]
  },
  {
   "cell_type": "code",
   "execution_count": 195,
   "metadata": {},
   "outputs": [
    {
     "data": {
      "text/plain": [
       "[SimpleZipcode(zipcode='10001', zipcode_type='Standard', major_city='New York', post_office_city='New York, NY', common_city_list=['New York'], county='New York County', state='NY', lat=40.75, lng=-73.99, timezone='Eastern', radius_in_miles=0.9090909090909091, area_code_list=['718', '917', '347', '646'], population=21102, population_density=33959.0, land_area_in_sqmi=0.62, water_area_in_sqmi=0.0, housing_units=12476, occupied_housing_units=11031, median_home_value=650200, median_household_income=81671, bounds_west=-74.008621, bounds_east=-73.984076, bounds_north=40.759731, bounds_south=40.743451),\n",
       " SimpleZipcode(zipcode='10010', zipcode_type='Standard', major_city='New York', post_office_city='New York, NY', common_city_list=['New York'], county='New York County', state='NY', lat=40.73, lng=-73.98, timezone='Eastern', radius_in_miles=1.0, area_code_list=['212', '646', '917', '718'], population=31834, population_density=81487.0, land_area_in_sqmi=0.39, water_area_in_sqmi=0.0, housing_units=18030, occupied_housing_units=16556, median_home_value=746200, median_household_income=97955, bounds_west=-73.994028, bounds_east=-73.971566, bounds_north=40.745421, bounds_south=40.73231),\n",
       " SimpleZipcode(zipcode='10003', zipcode_type='Standard', major_city='New York', post_office_city='New York, NY', common_city_list=['New York'], county='New York County', state='NY', lat=40.73, lng=-73.99, timezone='Eastern', radius_in_miles=0.7954545454545454, area_code_list=['212', '347', '646', '718', '917'], population=56024, population_density=97188.0, land_area_in_sqmi=0.58, water_area_in_sqmi=0.0, housing_units=31078, occupied_housing_units=28559, median_home_value=817700, median_household_income=92540, bounds_west=-73.999604, bounds_east=-73.979864, bounds_north=40.739673, bounds_south=40.722933),\n",
       " SimpleZipcode(zipcode='10038', zipcode_type='Standard', major_city='New York', post_office_city='New York, NY', common_city_list=['New York', 'Peck Slip'], county='New York County', state='NY', lat=40.71, lng=-74.003, timezone='Eastern', radius_in_miles=0.5681818181818182, area_code_list=['212', '646', '917'], population=20300, population_density=68214.0, land_area_in_sqmi=0.3, water_area_in_sqmi=0.0, housing_units=10211, occupied_housing_units=9410, median_home_value=616300, median_household_income=66074, bounds_west=-74.010542, bounds_east=-73.991772, bounds_north=40.714451, bounds_south=40.701689),\n",
       " SimpleZipcode(zipcode='10036', zipcode_type='Standard', major_city='New York', post_office_city='New York, NY', common_city_list=['New York'], county='New York County', state='NY', lat=40.76, lng=-73.99, timezone='Eastern', radius_in_miles=0.8522727272727273, area_code_list=['212', '646', '917'], population=24711, population_density=55745.0, land_area_in_sqmi=0.44, water_area_in_sqmi=0.0, housing_units=17958, occupied_housing_units=15183, median_home_value=810300, median_household_income=66599, bounds_west=-74.001702, bounds_east=-73.978116, bounds_north=40.765558, bounds_south=40.752197),\n",
       " SimpleZipcode(zipcode='10028', zipcode_type='Standard', major_city='New York', post_office_city='New York, NY', common_city_list=['New York'], county='New York County', state='NY', lat=40.78, lng=-73.95, timezone='Eastern', radius_in_miles=0.8522727272727273, area_code_list=['212', '347', '646', '917'], population=45141, population_density=143683.0, land_area_in_sqmi=0.31, water_area_in_sqmi=0.0, housing_units=28139, occupied_housing_units=25158, median_home_value=1000001, median_household_income=104638, bounds_west=-73.96323, bounds_east=-73.944337, bounds_north=40.782213, bounds_south=40.770062),\n",
       " SimpleZipcode(zipcode='10027', zipcode_type='Standard', major_city='New York', post_office_city='New York, NY', common_city_list=['New York'], county='New York County', state='NY', lat=40.81, lng=-73.96, timezone='Eastern', radius_in_miles=1.0, area_code_list=['212', '646', '718', '917'], population=59707, population_density=68513.0, land_area_in_sqmi=0.87, water_area_in_sqmi=0.0, housing_units=25071, occupied_housing_units=22839, median_home_value=716100, median_household_income=37872, bounds_west=-73.9659, bounds_east=-73.940404, bounds_north=40.822108, bounds_south=40.803047),\n",
       " SimpleZipcode(zipcode='10013', zipcode_type='Standard', major_city='New York', post_office_city='New York, NY', common_city_list=['New York', 'Canal Street', 'Chinatown'], county='New York County', state='NY', lat=40.72, lng=-74.01, timezone='Eastern', radius_in_miles=1.0, area_code_list=['347', '718', '646', '929', '212', '917'], population=27700, population_density=50154.0, land_area_in_sqmi=0.55, water_area_in_sqmi=0.0, housing_units=13460, occupied_housing_units=12096, median_home_value=1000001, median_household_income=83725, bounds_west=-74.016381, bounds_east=-73.994035, bounds_north=40.727557, bounds_south=40.713446),\n",
       " SimpleZipcode(zipcode='10023', zipcode_type='Standard', major_city='New York', post_office_city='New York, NY', common_city_list=['New York'], county='New York County', state='NY', lat=40.78, lng=-73.98, timezone='Eastern', radius_in_miles=0.7386363636363636, area_code_list=['212', '347', '646', '718', '917'], population=60998, population_density=124357.0, land_area_in_sqmi=0.49, water_area_in_sqmi=0.0, housing_units=39402, occupied_housing_units=34383, median_home_value=872500, median_household_income=103534, bounds_west=-73.990149, bounds_east=-73.974067, bounds_north=40.783192, bounds_south=40.768436)]"
      ]
     },
     "execution_count": 195,
     "metadata": {},
     "output_type": "execute_result"
    }
   ],
   "source": [
    "x"
   ]
  },
  {
   "cell_type": "code",
   "execution_count": 200,
   "metadata": {},
   "outputs": [],
   "source": [
    "for zipcode_object in zipcode_objects:\n",
    "    median_income = zipcode_object.values()[-5]\n",
    "    zipcode = zipcode_object.values()[0]\n",
    "    \n",
    "    #zip_with_income = list(zip(median_income,zipcode))\n",
    "\n",
    "    \n",
    "    # y2 = list(zip(x[1].keys(), x[1].values()))"
   ]
  },
  {
   "cell_type": "code",
   "execution_count": 198,
   "metadata": {},
   "outputs": [
    {
     "data": {
      "text/plain": [
       "103534"
      ]
     },
     "execution_count": 198,
     "metadata": {},
     "output_type": "execute_result"
    }
   ],
   "source": [
    "median_income"
   ]
  },
  {
   "cell_type": "code",
   "execution_count": 137,
   "metadata": {},
   "outputs": [],
   "source": [
    "y = list(zip(x[0].keys(), x[0].values()))"
   ]
  },
  {
   "cell_type": "code",
   "execution_count": 138,
   "metadata": {},
   "outputs": [
    {
     "data": {
      "text/plain": [
       "[('zipcode', '10001'),\n",
       " ('zipcode_type', 'Standard'),\n",
       " ('major_city', 'New York'),\n",
       " ('post_office_city', 'New York, NY'),\n",
       " ('common_city_list', ['New York']),\n",
       " ('county', 'New York County'),\n",
       " ('state', 'NY'),\n",
       " ('lat', 40.75),\n",
       " ('lng', -73.99),\n",
       " ('timezone', 'Eastern'),\n",
       " ('radius_in_miles', 0.9090909090909091),\n",
       " ('area_code_list', ['718', '917', '347', '646']),\n",
       " ('population', 21102),\n",
       " ('population_density', 33959.0),\n",
       " ('land_area_in_sqmi', 0.62),\n",
       " ('water_area_in_sqmi', 0.0),\n",
       " ('housing_units', 12476),\n",
       " ('occupied_housing_units', 11031),\n",
       " ('median_home_value', 650200),\n",
       " ('median_household_income', 81671),\n",
       " ('bounds_west', -74.008621),\n",
       " ('bounds_east', -73.984076),\n",
       " ('bounds_north', 40.759731),\n",
       " ('bounds_south', 40.743451)]"
      ]
     },
     "execution_count": 138,
     "metadata": {},
     "output_type": "execute_result"
    }
   ],
   "source": [
    "y"
   ]
  },
  {
   "cell_type": "code",
   "execution_count": 139,
   "metadata": {},
   "outputs": [],
   "source": [
    "y2 = list(zip(x[1].keys(), x[1].values()))"
   ]
  },
  {
   "cell_type": "code",
   "execution_count": 140,
   "metadata": {},
   "outputs": [
    {
     "data": {
      "text/plain": [
       "[('zipcode', '10010'),\n",
       " ('zipcode_type', 'Standard'),\n",
       " ('major_city', 'New York'),\n",
       " ('post_office_city', 'New York, NY'),\n",
       " ('common_city_list', ['New York']),\n",
       " ('county', 'New York County'),\n",
       " ('state', 'NY'),\n",
       " ('lat', 40.73),\n",
       " ('lng', -73.98),\n",
       " ('timezone', 'Eastern'),\n",
       " ('radius_in_miles', 1.0),\n",
       " ('area_code_list', ['212', '646', '917', '718']),\n",
       " ('population', 31834),\n",
       " ('population_density', 81487.0),\n",
       " ('land_area_in_sqmi', 0.39),\n",
       " ('water_area_in_sqmi', 0.0),\n",
       " ('housing_units', 18030),\n",
       " ('occupied_housing_units', 16556),\n",
       " ('median_home_value', 746200),\n",
       " ('median_household_income', 97955),\n",
       " ('bounds_west', -73.994028),\n",
       " ('bounds_east', -73.971566),\n",
       " ('bounds_north', 40.745421),\n",
       " ('bounds_south', 40.73231)]"
      ]
     },
     "execution_count": 140,
     "metadata": {},
     "output_type": "execute_result"
    }
   ],
   "source": [
    "y2"
   ]
  },
  {
   "cell_type": "code",
   "execution_count": 201,
   "metadata": {},
   "outputs": [
    {
     "name": "stdout",
     "output_type": "stream",
     "text": [
      "(0, '10001')\n",
      "(1, 'Standard')\n",
      "(2, 'New York')\n",
      "(3, 'New York, NY')\n",
      "(4, ['New York'])\n",
      "(5, 'New York County')\n",
      "(6, 'NY')\n",
      "(7, 40.75)\n",
      "(8, -73.99)\n",
      "(9, 'Eastern')\n",
      "(10, 0.9090909090909091)\n",
      "(11, ['718', '917', '347', '646'])\n",
      "(12, 21102)\n",
      "(13, 33959.0)\n",
      "(14, 0.62)\n",
      "(15, 0.0)\n",
      "(16, 12476)\n",
      "(17, 11031)\n",
      "(18, 650200)\n",
      "(19, 81671)\n",
      "(20, -74.008621)\n",
      "(21, -73.984076)\n",
      "(22, 40.759731)\n",
      "(23, 40.743451)\n"
     ]
    }
   ],
   "source": [
    "for i,x in enumerate(y):\n",
    "    if i == 14:\n",
    "        print((i,x[-1]))"
   ]
  },
  {
   "cell_type": "code",
   "execution_count": 102,
   "metadata": {},
   "outputs": [
    {
     "ename": "TypeError",
     "evalue": "'enumerate' object is not subscriptable",
     "output_type": "error",
     "traceback": [
      "\u001b[0;31m---------------------------------------------------------------------------\u001b[0m",
      "\u001b[0;31mTypeError\u001b[0m                                 Traceback (most recent call last)",
      "\u001b[0;32m<ipython-input-102-a5024ee1c81f>\u001b[0m in \u001b[0;36m<module>\u001b[0;34m\u001b[0m\n\u001b[0;32m----> 1\u001b[0;31m \u001b[0menumerate\u001b[0m\u001b[0;34m(\u001b[0m\u001b[0my\u001b[0m\u001b[0;34m)\u001b[0m\u001b[0;34m[\u001b[0m\u001b[0;36m0\u001b[0m\u001b[0;34m]\u001b[0m\u001b[0;34m\u001b[0m\u001b[0;34m\u001b[0m\u001b[0m\n\u001b[0m",
      "\u001b[0;31mTypeError\u001b[0m: 'enumerate' object is not subscriptable"
     ]
    }
   ],
   "source": [
    "enumerate(y)[0]"
   ]
  },
  {
   "cell_type": "code",
   "execution_count": null,
   "metadata": {},
   "outputs": [],
   "source": []
  },
  {
   "cell_type": "markdown",
   "metadata": {},
   "source": [
    "### Picking top 5 from above based on census + gmaps api\n",
    "#### Once those are selected we can do further analyses\n",
    "- 34 ST-PENN STA-- delete \n",
    "- GRD CNTRL-42 ST-- delete\n",
    "- 34 ST-HERALD SQ = 10001\n",
    "- 23rd st zip = 10010\n",
    "- 14 ST-UNION SQ zip = 10003\n",
    "- TIMES SQ-42 ST--- delete\n",
    "- FULTON ST--- zip = 10038\n",
    "- 42 ST-PORT AUTH--- zip = 10036\n",
    "- 86 ST--- zip = 10028\n",
    "- 125 ST--- zip = 10027\n",
    "- CANAL ST--- zip = 10013\n",
    "- 59 ST COLUMBUS--- zip = 10023"
   ]
  },
  {
   "cell_type": "code",
   "execution_count": 47,
   "metadata": {},
   "outputs": [],
   "source": [
    "list_of_zips = [10001, 10010, 10003, 10038, 10036, 10028, 10027, 10013, 10023]"
   ]
  },
  {
   "cell_type": "code",
   "execution_count": 146,
   "metadata": {},
   "outputs": [
    {
     "data": {
      "text/plain": [
       "[SimpleZipcode(zipcode='10001', zipcode_type='Standard', major_city='New York', post_office_city='New York, NY', common_city_list=['New York'], county='New York County', state='NY', lat=40.75, lng=-73.99, timezone='Eastern', radius_in_miles=0.9090909090909091, area_code_list=['718', '917', '347', '646'], population=21102, population_density=33959.0, land_area_in_sqmi=0.62, water_area_in_sqmi=0.0, housing_units=12476, occupied_housing_units=11031, median_home_value=650200, median_household_income=81671, bounds_west=-74.008621, bounds_east=-73.984076, bounds_north=40.759731, bounds_south=40.743451),\n",
       " SimpleZipcode(zipcode='10010', zipcode_type='Standard', major_city='New York', post_office_city='New York, NY', common_city_list=['New York'], county='New York County', state='NY', lat=40.73, lng=-73.98, timezone='Eastern', radius_in_miles=1.0, area_code_list=['212', '646', '917', '718'], population=31834, population_density=81487.0, land_area_in_sqmi=0.39, water_area_in_sqmi=0.0, housing_units=18030, occupied_housing_units=16556, median_home_value=746200, median_household_income=97955, bounds_west=-73.994028, bounds_east=-73.971566, bounds_north=40.745421, bounds_south=40.73231),\n",
       " SimpleZipcode(zipcode='10003', zipcode_type='Standard', major_city='New York', post_office_city='New York, NY', common_city_list=['New York'], county='New York County', state='NY', lat=40.73, lng=-73.99, timezone='Eastern', radius_in_miles=0.7954545454545454, area_code_list=['212', '347', '646', '718', '917'], population=56024, population_density=97188.0, land_area_in_sqmi=0.58, water_area_in_sqmi=0.0, housing_units=31078, occupied_housing_units=28559, median_home_value=817700, median_household_income=92540, bounds_west=-73.999604, bounds_east=-73.979864, bounds_north=40.739673, bounds_south=40.722933),\n",
       " SimpleZipcode(zipcode='10038', zipcode_type='Standard', major_city='New York', post_office_city='New York, NY', common_city_list=['New York', 'Peck Slip'], county='New York County', state='NY', lat=40.71, lng=-74.003, timezone='Eastern', radius_in_miles=0.5681818181818182, area_code_list=['212', '646', '917'], population=20300, population_density=68214.0, land_area_in_sqmi=0.3, water_area_in_sqmi=0.0, housing_units=10211, occupied_housing_units=9410, median_home_value=616300, median_household_income=66074, bounds_west=-74.010542, bounds_east=-73.991772, bounds_north=40.714451, bounds_south=40.701689),\n",
       " SimpleZipcode(zipcode='10036', zipcode_type='Standard', major_city='New York', post_office_city='New York, NY', common_city_list=['New York'], county='New York County', state='NY', lat=40.76, lng=-73.99, timezone='Eastern', radius_in_miles=0.8522727272727273, area_code_list=['212', '646', '917'], population=24711, population_density=55745.0, land_area_in_sqmi=0.44, water_area_in_sqmi=0.0, housing_units=17958, occupied_housing_units=15183, median_home_value=810300, median_household_income=66599, bounds_west=-74.001702, bounds_east=-73.978116, bounds_north=40.765558, bounds_south=40.752197),\n",
       " SimpleZipcode(zipcode='10028', zipcode_type='Standard', major_city='New York', post_office_city='New York, NY', common_city_list=['New York'], county='New York County', state='NY', lat=40.78, lng=-73.95, timezone='Eastern', radius_in_miles=0.8522727272727273, area_code_list=['212', '347', '646', '917'], population=45141, population_density=143683.0, land_area_in_sqmi=0.31, water_area_in_sqmi=0.0, housing_units=28139, occupied_housing_units=25158, median_home_value=1000001, median_household_income=104638, bounds_west=-73.96323, bounds_east=-73.944337, bounds_north=40.782213, bounds_south=40.770062),\n",
       " SimpleZipcode(zipcode='10027', zipcode_type='Standard', major_city='New York', post_office_city='New York, NY', common_city_list=['New York'], county='New York County', state='NY', lat=40.81, lng=-73.96, timezone='Eastern', radius_in_miles=1.0, area_code_list=['212', '646', '718', '917'], population=59707, population_density=68513.0, land_area_in_sqmi=0.87, water_area_in_sqmi=0.0, housing_units=25071, occupied_housing_units=22839, median_home_value=716100, median_household_income=37872, bounds_west=-73.9659, bounds_east=-73.940404, bounds_north=40.822108, bounds_south=40.803047),\n",
       " SimpleZipcode(zipcode='10013', zipcode_type='Standard', major_city='New York', post_office_city='New York, NY', common_city_list=['New York', 'Canal Street', 'Chinatown'], county='New York County', state='NY', lat=40.72, lng=-74.01, timezone='Eastern', radius_in_miles=1.0, area_code_list=['347', '718', '646', '929', '212', '917'], population=27700, population_density=50154.0, land_area_in_sqmi=0.55, water_area_in_sqmi=0.0, housing_units=13460, occupied_housing_units=12096, median_home_value=1000001, median_household_income=83725, bounds_west=-74.016381, bounds_east=-73.994035, bounds_north=40.727557, bounds_south=40.713446),\n",
       " SimpleZipcode(zipcode='10023', zipcode_type='Standard', major_city='New York', post_office_city='New York, NY', common_city_list=['New York'], county='New York County', state='NY', lat=40.78, lng=-73.98, timezone='Eastern', radius_in_miles=0.7386363636363636, area_code_list=['212', '347', '646', '718', '917'], population=60998, population_density=124357.0, land_area_in_sqmi=0.49, water_area_in_sqmi=0.0, housing_units=39402, occupied_housing_units=34383, median_home_value=872500, median_household_income=103534, bounds_west=-73.990149, bounds_east=-73.974067, bounds_north=40.783192, bounds_south=40.768436)]"
      ]
     },
     "execution_count": 146,
     "metadata": {},
     "output_type": "execute_result"
    }
   ],
   "source": [
    "getDemographics(list_of_zips)"
   ]
  },
  {
   "cell_type": "code",
   "execution_count": null,
   "metadata": {},
   "outputs": [],
   "source": [
    "y = list(zip(x[0].keys(), x[0].values()))"
   ]
  },
  {
   "cell_type": "code",
   "execution_count": 144,
   "metadata": {},
   "outputs": [],
   "source": [
    "def parseDemographics(final_out):\n",
    "    for zipcode in final_out:\n",
    "        y = list(zip(final_out[0].keys, x[0].values()))\n",
    "    return y\n",
    "    "
   ]
  },
  {
   "cell_type": "code",
   "execution_count": 147,
   "metadata": {},
   "outputs": [
    {
     "ename": "NameError",
     "evalue": "name 'final_out' is not defined",
     "output_type": "error",
     "traceback": [
      "\u001b[0;31m---------------------------------------------------------------------------\u001b[0m",
      "\u001b[0;31mNameError\u001b[0m                                 Traceback (most recent call last)",
      "\u001b[0;32m<ipython-input-147-44f4626dc472>\u001b[0m in \u001b[0;36m<module>\u001b[0;34m\u001b[0m\n\u001b[0;32m----> 1\u001b[0;31m \u001b[0mparseDemographics\u001b[0m\u001b[0;34m(\u001b[0m\u001b[0mfinal_out\u001b[0m\u001b[0;34m)\u001b[0m\u001b[0;34m\u001b[0m\u001b[0;34m\u001b[0m\u001b[0m\n\u001b[0m",
      "\u001b[0;31mNameError\u001b[0m: name 'final_out' is not defined"
     ]
    }
   ],
   "source": [
    "parseDemographics(final_out)"
   ]
  },
  {
   "cell_type": "code",
   "execution_count": 270,
   "metadata": {
    "scrolled": false
   },
   "outputs": [
    {
     "name": "stdout",
     "output_type": "stream",
     "text": [
      "SimpleZipcode(zipcode='10001', zipcode_type='Standard', major_city='New York', post_office_city='New York, NY', common_city_list=['New York'], county='New York County', state='NY', lat=40.75, lng=-73.99, timezone='Eastern', radius_in_miles=0.9090909090909091, area_code_list=['718', '917', '347', '646'], population=21102, population_density=33959.0, land_area_in_sqmi=0.62, water_area_in_sqmi=0.0, housing_units=12476, occupied_housing_units=11031, median_home_value=650200, median_household_income=81671, bounds_west=-74.008621, bounds_east=-73.984076, bounds_north=40.759731, bounds_south=40.743451)\n",
      "SimpleZipcode(zipcode='10001', zipcode_type='Standard', major_city='New York', post_office_city='New York, NY', common_city_list=['New York'], county='New York County', state='NY', lat=40.75, lng=-73.99, timezone='Eastern', radius_in_miles=0.9090909090909091, area_code_list=['718', '917', '347', '646'], population=21102, population_density=33959.0, land_area_in_sqmi=0.62, water_area_in_sqmi=0.0, housing_units=12476, occupied_housing_units=11031, median_home_value=650200, median_household_income=81671, bounds_west=-74.008621, bounds_east=-73.984076, bounds_north=40.759731, bounds_south=40.743451)\n",
      "SimpleZipcode(zipcode='10010', zipcode_type='Standard', major_city='New York', post_office_city='New York, NY', common_city_list=['New York'], county='New York County', state='NY', lat=40.73, lng=-73.98, timezone='Eastern', radius_in_miles=1.0, area_code_list=['212', '646', '917', '718'], population=31834, population_density=81487.0, land_area_in_sqmi=0.39, water_area_in_sqmi=0.0, housing_units=18030, occupied_housing_units=16556, median_home_value=746200, median_household_income=97955, bounds_west=-73.994028, bounds_east=-73.971566, bounds_north=40.745421, bounds_south=40.73231)\n",
      "SimpleZipcode(zipcode='10001', zipcode_type='Standard', major_city='New York', post_office_city='New York, NY', common_city_list=['New York'], county='New York County', state='NY', lat=40.75, lng=-73.99, timezone='Eastern', radius_in_miles=0.9090909090909091, area_code_list=['718', '917', '347', '646'], population=21102, population_density=33959.0, land_area_in_sqmi=0.62, water_area_in_sqmi=0.0, housing_units=12476, occupied_housing_units=11031, median_home_value=650200, median_household_income=81671, bounds_west=-74.008621, bounds_east=-73.984076, bounds_north=40.759731, bounds_south=40.743451)\n",
      "SimpleZipcode(zipcode='10010', zipcode_type='Standard', major_city='New York', post_office_city='New York, NY', common_city_list=['New York'], county='New York County', state='NY', lat=40.73, lng=-73.98, timezone='Eastern', radius_in_miles=1.0, area_code_list=['212', '646', '917', '718'], population=31834, population_density=81487.0, land_area_in_sqmi=0.39, water_area_in_sqmi=0.0, housing_units=18030, occupied_housing_units=16556, median_home_value=746200, median_household_income=97955, bounds_west=-73.994028, bounds_east=-73.971566, bounds_north=40.745421, bounds_south=40.73231)\n",
      "SimpleZipcode(zipcode='10003', zipcode_type='Standard', major_city='New York', post_office_city='New York, NY', common_city_list=['New York'], county='New York County', state='NY', lat=40.73, lng=-73.99, timezone='Eastern', radius_in_miles=0.7954545454545454, area_code_list=['212', '347', '646', '718', '917'], population=56024, population_density=97188.0, land_area_in_sqmi=0.58, water_area_in_sqmi=0.0, housing_units=31078, occupied_housing_units=28559, median_home_value=817700, median_household_income=92540, bounds_west=-73.999604, bounds_east=-73.979864, bounds_north=40.739673, bounds_south=40.722933)\n",
      "SimpleZipcode(zipcode='10001', zipcode_type='Standard', major_city='New York', post_office_city='New York, NY', common_city_list=['New York'], county='New York County', state='NY', lat=40.75, lng=-73.99, timezone='Eastern', radius_in_miles=0.9090909090909091, area_code_list=['718', '917', '347', '646'], population=21102, population_density=33959.0, land_area_in_sqmi=0.62, water_area_in_sqmi=0.0, housing_units=12476, occupied_housing_units=11031, median_home_value=650200, median_household_income=81671, bounds_west=-74.008621, bounds_east=-73.984076, bounds_north=40.759731, bounds_south=40.743451)\n",
      "SimpleZipcode(zipcode='10010', zipcode_type='Standard', major_city='New York', post_office_city='New York, NY', common_city_list=['New York'], county='New York County', state='NY', lat=40.73, lng=-73.98, timezone='Eastern', radius_in_miles=1.0, area_code_list=['212', '646', '917', '718'], population=31834, population_density=81487.0, land_area_in_sqmi=0.39, water_area_in_sqmi=0.0, housing_units=18030, occupied_housing_units=16556, median_home_value=746200, median_household_income=97955, bounds_west=-73.994028, bounds_east=-73.971566, bounds_north=40.745421, bounds_south=40.73231)\n",
      "SimpleZipcode(zipcode='10003', zipcode_type='Standard', major_city='New York', post_office_city='New York, NY', common_city_list=['New York'], county='New York County', state='NY', lat=40.73, lng=-73.99, timezone='Eastern', radius_in_miles=0.7954545454545454, area_code_list=['212', '347', '646', '718', '917'], population=56024, population_density=97188.0, land_area_in_sqmi=0.58, water_area_in_sqmi=0.0, housing_units=31078, occupied_housing_units=28559, median_home_value=817700, median_household_income=92540, bounds_west=-73.999604, bounds_east=-73.979864, bounds_north=40.739673, bounds_south=40.722933)\n",
      "SimpleZipcode(zipcode='10038', zipcode_type='Standard', major_city='New York', post_office_city='New York, NY', common_city_list=['New York', 'Peck Slip'], county='New York County', state='NY', lat=40.71, lng=-74.003, timezone='Eastern', radius_in_miles=0.5681818181818182, area_code_list=['212', '646', '917'], population=20300, population_density=68214.0, land_area_in_sqmi=0.3, water_area_in_sqmi=0.0, housing_units=10211, occupied_housing_units=9410, median_home_value=616300, median_household_income=66074, bounds_west=-74.010542, bounds_east=-73.991772, bounds_north=40.714451, bounds_south=40.701689)\n",
      "SimpleZipcode(zipcode='10001', zipcode_type='Standard', major_city='New York', post_office_city='New York, NY', common_city_list=['New York'], county='New York County', state='NY', lat=40.75, lng=-73.99, timezone='Eastern', radius_in_miles=0.9090909090909091, area_code_list=['718', '917', '347', '646'], population=21102, population_density=33959.0, land_area_in_sqmi=0.62, water_area_in_sqmi=0.0, housing_units=12476, occupied_housing_units=11031, median_home_value=650200, median_household_income=81671, bounds_west=-74.008621, bounds_east=-73.984076, bounds_north=40.759731, bounds_south=40.743451)\n",
      "SimpleZipcode(zipcode='10010', zipcode_type='Standard', major_city='New York', post_office_city='New York, NY', common_city_list=['New York'], county='New York County', state='NY', lat=40.73, lng=-73.98, timezone='Eastern', radius_in_miles=1.0, area_code_list=['212', '646', '917', '718'], population=31834, population_density=81487.0, land_area_in_sqmi=0.39, water_area_in_sqmi=0.0, housing_units=18030, occupied_housing_units=16556, median_home_value=746200, median_household_income=97955, bounds_west=-73.994028, bounds_east=-73.971566, bounds_north=40.745421, bounds_south=40.73231)\n",
      "SimpleZipcode(zipcode='10003', zipcode_type='Standard', major_city='New York', post_office_city='New York, NY', common_city_list=['New York'], county='New York County', state='NY', lat=40.73, lng=-73.99, timezone='Eastern', radius_in_miles=0.7954545454545454, area_code_list=['212', '347', '646', '718', '917'], population=56024, population_density=97188.0, land_area_in_sqmi=0.58, water_area_in_sqmi=0.0, housing_units=31078, occupied_housing_units=28559, median_home_value=817700, median_household_income=92540, bounds_west=-73.999604, bounds_east=-73.979864, bounds_north=40.739673, bounds_south=40.722933)\n",
      "SimpleZipcode(zipcode='10038', zipcode_type='Standard', major_city='New York', post_office_city='New York, NY', common_city_list=['New York', 'Peck Slip'], county='New York County', state='NY', lat=40.71, lng=-74.003, timezone='Eastern', radius_in_miles=0.5681818181818182, area_code_list=['212', '646', '917'], population=20300, population_density=68214.0, land_area_in_sqmi=0.3, water_area_in_sqmi=0.0, housing_units=10211, occupied_housing_units=9410, median_home_value=616300, median_household_income=66074, bounds_west=-74.010542, bounds_east=-73.991772, bounds_north=40.714451, bounds_south=40.701689)\n",
      "SimpleZipcode(zipcode='10036', zipcode_type='Standard', major_city='New York', post_office_city='New York, NY', common_city_list=['New York'], county='New York County', state='NY', lat=40.76, lng=-73.99, timezone='Eastern', radius_in_miles=0.8522727272727273, area_code_list=['212', '646', '917'], population=24711, population_density=55745.0, land_area_in_sqmi=0.44, water_area_in_sqmi=0.0, housing_units=17958, occupied_housing_units=15183, median_home_value=810300, median_household_income=66599, bounds_west=-74.001702, bounds_east=-73.978116, bounds_north=40.765558, bounds_south=40.752197)\n",
      "SimpleZipcode(zipcode='10001', zipcode_type='Standard', major_city='New York', post_office_city='New York, NY', common_city_list=['New York'], county='New York County', state='NY', lat=40.75, lng=-73.99, timezone='Eastern', radius_in_miles=0.9090909090909091, area_code_list=['718', '917', '347', '646'], population=21102, population_density=33959.0, land_area_in_sqmi=0.62, water_area_in_sqmi=0.0, housing_units=12476, occupied_housing_units=11031, median_home_value=650200, median_household_income=81671, bounds_west=-74.008621, bounds_east=-73.984076, bounds_north=40.759731, bounds_south=40.743451)\n",
      "SimpleZipcode(zipcode='10010', zipcode_type='Standard', major_city='New York', post_office_city='New York, NY', common_city_list=['New York'], county='New York County', state='NY', lat=40.73, lng=-73.98, timezone='Eastern', radius_in_miles=1.0, area_code_list=['212', '646', '917', '718'], population=31834, population_density=81487.0, land_area_in_sqmi=0.39, water_area_in_sqmi=0.0, housing_units=18030, occupied_housing_units=16556, median_home_value=746200, median_household_income=97955, bounds_west=-73.994028, bounds_east=-73.971566, bounds_north=40.745421, bounds_south=40.73231)\n",
      "SimpleZipcode(zipcode='10003', zipcode_type='Standard', major_city='New York', post_office_city='New York, NY', common_city_list=['New York'], county='New York County', state='NY', lat=40.73, lng=-73.99, timezone='Eastern', radius_in_miles=0.7954545454545454, area_code_list=['212', '347', '646', '718', '917'], population=56024, population_density=97188.0, land_area_in_sqmi=0.58, water_area_in_sqmi=0.0, housing_units=31078, occupied_housing_units=28559, median_home_value=817700, median_household_income=92540, bounds_west=-73.999604, bounds_east=-73.979864, bounds_north=40.739673, bounds_south=40.722933)\n",
      "SimpleZipcode(zipcode='10038', zipcode_type='Standard', major_city='New York', post_office_city='New York, NY', common_city_list=['New York', 'Peck Slip'], county='New York County', state='NY', lat=40.71, lng=-74.003, timezone='Eastern', radius_in_miles=0.5681818181818182, area_code_list=['212', '646', '917'], population=20300, population_density=68214.0, land_area_in_sqmi=0.3, water_area_in_sqmi=0.0, housing_units=10211, occupied_housing_units=9410, median_home_value=616300, median_household_income=66074, bounds_west=-74.010542, bounds_east=-73.991772, bounds_north=40.714451, bounds_south=40.701689)\n",
      "SimpleZipcode(zipcode='10036', zipcode_type='Standard', major_city='New York', post_office_city='New York, NY', common_city_list=['New York'], county='New York County', state='NY', lat=40.76, lng=-73.99, timezone='Eastern', radius_in_miles=0.8522727272727273, area_code_list=['212', '646', '917'], population=24711, population_density=55745.0, land_area_in_sqmi=0.44, water_area_in_sqmi=0.0, housing_units=17958, occupied_housing_units=15183, median_home_value=810300, median_household_income=66599, bounds_west=-74.001702, bounds_east=-73.978116, bounds_north=40.765558, bounds_south=40.752197)\n",
      "SimpleZipcode(zipcode='10028', zipcode_type='Standard', major_city='New York', post_office_city='New York, NY', common_city_list=['New York'], county='New York County', state='NY', lat=40.78, lng=-73.95, timezone='Eastern', radius_in_miles=0.8522727272727273, area_code_list=['212', '347', '646', '917'], population=45141, population_density=143683.0, land_area_in_sqmi=0.31, water_area_in_sqmi=0.0, housing_units=28139, occupied_housing_units=25158, median_home_value=1000001, median_household_income=104638, bounds_west=-73.96323, bounds_east=-73.944337, bounds_north=40.782213, bounds_south=40.770062)\n",
      "SimpleZipcode(zipcode='10001', zipcode_type='Standard', major_city='New York', post_office_city='New York, NY', common_city_list=['New York'], county='New York County', state='NY', lat=40.75, lng=-73.99, timezone='Eastern', radius_in_miles=0.9090909090909091, area_code_list=['718', '917', '347', '646'], population=21102, population_density=33959.0, land_area_in_sqmi=0.62, water_area_in_sqmi=0.0, housing_units=12476, occupied_housing_units=11031, median_home_value=650200, median_household_income=81671, bounds_west=-74.008621, bounds_east=-73.984076, bounds_north=40.759731, bounds_south=40.743451)\n",
      "SimpleZipcode(zipcode='10010', zipcode_type='Standard', major_city='New York', post_office_city='New York, NY', common_city_list=['New York'], county='New York County', state='NY', lat=40.73, lng=-73.98, timezone='Eastern', radius_in_miles=1.0, area_code_list=['212', '646', '917', '718'], population=31834, population_density=81487.0, land_area_in_sqmi=0.39, water_area_in_sqmi=0.0, housing_units=18030, occupied_housing_units=16556, median_home_value=746200, median_household_income=97955, bounds_west=-73.994028, bounds_east=-73.971566, bounds_north=40.745421, bounds_south=40.73231)\n",
      "SimpleZipcode(zipcode='10003', zipcode_type='Standard', major_city='New York', post_office_city='New York, NY', common_city_list=['New York'], county='New York County', state='NY', lat=40.73, lng=-73.99, timezone='Eastern', radius_in_miles=0.7954545454545454, area_code_list=['212', '347', '646', '718', '917'], population=56024, population_density=97188.0, land_area_in_sqmi=0.58, water_area_in_sqmi=0.0, housing_units=31078, occupied_housing_units=28559, median_home_value=817700, median_household_income=92540, bounds_west=-73.999604, bounds_east=-73.979864, bounds_north=40.739673, bounds_south=40.722933)\n",
      "SimpleZipcode(zipcode='10038', zipcode_type='Standard', major_city='New York', post_office_city='New York, NY', common_city_list=['New York', 'Peck Slip'], county='New York County', state='NY', lat=40.71, lng=-74.003, timezone='Eastern', radius_in_miles=0.5681818181818182, area_code_list=['212', '646', '917'], population=20300, population_density=68214.0, land_area_in_sqmi=0.3, water_area_in_sqmi=0.0, housing_units=10211, occupied_housing_units=9410, median_home_value=616300, median_household_income=66074, bounds_west=-74.010542, bounds_east=-73.991772, bounds_north=40.714451, bounds_south=40.701689)\n",
      "SimpleZipcode(zipcode='10036', zipcode_type='Standard', major_city='New York', post_office_city='New York, NY', common_city_list=['New York'], county='New York County', state='NY', lat=40.76, lng=-73.99, timezone='Eastern', radius_in_miles=0.8522727272727273, area_code_list=['212', '646', '917'], population=24711, population_density=55745.0, land_area_in_sqmi=0.44, water_area_in_sqmi=0.0, housing_units=17958, occupied_housing_units=15183, median_home_value=810300, median_household_income=66599, bounds_west=-74.001702, bounds_east=-73.978116, bounds_north=40.765558, bounds_south=40.752197)\n",
      "SimpleZipcode(zipcode='10028', zipcode_type='Standard', major_city='New York', post_office_city='New York, NY', common_city_list=['New York'], county='New York County', state='NY', lat=40.78, lng=-73.95, timezone='Eastern', radius_in_miles=0.8522727272727273, area_code_list=['212', '347', '646', '917'], population=45141, population_density=143683.0, land_area_in_sqmi=0.31, water_area_in_sqmi=0.0, housing_units=28139, occupied_housing_units=25158, median_home_value=1000001, median_household_income=104638, bounds_west=-73.96323, bounds_east=-73.944337, bounds_north=40.782213, bounds_south=40.770062)\n",
      "SimpleZipcode(zipcode='10027', zipcode_type='Standard', major_city='New York', post_office_city='New York, NY', common_city_list=['New York'], county='New York County', state='NY', lat=40.81, lng=-73.96, timezone='Eastern', radius_in_miles=1.0, area_code_list=['212', '646', '718', '917'], population=59707, population_density=68513.0, land_area_in_sqmi=0.87, water_area_in_sqmi=0.0, housing_units=25071, occupied_housing_units=22839, median_home_value=716100, median_household_income=37872, bounds_west=-73.9659, bounds_east=-73.940404, bounds_north=40.822108, bounds_south=40.803047)\n",
      "SimpleZipcode(zipcode='10001', zipcode_type='Standard', major_city='New York', post_office_city='New York, NY', common_city_list=['New York'], county='New York County', state='NY', lat=40.75, lng=-73.99, timezone='Eastern', radius_in_miles=0.9090909090909091, area_code_list=['718', '917', '347', '646'], population=21102, population_density=33959.0, land_area_in_sqmi=0.62, water_area_in_sqmi=0.0, housing_units=12476, occupied_housing_units=11031, median_home_value=650200, median_household_income=81671, bounds_west=-74.008621, bounds_east=-73.984076, bounds_north=40.759731, bounds_south=40.743451)\n",
      "SimpleZipcode(zipcode='10010', zipcode_type='Standard', major_city='New York', post_office_city='New York, NY', common_city_list=['New York'], county='New York County', state='NY', lat=40.73, lng=-73.98, timezone='Eastern', radius_in_miles=1.0, area_code_list=['212', '646', '917', '718'], population=31834, population_density=81487.0, land_area_in_sqmi=0.39, water_area_in_sqmi=0.0, housing_units=18030, occupied_housing_units=16556, median_home_value=746200, median_household_income=97955, bounds_west=-73.994028, bounds_east=-73.971566, bounds_north=40.745421, bounds_south=40.73231)\n",
      "SimpleZipcode(zipcode='10003', zipcode_type='Standard', major_city='New York', post_office_city='New York, NY', common_city_list=['New York'], county='New York County', state='NY', lat=40.73, lng=-73.99, timezone='Eastern', radius_in_miles=0.7954545454545454, area_code_list=['212', '347', '646', '718', '917'], population=56024, population_density=97188.0, land_area_in_sqmi=0.58, water_area_in_sqmi=0.0, housing_units=31078, occupied_housing_units=28559, median_home_value=817700, median_household_income=92540, bounds_west=-73.999604, bounds_east=-73.979864, bounds_north=40.739673, bounds_south=40.722933)\n",
      "SimpleZipcode(zipcode='10038', zipcode_type='Standard', major_city='New York', post_office_city='New York, NY', common_city_list=['New York', 'Peck Slip'], county='New York County', state='NY', lat=40.71, lng=-74.003, timezone='Eastern', radius_in_miles=0.5681818181818182, area_code_list=['212', '646', '917'], population=20300, population_density=68214.0, land_area_in_sqmi=0.3, water_area_in_sqmi=0.0, housing_units=10211, occupied_housing_units=9410, median_home_value=616300, median_household_income=66074, bounds_west=-74.010542, bounds_east=-73.991772, bounds_north=40.714451, bounds_south=40.701689)\n",
      "SimpleZipcode(zipcode='10036', zipcode_type='Standard', major_city='New York', post_office_city='New York, NY', common_city_list=['New York'], county='New York County', state='NY', lat=40.76, lng=-73.99, timezone='Eastern', radius_in_miles=0.8522727272727273, area_code_list=['212', '646', '917'], population=24711, population_density=55745.0, land_area_in_sqmi=0.44, water_area_in_sqmi=0.0, housing_units=17958, occupied_housing_units=15183, median_home_value=810300, median_household_income=66599, bounds_west=-74.001702, bounds_east=-73.978116, bounds_north=40.765558, bounds_south=40.752197)\n",
      "SimpleZipcode(zipcode='10028', zipcode_type='Standard', major_city='New York', post_office_city='New York, NY', common_city_list=['New York'], county='New York County', state='NY', lat=40.78, lng=-73.95, timezone='Eastern', radius_in_miles=0.8522727272727273, area_code_list=['212', '347', '646', '917'], population=45141, population_density=143683.0, land_area_in_sqmi=0.31, water_area_in_sqmi=0.0, housing_units=28139, occupied_housing_units=25158, median_home_value=1000001, median_household_income=104638, bounds_west=-73.96323, bounds_east=-73.944337, bounds_north=40.782213, bounds_south=40.770062)\n",
      "SimpleZipcode(zipcode='10027', zipcode_type='Standard', major_city='New York', post_office_city='New York, NY', common_city_list=['New York'], county='New York County', state='NY', lat=40.81, lng=-73.96, timezone='Eastern', radius_in_miles=1.0, area_code_list=['212', '646', '718', '917'], population=59707, population_density=68513.0, land_area_in_sqmi=0.87, water_area_in_sqmi=0.0, housing_units=25071, occupied_housing_units=22839, median_home_value=716100, median_household_income=37872, bounds_west=-73.9659, bounds_east=-73.940404, bounds_north=40.822108, bounds_south=40.803047)\n",
      "SimpleZipcode(zipcode='10013', zipcode_type='Standard', major_city='New York', post_office_city='New York, NY', common_city_list=['New York', 'Canal Street', 'Chinatown'], county='New York County', state='NY', lat=40.72, lng=-74.01, timezone='Eastern', radius_in_miles=1.0, area_code_list=['347', '718', '646', '929', '212', '917'], population=27700, population_density=50154.0, land_area_in_sqmi=0.55, water_area_in_sqmi=0.0, housing_units=13460, occupied_housing_units=12096, median_home_value=1000001, median_household_income=83725, bounds_west=-74.016381, bounds_east=-73.994035, bounds_north=40.727557, bounds_south=40.713446)\n",
      "SimpleZipcode(zipcode='10001', zipcode_type='Standard', major_city='New York', post_office_city='New York, NY', common_city_list=['New York'], county='New York County', state='NY', lat=40.75, lng=-73.99, timezone='Eastern', radius_in_miles=0.9090909090909091, area_code_list=['718', '917', '347', '646'], population=21102, population_density=33959.0, land_area_in_sqmi=0.62, water_area_in_sqmi=0.0, housing_units=12476, occupied_housing_units=11031, median_home_value=650200, median_household_income=81671, bounds_west=-74.008621, bounds_east=-73.984076, bounds_north=40.759731, bounds_south=40.743451)\n",
      "SimpleZipcode(zipcode='10010', zipcode_type='Standard', major_city='New York', post_office_city='New York, NY', common_city_list=['New York'], county='New York County', state='NY', lat=40.73, lng=-73.98, timezone='Eastern', radius_in_miles=1.0, area_code_list=['212', '646', '917', '718'], population=31834, population_density=81487.0, land_area_in_sqmi=0.39, water_area_in_sqmi=0.0, housing_units=18030, occupied_housing_units=16556, median_home_value=746200, median_household_income=97955, bounds_west=-73.994028, bounds_east=-73.971566, bounds_north=40.745421, bounds_south=40.73231)\n",
      "SimpleZipcode(zipcode='10003', zipcode_type='Standard', major_city='New York', post_office_city='New York, NY', common_city_list=['New York'], county='New York County', state='NY', lat=40.73, lng=-73.99, timezone='Eastern', radius_in_miles=0.7954545454545454, area_code_list=['212', '347', '646', '718', '917'], population=56024, population_density=97188.0, land_area_in_sqmi=0.58, water_area_in_sqmi=0.0, housing_units=31078, occupied_housing_units=28559, median_home_value=817700, median_household_income=92540, bounds_west=-73.999604, bounds_east=-73.979864, bounds_north=40.739673, bounds_south=40.722933)\n",
      "SimpleZipcode(zipcode='10038', zipcode_type='Standard', major_city='New York', post_office_city='New York, NY', common_city_list=['New York', 'Peck Slip'], county='New York County', state='NY', lat=40.71, lng=-74.003, timezone='Eastern', radius_in_miles=0.5681818181818182, area_code_list=['212', '646', '917'], population=20300, population_density=68214.0, land_area_in_sqmi=0.3, water_area_in_sqmi=0.0, housing_units=10211, occupied_housing_units=9410, median_home_value=616300, median_household_income=66074, bounds_west=-74.010542, bounds_east=-73.991772, bounds_north=40.714451, bounds_south=40.701689)\n",
      "SimpleZipcode(zipcode='10036', zipcode_type='Standard', major_city='New York', post_office_city='New York, NY', common_city_list=['New York'], county='New York County', state='NY', lat=40.76, lng=-73.99, timezone='Eastern', radius_in_miles=0.8522727272727273, area_code_list=['212', '646', '917'], population=24711, population_density=55745.0, land_area_in_sqmi=0.44, water_area_in_sqmi=0.0, housing_units=17958, occupied_housing_units=15183, median_home_value=810300, median_household_income=66599, bounds_west=-74.001702, bounds_east=-73.978116, bounds_north=40.765558, bounds_south=40.752197)\n",
      "SimpleZipcode(zipcode='10028', zipcode_type='Standard', major_city='New York', post_office_city='New York, NY', common_city_list=['New York'], county='New York County', state='NY', lat=40.78, lng=-73.95, timezone='Eastern', radius_in_miles=0.8522727272727273, area_code_list=['212', '347', '646', '917'], population=45141, population_density=143683.0, land_area_in_sqmi=0.31, water_area_in_sqmi=0.0, housing_units=28139, occupied_housing_units=25158, median_home_value=1000001, median_household_income=104638, bounds_west=-73.96323, bounds_east=-73.944337, bounds_north=40.782213, bounds_south=40.770062)\n",
      "SimpleZipcode(zipcode='10027', zipcode_type='Standard', major_city='New York', post_office_city='New York, NY', common_city_list=['New York'], county='New York County', state='NY', lat=40.81, lng=-73.96, timezone='Eastern', radius_in_miles=1.0, area_code_list=['212', '646', '718', '917'], population=59707, population_density=68513.0, land_area_in_sqmi=0.87, water_area_in_sqmi=0.0, housing_units=25071, occupied_housing_units=22839, median_home_value=716100, median_household_income=37872, bounds_west=-73.9659, bounds_east=-73.940404, bounds_north=40.822108, bounds_south=40.803047)\n",
      "SimpleZipcode(zipcode='10013', zipcode_type='Standard', major_city='New York', post_office_city='New York, NY', common_city_list=['New York', 'Canal Street', 'Chinatown'], county='New York County', state='NY', lat=40.72, lng=-74.01, timezone='Eastern', radius_in_miles=1.0, area_code_list=['347', '718', '646', '929', '212', '917'], population=27700, population_density=50154.0, land_area_in_sqmi=0.55, water_area_in_sqmi=0.0, housing_units=13460, occupied_housing_units=12096, median_home_value=1000001, median_household_income=83725, bounds_west=-74.016381, bounds_east=-73.994035, bounds_north=40.727557, bounds_south=40.713446)\n",
      "SimpleZipcode(zipcode='10023', zipcode_type='Standard', major_city='New York', post_office_city='New York, NY', common_city_list=['New York'], county='New York County', state='NY', lat=40.78, lng=-73.98, timezone='Eastern', radius_in_miles=0.7386363636363636, area_code_list=['212', '347', '646', '718', '917'], population=60998, population_density=124357.0, land_area_in_sqmi=0.49, water_area_in_sqmi=0.0, housing_units=39402, occupied_housing_units=34383, median_home_value=872500, median_household_income=103534, bounds_west=-73.990149, bounds_east=-73.974067, bounds_north=40.783192, bounds_south=40.768436)\n",
      "0\n",
      "0\n",
      "SimpleZipcode(zipcode='10001', zipcode_type='Standard', major_city='New York', post_office_city='New York, NY', common_city_list=['New York'], county='New York County', state='NY', lat=40.75, lng=-73.99, timezone='Eastern', radius_in_miles=0.9090909090909091, area_code_list=['718', '917', '347', '646'], population=21102, population_density=33959.0, land_area_in_sqmi=0.62, water_area_in_sqmi=0.0, housing_units=12476, occupied_housing_units=11031, median_home_value=650200, median_household_income=81671, bounds_west=-74.008621, bounds_east=-73.984076, bounds_north=40.759731, bounds_south=40.743451)\n"
     ]
    }
   ],
   "source": [
    "census_data = []\n",
    "median_incomes = []\n",
    "zipcodes = []\n",
    "for zipcode_entry in list_of_zips: #zipcode_entry is a zipcode from the list \n",
    "    zipcode_census_info = search.by_zipcode(zipcode_entry)\n",
    "    census_data.append(zipcode_census_info) # Whole set of census data for all zips\n",
    "    #pp = pprint.PrettyPrinter(indent=4)\n",
    "    for item in census_data: #item is a single set of census data for a single zipcode\n",
    "        print(item)\n",
    "#         med_income = item.values()[-5]\n",
    "#         print(med_income)\n",
    "#         median_incomes.append(med_income) #median income for single output\n",
    "#         zipcodes.append(item.values()[0]) #zipcode for that single output\n",
    "        \n",
    "    #zip_with_income = list(zip(median_income,zipcode))\n",
    "#print(zipcode_entry)\n",
    "#print(list_of_zips)\n",
    "#print(census_data)\n",
    "print(len(zipcodes))\n",
    "print(len(median_incomes))\n",
    "print(census_data[0])"
   ]
  },
  {
   "cell_type": "code",
   "execution_count": 271,
   "metadata": {},
   "outputs": [],
   "source": [
    "test_zip = search.by_zipcode(10030)"
   ]
  },
  {
   "cell_type": "code",
   "execution_count": 348,
   "metadata": {},
   "outputs": [
    {
     "data": {
      "text/plain": [
       "SimpleZipcode(zipcode='10030', zipcode_type='Standard', major_city='New York', post_office_city='New York, NY', common_city_list=['New York'], county='New York County', state='NY', lat=40.818, lng=-73.943, timezone='Eastern', radius_in_miles=0.5681818181818182, area_code_list=['212', '646', '917'], population=26999, population_density=96790.0, land_area_in_sqmi=0.28, water_area_in_sqmi=0.0, housing_units=12976, occupied_housing_units=11395, median_home_value=509000, median_household_income=31925, bounds_west=-73.948677, bounds_east=-73.936232, bounds_north=40.824032, bounds_south=40.812791)"
      ]
     },
     "execution_count": 348,
     "metadata": {},
     "output_type": "execute_result"
    }
   ],
   "source": [
    "test_zip"
   ]
  },
  {
   "cell_type": "code",
   "execution_count": 276,
   "metadata": {},
   "outputs": [
    {
     "data": {
      "text/plain": [
       "[10001, 10010, 10003, 10038, 10036, 10028, 10027, 10013, 10023]"
      ]
     },
     "execution_count": 276,
     "metadata": {},
     "output_type": "execute_result"
    }
   ],
   "source": [
    "list_of_zips"
   ]
  },
  {
   "cell_type": "markdown",
   "metadata": {},
   "source": [
    "# Final function to get demographics"
   ]
  },
  {
   "cell_type": "code",
   "execution_count": 343,
   "metadata": {},
   "outputs": [],
   "source": [
    "def getIncomeByZip(listofzipcodes):\n",
    "    ''' Take in a list of zipcodes and return the median income for that zipcode'''\n",
    "    from uszipcode import SearchEngine # must have this installed to use search.by_zipcode()\n",
    "    search = SearchEngine(simple_zipcode=True) # set simple_zipcode=False to use rich info database\n",
    "    \n",
    "    #census_data = []\n",
    "    median_incomes = []\n",
    "    zipcodes = []\n",
    "    pop_density = []\n",
    "    for zipcode_entry in list_of_zips: #zipcode_entry is a zipcode from the list \n",
    "        zipcode_census_info = search.by_zipcode(zipcode_entry)\n",
    "        zipcodes.append(zipcode_census_info.zipcode)\n",
    "        median_incomes.append(zipcode_census_info.median_household_income)\n",
    "        pop_density.append(zipcode_census_info.population_density)\n",
    "        zipped = list(zip(zipcodes, median_incomes,pop_density))\n",
    "        zipped.sort(key = lambda zipped: zipped[1]) \n",
    "    #census_data.append(zipcode_census_info) # Whole set of census data for all zips\n",
    "    return (zipped)\n",
    "    \n"
   ]
  },
  {
   "cell_type": "code",
   "execution_count": 344,
   "metadata": {},
   "outputs": [],
   "source": [
    "y = getIncomeByZip(list_of_zips)"
   ]
  },
  {
   "cell_type": "code",
   "execution_count": 345,
   "metadata": {},
   "outputs": [
    {
     "data": {
      "text/plain": [
       "[('10027', 37872, 68513.0),\n",
       " ('10038', 66074, 68214.0),\n",
       " ('10036', 66599, 55745.0),\n",
       " ('10001', 81671, 33959.0),\n",
       " ('10013', 83725, 50154.0),\n",
       " ('10003', 92540, 97188.0),\n",
       " ('10010', 97955, 81487.0),\n",
       " ('10023', 103534, 124357.0),\n",
       " ('10028', 104638, 143683.0)]"
      ]
     },
     "execution_count": 345,
     "metadata": {},
     "output_type": "execute_result"
    }
   ],
   "source": [
    "y"
   ]
  },
  {
   "cell_type": "code",
   "execution_count": null,
   "metadata": {},
   "outputs": [],
   "source": [
    "# list_of_zips = [10001, 10010, 10003, 10038, 10036, 10028, 10027, 10013, 10023]\n",
    "# 34 ST-PENN STA-- delete\n",
    "# GRD CNTRL-42 ST-- delete\n",
    "# 34 ST-HERALD SQ = 10001\n",
    "# 23rd st zip = 10010\n",
    "# 14 ST-UNION SQ zip = 10003\n",
    "# TIMES SQ-42 ST--- delete\n",
    "# FULTON ST--- zip = 10038\n",
    "# 42 ST-PORT AUTH--- zip = 10036\n",
    "# 86 ST--- zip = 10028\n",
    "# 125 ST--- zip = 10027\n",
    "# CANAL ST--- zip = 10013\n",
    "# 59 ST COLUMBUS--- zip = 10023"
   ]
  },
  {
   "cell_type": "code",
   "execution_count": 338,
   "metadata": {},
   "outputs": [
    {
     "data": {
      "text/plain": [
       "[('10027', 37872, 68513.0),\n",
       " ('10038', 66074, 68214.0),\n",
       " ('10036', 66599, 55745.0),\n",
       " ('10001', 81671, 33959.0),\n",
       " ('10013', 83725, 50154.0),\n",
       " ('10003', 92540, 97188.0),\n",
       " ('10010', 97955, 81487.0),\n",
       " ('10023', 103534, 124357.0),\n",
       " ('10028', 104638, 143683.0)]"
      ]
     },
     "execution_count": 338,
     "metadata": {},
     "output_type": "execute_result"
    }
   ],
   "source": [
    "x"
   ]
  },
  {
   "cell_type": "code",
   "execution_count": null,
   "metadata": {},
   "outputs": [],
   "source": []
  }
 ],
 "metadata": {
  "kernelspec": {
   "display_name": "Python [conda env:metis] *",
   "language": "python",
   "name": "conda-env-metis-py"
  },
  "language_info": {
   "codemirror_mode": {
    "name": "ipython",
    "version": 3
   },
   "file_extension": ".py",
   "mimetype": "text/x-python",
   "name": "python",
   "nbconvert_exporter": "python",
   "pygments_lexer": "ipython3",
   "version": "3.7.4"
  }
 },
 "nbformat": 4,
 "nbformat_minor": 2
}
