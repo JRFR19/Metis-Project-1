{
 "cells": [
  {
   "cell_type": "code",
   "execution_count": 48,
   "metadata": {},
   "outputs": [],
   "source": [
    "import pandas as pd\n",
    "import numpy as np\n",
    "import os\n",
    "%matplotlib inline"
   ]
  },
  {
   "cell_type": "code",
   "execution_count": 49,
   "metadata": {},
   "outputs": [],
   "source": [
    "df = pd.read_csv('http://web.mta.info/developers/data/nyct/turnstile/turnstile_190921.txt')"
   ]
  },
  {
   "cell_type": "code",
   "execution_count": 51,
   "metadata": {},
   "outputs": [
    {
     "data": {
      "text/html": [
       "<div>\n",
       "<style scoped>\n",
       "    .dataframe tbody tr th:only-of-type {\n",
       "        vertical-align: middle;\n",
       "    }\n",
       "\n",
       "    .dataframe tbody tr th {\n",
       "        vertical-align: top;\n",
       "    }\n",
       "\n",
       "    .dataframe thead th {\n",
       "        text-align: right;\n",
       "    }\n",
       "</style>\n",
       "<table border=\"1\" class=\"dataframe\">\n",
       "  <thead>\n",
       "    <tr style=\"text-align: right;\">\n",
       "      <th></th>\n",
       "      <th>C/A</th>\n",
       "      <th>UNIT</th>\n",
       "      <th>SCP</th>\n",
       "      <th>STATION</th>\n",
       "      <th>LINENAME</th>\n",
       "      <th>DIVISION</th>\n",
       "      <th>DATE</th>\n",
       "      <th>TIME</th>\n",
       "      <th>DESC</th>\n",
       "      <th>ENTRIES</th>\n",
       "      <th>EXITS</th>\n",
       "    </tr>\n",
       "  </thead>\n",
       "  <tbody>\n",
       "    <tr>\n",
       "      <td>0</td>\n",
       "      <td>A002</td>\n",
       "      <td>R051</td>\n",
       "      <td>02-00-00</td>\n",
       "      <td>59 ST</td>\n",
       "      <td>NQR456W</td>\n",
       "      <td>BMT</td>\n",
       "      <td>09/14/2019</td>\n",
       "      <td>00:00:00</td>\n",
       "      <td>REGULAR</td>\n",
       "      <td>7198818</td>\n",
       "      <td>2438323</td>\n",
       "    </tr>\n",
       "    <tr>\n",
       "      <td>1</td>\n",
       "      <td>A002</td>\n",
       "      <td>R051</td>\n",
       "      <td>02-00-00</td>\n",
       "      <td>59 ST</td>\n",
       "      <td>NQR456W</td>\n",
       "      <td>BMT</td>\n",
       "      <td>09/14/2019</td>\n",
       "      <td>04:00:00</td>\n",
       "      <td>REGULAR</td>\n",
       "      <td>7198834</td>\n",
       "      <td>2438325</td>\n",
       "    </tr>\n",
       "    <tr>\n",
       "      <td>2</td>\n",
       "      <td>A002</td>\n",
       "      <td>R051</td>\n",
       "      <td>02-00-00</td>\n",
       "      <td>59 ST</td>\n",
       "      <td>NQR456W</td>\n",
       "      <td>BMT</td>\n",
       "      <td>09/14/2019</td>\n",
       "      <td>08:00:00</td>\n",
       "      <td>REGULAR</td>\n",
       "      <td>7198847</td>\n",
       "      <td>2438354</td>\n",
       "    </tr>\n",
       "    <tr>\n",
       "      <td>3</td>\n",
       "      <td>A002</td>\n",
       "      <td>R051</td>\n",
       "      <td>02-00-00</td>\n",
       "      <td>59 ST</td>\n",
       "      <td>NQR456W</td>\n",
       "      <td>BMT</td>\n",
       "      <td>09/14/2019</td>\n",
       "      <td>12:00:00</td>\n",
       "      <td>REGULAR</td>\n",
       "      <td>7198929</td>\n",
       "      <td>2438428</td>\n",
       "    </tr>\n",
       "    <tr>\n",
       "      <td>4</td>\n",
       "      <td>A002</td>\n",
       "      <td>R051</td>\n",
       "      <td>02-00-00</td>\n",
       "      <td>59 ST</td>\n",
       "      <td>NQR456W</td>\n",
       "      <td>BMT</td>\n",
       "      <td>09/14/2019</td>\n",
       "      <td>16:00:00</td>\n",
       "      <td>REGULAR</td>\n",
       "      <td>7199125</td>\n",
       "      <td>2438483</td>\n",
       "    </tr>\n",
       "  </tbody>\n",
       "</table>\n",
       "</div>"
      ],
      "text/plain": [
       "    C/A  UNIT       SCP STATION LINENAME DIVISION        DATE      TIME  \\\n",
       "0  A002  R051  02-00-00   59 ST  NQR456W      BMT  09/14/2019  00:00:00   \n",
       "1  A002  R051  02-00-00   59 ST  NQR456W      BMT  09/14/2019  04:00:00   \n",
       "2  A002  R051  02-00-00   59 ST  NQR456W      BMT  09/14/2019  08:00:00   \n",
       "3  A002  R051  02-00-00   59 ST  NQR456W      BMT  09/14/2019  12:00:00   \n",
       "4  A002  R051  02-00-00   59 ST  NQR456W      BMT  09/14/2019  16:00:00   \n",
       "\n",
       "      DESC  ENTRIES  \\\n",
       "0  REGULAR  7198818   \n",
       "1  REGULAR  7198834   \n",
       "2  REGULAR  7198847   \n",
       "3  REGULAR  7198929   \n",
       "4  REGULAR  7199125   \n",
       "\n",
       "   EXITS                                                                 \n",
       "0                                            2438323                     \n",
       "1                                            2438325                     \n",
       "2                                            2438354                     \n",
       "3                                            2438428                     \n",
       "4                                            2438483                     "
      ]
     },
     "execution_count": 51,
     "metadata": {},
     "output_type": "execute_result"
    }
   ],
   "source": [
    "df.head()"
   ]
  },
  {
   "cell_type": "code",
   "execution_count": 74,
   "metadata": {
    "scrolled": true
   },
   "outputs": [
    {
     "data": {
      "text/plain": [
       "Index(['C/A', 'UNIT', 'SCP', 'STATION', 'LINENAME', 'DIVISION', 'DATE', 'TIME',\n",
       "       'DESC', 'ENTRIES',\n",
       "       'EXITS                                                               '],\n",
       "      dtype='object')"
      ]
     },
     "execution_count": 74,
     "metadata": {},
     "output_type": "execute_result"
    }
   ],
   "source": [
    "df.columns\n",
    "# 'exits' has extra spaces at end, need to strip TITLE not values (ints not strs)"
   ]
  },
  {
   "cell_type": "code",
   "execution_count": 78,
   "metadata": {},
   "outputs": [],
   "source": [
    "# Rename exits without all the extra spaces\n",
    "df.rename(columns={'EXITS                                                               ':'EXITS'},inplace=True)"
   ]
  },
  {
   "cell_type": "code",
   "execution_count": 79,
   "metadata": {},
   "outputs": [
    {
     "data": {
      "text/plain": [
       "Index(['C/A', 'UNIT', 'SCP', 'STATION', 'LINENAME', 'DIVISION', 'DATE', 'TIME',\n",
       "       'DESC', 'ENTRIES', 'EXITS'],\n",
       "      dtype='object')"
      ]
     },
     "execution_count": 79,
     "metadata": {},
     "output_type": "execute_result"
    }
   ],
   "source": [
    "df.columns"
   ]
  },
  {
   "cell_type": "code",
   "execution_count": 80,
   "metadata": {},
   "outputs": [
    {
     "name": "stdout",
     "output_type": "stream",
     "text": [
      "<class 'pandas.core.frame.DataFrame'>\n",
      "RangeIndex: 204928 entries, 0 to 204927\n",
      "Data columns (total 11 columns):\n",
      "C/A         204928 non-null object\n",
      "UNIT        204928 non-null object\n",
      "SCP         204928 non-null object\n",
      "STATION     204928 non-null object\n",
      "LINENAME    204928 non-null object\n",
      "DIVISION    204928 non-null object\n",
      "DATE        204928 non-null object\n",
      "TIME        204928 non-null object\n",
      "DESC        204928 non-null object\n",
      "ENTRIES     204928 non-null int64\n",
      "EXITS       204928 non-null int64\n",
      "dtypes: int64(2), object(9)\n",
      "memory usage: 17.2+ MB\n"
     ]
    }
   ],
   "source": [
    "df.info()\n",
    "# Need to convert DATE to datetime later on\n",
    "# Here we see there are no nulls, need to examine our interest variables further"
   ]
  },
  {
   "cell_type": "code",
   "execution_count": 101,
   "metadata": {},
   "outputs": [],
   "source": [
    "# Convert DATE to datetime in pandas to late do datetime analyses\n",
    "df['DATE'] = pd.to_datetime(df['DATE'])"
   ]
  },
  {
   "cell_type": "code",
   "execution_count": 126,
   "metadata": {},
   "outputs": [
    {
     "data": {
      "text/plain": [
       "Index(['C/A', 'UNIT', 'SCP', 'STATION', 'LINENAME', 'DIVISION', 'DATE', 'TIME',\n",
       "       'DESC', 'ENTRIES', 'EXITS', 'day_of_week'],\n",
       "      dtype='object')"
      ]
     },
     "execution_count": 126,
     "metadata": {},
     "output_type": "execute_result"
    }
   ],
   "source": [
    "# Create day of week column to do daily analysis? Which days are worth working at stations?\n",
    "df['day_of_week'] = df['DATE'].dt.weekday_name\n",
    "df.columns"
   ]
  },
  {
   "cell_type": "code",
   "execution_count": 100,
   "metadata": {},
   "outputs": [
    {
     "data": {
      "text/plain": [
       "0        2019-09-14\n",
       "1        2019-09-14\n",
       "2        2019-09-14\n",
       "3        2019-09-14\n",
       "4        2019-09-14\n",
       "            ...    \n",
       "204923   2019-09-20\n",
       "204924   2019-09-20\n",
       "204925   2019-09-20\n",
       "204926   2019-09-20\n",
       "204927   2019-09-20\n",
       "Name: DATE, Length: 204928, dtype: datetime64[ns]"
      ]
     },
     "execution_count": 100,
     "metadata": {},
     "output_type": "execute_result"
    }
   ],
   "source": [
    "df['DATE']"
   ]
  },
  {
   "cell_type": "code",
   "execution_count": 190,
   "metadata": {},
   "outputs": [
    {
     "data": {
      "text/plain": [
       "count    2.049280e+05\n",
       "mean     4.210505e+07\n",
       "std      2.155757e+08\n",
       "min      0.000000e+00\n",
       "25%      2.898092e+05\n",
       "50%      2.040950e+06\n",
       "75%      6.618936e+06\n",
       "max      2.129093e+09\n",
       "Name: ENTRIES, dtype: float64"
      ]
     },
     "execution_count": 190,
     "metadata": {},
     "output_type": "execute_result"
    }
   ],
   "source": [
    "# Check Entries\n",
    "df['ENTRIES'].describe()\n",
    "# Max is pretty high.."
   ]
  },
  {
   "cell_type": "code",
   "execution_count": 152,
   "metadata": {},
   "outputs": [
    {
     "data": {
      "text/plain": [
       "2129093.303"
      ]
     },
     "execution_count": 152,
     "metadata": {},
     "output_type": "execute_result"
    }
   ],
   "source": [
    "df['ENTRIES'].max()/1000"
   ]
  },
  {
   "cell_type": "code",
   "execution_count": 191,
   "metadata": {},
   "outputs": [],
   "source": [
    "gb_station = df.groupby('STATION')"
   ]
  },
  {
   "cell_type": "code",
   "execution_count": 193,
   "metadata": {},
   "outputs": [
    {
     "data": {
      "text/plain": [
       "STATION\n",
       "1 AV                955648374\n",
       "103 ST               25635215\n",
       "103 ST-CORONA        15796577\n",
       "104 ST             2025854023\n",
       "110 ST               14169322\n",
       "                      ...    \n",
       "WOODLAWN              8428033\n",
       "WORLD TRADE CTR    1580049935\n",
       "WTC-CORTLANDT       730833374\n",
       "YORK ST              15999663\n",
       "ZEREGA AV              979162\n",
       "Name: ENTRIES, Length: 378, dtype: int64"
      ]
     },
     "execution_count": 193,
     "metadata": {},
     "output_type": "execute_result"
    }
   ],
   "source": [
    "gb_station['ENTRIES'].max()"
   ]
  },
  {
   "cell_type": "code",
   "execution_count": 120,
   "metadata": {},
   "outputs": [],
   "source": [
    "# Groupby unit to try to find which one is producing the outlier maxes\n",
    "gb_unit = df.groupby('UNIT')"
   ]
  },
  {
   "cell_type": "code",
   "execution_count": 189,
   "metadata": {},
   "outputs": [
    {
     "data": {
      "text/plain": [
       "UNIT\n",
       "R001    135332620\n",
       "R003      4772217\n",
       "R004      6012670\n",
       "R005      7994963\n",
       "R006     33554707\n",
       "          ...    \n",
       "R551       186747\n",
       "R552       265526\n",
       "R570    117442271\n",
       "R571     36570147\n",
       "R572      2490642\n",
       "Name: ENTRIES, Length: 468, dtype: int64"
      ]
     },
     "execution_count": 189,
     "metadata": {},
     "output_type": "execute_result"
    }
   ],
   "source": [
    "gb_unit['ENTRIES'].max() # How to see which one is giving the max.."
   ]
  },
  {
   "cell_type": "code",
   "execution_count": null,
   "metadata": {},
   "outputs": [],
   "source": []
  },
  {
   "cell_type": "code",
   "execution_count": 134,
   "metadata": {},
   "outputs": [
    {
     "data": {
      "text/plain": [
       "<matplotlib.axes._subplots.AxesSubplot at 0x13de30b50>"
      ]
     },
     "execution_count": 134,
     "metadata": {},
     "output_type": "execute_result"
    },
    {
     "data": {
      "image/png": "[encoded data removed]",
      "text/plain": [
       "<Figure size 432x288 with 1 Axes>"
      ]
     },
     "metadata": {
      "needs_background": "light"
     },
     "output_type": "display_data"
    }
   ],
   "source": [
    "gb_unit['ENTRIES'].max().plot(kind='line')"
   ]
  },
  {
   "cell_type": "code",
   "execution_count": 81,
   "metadata": {},
   "outputs": [
    {
     "data": {
      "text/plain": [
       "count    2.049280e+05\n",
       "mean     3.487423e+07\n",
       "std      1.995488e+08\n",
       "min      0.000000e+00\n",
       "25%      1.294348e+05\n",
       "50%      1.179450e+06\n",
       "75%      4.535505e+06\n",
       "max      2.123772e+09\n",
       "Name: EXITS, dtype: float64"
      ]
     },
     "execution_count": 81,
     "metadata": {},
     "output_type": "execute_result"
    }
   ],
   "source": [
    "# Check Exits\n",
    "df['EXITS'].describe()"
   ]
  },
  {
   "cell_type": "code",
   "execution_count": null,
   "metadata": {},
   "outputs": [],
   "source": []
  },
  {
   "cell_type": "code",
   "execution_count": 89,
   "metadata": {},
   "outputs": [
    {
     "data": {
      "text/plain": [
       "array(['A002', 'A006', 'A007', 'A010', 'A011', 'A013', 'A015', 'A016',\n",
       "       'A021', 'A022', 'A025', 'A027', 'A029', 'A030', 'A031', 'A033',\n",
       "       'A034', 'A035', 'A037', 'A038', 'A039', 'A041', 'A042', 'A043',\n",
       "       'A046', 'A047', 'A049', 'A050', 'A052', 'A053', 'A054', 'A055',\n",
       "       'A058', 'A060', 'A061', 'A064', 'A066', 'A069', 'A071', 'A077',\n",
       "       'A081', 'A082', 'A083', 'A084', 'A085', 'B004', 'B009', 'B010',\n",
       "       'B012', 'B013', 'B014', 'B015', 'B016', 'B017', 'B018', 'B019',\n",
       "       'B020', 'B021', 'B022', 'B023', 'B024', 'B024A', 'B025', 'B026',\n",
       "       'B027', 'B028', 'B029', 'B031', 'B032', 'B034', 'C001', 'C003',\n",
       "       'C004', 'C008', 'C009', 'C010', 'C011', 'C012', 'C014', 'C015',\n",
       "       'C016', 'C017', 'C018', 'C019', 'C020', 'C023', 'C024', 'C025',\n",
       "       'C026', 'C027', 'C028', 'D001', 'D002', 'D003', 'D004', 'D005',\n",
       "       'D006', 'D008', 'D009', 'D010', 'D011', 'D012', 'D015', 'D016',\n",
       "       'E001', 'E003', 'E004', 'E005', 'E009', 'E011', 'E012', 'E013',\n",
       "       'E014', 'E015', 'E016', 'G001', 'G009', 'G011', 'G015', 'H001',\n",
       "       'H003', 'H005', 'H006', 'H007', 'H008', 'H009', 'H012', 'H013',\n",
       "       'H014', 'H015', 'H016', 'H017', 'H019', 'H022', 'H023', 'H026',\n",
       "       'H027', 'H028', 'H030', 'H032', 'H033', 'H035', 'H037', 'H038',\n",
       "       'H039', 'H040', 'H041', 'JFK01', 'JFK02', 'JFK03', 'J001', 'J002',\n",
       "       'J003', 'J005', 'J007', 'J009', 'J012', 'J013', 'J016', 'J017',\n",
       "       'J020', 'J021', 'J022', 'J023', 'J024', 'J025', 'J028', 'J030',\n",
       "       'J031', 'J032', 'J034', 'J035', 'J037', 'K017', 'K019', 'K022',\n",
       "       'K024', 'K025', 'K026', 'N001', 'N002A', 'N003', 'N006A', 'N007A',\n",
       "       'N009', 'N010', 'N011', 'N012', 'N013', 'N016A', 'N017', 'N019',\n",
       "       'N020', 'N022', 'N023', 'N024', 'N025', 'N026', 'N029', 'N030',\n",
       "       'N034', 'N035', 'N037', 'N039', 'N040', 'N043', 'N044', 'N045',\n",
       "       'N046', 'N049', 'N051', 'N056', 'N057', 'N060', 'N062', 'N062A',\n",
       "       'N063', 'N063A', 'N067', 'N068', 'N069', 'N070', 'N071', 'N072',\n",
       "       'N073', 'N075', 'N076', 'N077', 'N078', 'N080', 'N083', 'N086',\n",
       "       'N087', 'N089', 'N090', 'N091', 'N092', 'N094', 'N095', 'N095A',\n",
       "       'N098', 'N100', 'N101', 'N102', 'N103', 'N108', 'N110', 'N111',\n",
       "       'N112A', 'N113', 'N114', 'N116', 'N117', 'N118', 'N119', 'N120',\n",
       "       'N120A', 'N121B', 'N122', 'N123B', 'N124', 'N125', 'N126', 'N127',\n",
       "       'N128', 'N129', 'N130', 'N131', 'N133', 'N134', 'N135', 'N137',\n",
       "       'N138', 'N139', 'N141', 'N181', 'N181A', 'N182', 'N183', 'N184',\n",
       "       'N185', 'N186', 'N187', 'N191', 'N192', 'N193', 'N194', 'N195',\n",
       "       'N196', 'N202', 'N203', 'N205', 'N206', 'N207', 'N208', 'N209',\n",
       "       'N210', 'N212', 'N213', 'N215', 'N217', 'N218', 'N220', 'N221',\n",
       "       'N222', 'N223', 'N224', 'N225', 'N300', 'N301', 'N303', 'N304',\n",
       "       'N305', 'N305A', 'N306', 'N307', 'N309A', 'N310', 'N311', 'N312',\n",
       "       'N314', 'N315', 'N316', 'N316A', 'N317', 'N318', 'N319', 'N322',\n",
       "       'N323', 'N324', 'N325A', 'N327', 'N329', 'N329A', 'N330', 'N330C',\n",
       "       'N331', 'N332', 'N333', 'N333A', 'N333B', 'N334B', 'N335', 'N336',\n",
       "       'N337', 'N338', 'N338B', 'N339', 'N339A', 'N340', 'N340A', 'N342',\n",
       "       'N343', 'N400A', 'N401', 'N405', 'N408A', 'N409', 'N412', 'N414',\n",
       "       'N414A', 'N415', 'N416', 'N417', 'N418', 'N419', 'N420B', 'N422',\n",
       "       'N500', 'N501', 'N501A', 'N502', 'N503', 'N504', 'N505', 'N506',\n",
       "       'N507', 'N508', 'N509', 'N510', 'N511', 'N512', 'N513', 'N519',\n",
       "       'N519A', 'N520', 'N521', 'N523', 'N525', 'N526', 'N528', 'N529',\n",
       "       'N530', 'N531', 'N532', 'N533', 'N534', 'N535', 'N536', 'N537',\n",
       "       'N539', 'N541', 'N542', 'N543', 'N544', 'N545', 'N546', 'N547',\n",
       "       'N548', 'N549', 'N550', 'N551', 'N553', 'N554', 'N555', 'N556',\n",
       "       'N557', 'N558', 'N559', 'N561', 'N562', 'N600', 'N601', 'N601A',\n",
       "       'N602', 'N603', 'N604', 'N605', 'N606', 'N607', 'N700', 'N700A',\n",
       "       'N701', 'N701A', 'N702', 'N702A', 'OB01', 'PTH01', 'PTH02',\n",
       "       'PTH03', 'PTH04', 'PTH05', 'PTH06', 'PTH07', 'PTH09', 'PTH10',\n",
       "       'PTH11', 'PTH12', 'PTH13', 'PTH16', 'PTH17', 'PTH18', 'PTH19',\n",
       "       'PTH20', 'PTH21', 'PTH22', 'R101', 'R102', 'R103', 'R106', 'R107',\n",
       "       'R107D', 'R108', 'R108A', 'R109', 'R110', 'R111', 'R112', 'R112A',\n",
       "       'R113', 'R114', 'R115', 'R116', 'R117', 'R118', 'R119', 'R120',\n",
       "       'R121', 'R122', 'R123', 'R124', 'R125', 'R126', 'R127', 'R128',\n",
       "       'R129', 'R130', 'R131', 'R132', 'R133', 'R134', 'R135', 'R137',\n",
       "       'R138', 'R139', 'R141', 'R142', 'R143', 'R145', 'R147', 'R148',\n",
       "       'R151', 'R154', 'R155', 'R158', 'R159', 'R160', 'R160A', 'R161A',\n",
       "       'R161B', 'R162', 'R163', 'R164', 'R165', 'R166', 'R168A', 'R169',\n",
       "       'R170', 'R171', 'R172', 'R173', 'R174', 'R175', 'R176', 'R177',\n",
       "       'R178', 'R179', 'R180', 'R183', 'R185', 'R186', 'R188', 'R190',\n",
       "       'R192', 'R194', 'R196', 'R197', 'R200A', 'R201', 'R202', 'R203',\n",
       "       'R203A', 'R204', 'R204A', 'R205A', 'R206', 'R208', 'R210', 'R210A',\n",
       "       'R215', 'R216', 'R217A', 'R219', 'R220', 'R221', 'R226', 'R226A',\n",
       "       'R227', 'R227A', 'R228', 'R229', 'R230', 'R231', 'R231A', 'R232',\n",
       "       'R232A', 'R236', 'R237', 'R237B', 'R238', 'R238A', 'R240', 'R241A',\n",
       "       'R242', 'R242A', 'R243', 'R244', 'R244A', 'R245', 'R245A', 'R246',\n",
       "       'R247', 'R248', 'R249', 'R250', 'R251', 'R252', 'R253', 'R254',\n",
       "       'R256', 'R257', 'R258', 'R259', 'R260', 'R261', 'R262', 'R262A',\n",
       "       'R262B', 'R283', 'R284', 'R285', 'R286', 'R287', 'R288', 'R289',\n",
       "       'R290', 'R291', 'R293', 'R294', 'R301', 'R302', 'R303', 'R304',\n",
       "       'R305', 'R306', 'R307', 'R308', 'R309', 'R310', 'R311', 'R312',\n",
       "       'R314', 'R315', 'R316', 'R317', 'R318', 'R319', 'R320', 'R321',\n",
       "       'R322', 'R323', 'R325', 'R326', 'R327', 'R328', 'R329', 'R330',\n",
       "       'R331', 'R332', 'R333', 'R334', 'R335', 'R336', 'R401', 'R402',\n",
       "       'R403', 'R404', 'R405', 'R406', 'R407', 'R408', 'R409', 'R410',\n",
       "       'R411', 'R412', 'R413', 'R414', 'R415', 'R416', 'R417', 'R418',\n",
       "       'R419', 'R420', 'R421', 'R422', 'R423', 'R501', 'R503', 'R504',\n",
       "       'R506', 'R507', 'R508', 'R509', 'R510', 'R511', 'R512', 'R513',\n",
       "       'R515', 'R516', 'R517', 'R518', 'R519', 'R520', 'R521', 'R523',\n",
       "       'R524', 'R525', 'R526', 'R527', 'R528', 'R529', 'R530', 'R532',\n",
       "       'R532H', 'R533', 'R534', 'R550', 'R551', 'R600', 'R601A', 'R602',\n",
       "       'R604', 'R605', 'R606', 'R608', 'R609', 'R610', 'R612', 'R617',\n",
       "       'R618', 'R619', 'R621', 'R622', 'R623', 'R624', 'R625', 'R626',\n",
       "       'R627', 'R628', 'R629', 'R630', 'R632', 'R633', 'R634', 'R635',\n",
       "       'R636', 'R637', 'R639', 'R641', 'R643', 'R644', 'R645', 'R646',\n",
       "       'R647', 'R726', 'R727', 'R728', 'R729', 'R730', 'S101', 'S101A',\n",
       "       'S102', 'TRAM1', 'TRAM2'], dtype=object)"
      ]
     },
     "execution_count": 89,
     "metadata": {},
     "output_type": "execute_result"
    }
   ],
   "source": [
    "df['C/A'].unique()"
   ]
  },
  {
   "cell_type": "code",
   "execution_count": 90,
   "metadata": {},
   "outputs": [
    {
     "data": {
      "text/plain": [
       "array(['R051', 'R079', 'R080', 'R081', 'R032', 'R022', 'R023', 'R082',\n",
       "       'R083', 'R170', 'R085', 'R086', 'R462', 'R463', 'R087', 'R088',\n",
       "       'R227', 'R001', 'R142', 'R311', 'R118', 'R044', 'R028', 'R125',\n",
       "       'R171', 'R411', 'R412', 'R196', 'R148', 'R098', 'R262', 'R184',\n",
       "       'R149', 'R263', 'R228', 'R229', 'R211', 'R150', 'R230', 'R136',\n",
       "       'R172', 'R264', 'R108', 'R089', 'R099', 'R057', 'R231', 'R258',\n",
       "       'R246', 'R278', 'R455', 'R197', 'R232', 'R233', 'R213', 'R214',\n",
       "       'R215', 'R216', 'R390', 'R391', 'R398', 'R392', 'R393', 'R394',\n",
       "       'R395', 'R396', 'R397', 'R368', 'R369', 'R234', 'R247', 'R370',\n",
       "       'R371', 'R372', 'R373', 'R374', 'R399', 'R400', 'R151', 'R312',\n",
       "       'R175', 'R163', 'R330', 'R248', 'R235', 'R268', 'R249', 'R250',\n",
       "       'R265', 'R294', 'R279', 'R236', 'R137', 'R266', 'R295', 'R313',\n",
       "       'R348', 'R349', 'R350', 'R375', 'R376', 'R152', 'R535', 'R536',\n",
       "       'R460', 'R352', 'R353', 'R377', 'R378', 'R379', 'R380', 'R381',\n",
       "       'R432', 'R433', 'R434', 'R435', 'R436', 'R437', 'R003', 'R004',\n",
       "       'R005', 'R006', 'R007', 'R008', 'R009', 'R401', 'R413', 'R402',\n",
       "       'R403', 'R404', 'R100', 'R173', 'R185', 'R280', 'R174', 'R126',\n",
       "       'R035', 'R296', 'R331', 'R101', 'R332', 'R102', 'R333', 'R334',\n",
       "       'R314', 'R251', 'R186', 'R187', 'R281', 'R084', 'R188', 'R010',\n",
       "       'R011', 'R012', 'R013', 'R111', 'R138', 'R282', 'R139', 'R029',\n",
       "       'R014', 'R252', 'R127', 'R217', 'R283', 'R284', 'R297', 'R198',\n",
       "       'R199', 'R153', 'R438', 'R439', 'R103', 'R440', 'R441', 'R442',\n",
       "       'R200', 'R382', 'R383', 'R384', 'R385', 'R354', 'R355', 'R356',\n",
       "       'R357', 'R464', 'R414', 'R415', 'R416', 'R417', 'R418', 'R419',\n",
       "       'R335', 'R336', 'R337', 'R338', 'R358', 'R285', 'R315', 'R195',\n",
       "       'R104', 'R443', 'R253', 'R154', 'R237', 'R112', 'R155', 'R156',\n",
       "       'R157', 'R113', 'R015', 'R017', 'R016', 'R359', 'R140', 'R339',\n",
       "       'R238', 'R267', 'R298', 'R340', 'R018', 'R218', 'R254', 'R201',\n",
       "       'R202', 'R219', 'R141', 'R341', 'R158', 'R255', 'R128', 'R114',\n",
       "       'R115', 'R019', 'R360', 'R239', 'R256', 'R299', 'R316', 'R286',\n",
       "       'R269', 'R287', 'R317', 'R318', 'R020', 'R021', 'R453', 'R203',\n",
       "       'R461', 'R240', 'R300', 'R257', 'R301', 'R129', 'R220', 'R270',\n",
       "       'R288', 'R241', 'R289', 'R204', 'R420', 'R242', 'R421', 'R422',\n",
       "       'R423', 'R424', 'R130', 'R425', 'R271', 'R426', 'R302', 'R319',\n",
       "       'R259', 'R303', 'R342', 'R024', 'R025', 'R570', 'R571', 'R572',\n",
       "       'R459', 'R549', 'R544', 'R552', 'R551', 'R543', 'R546', 'R550',\n",
       "       'R548', 'R547', 'R545', 'R542', 'R541', 'R540', 'R304', 'R305',\n",
       "       'R027', 'R030', 'R343', 'R320', 'R290', 'R189', 'R105', 'R321',\n",
       "       'R190', 'R272', 'R031', 'R293', 'R033', 'R116', 'R164', 'R452',\n",
       "       'R166', 'R167', 'R168', 'R191', 'R192', 'R159', 'R034', 'R169',\n",
       "       'R273', 'R193', 'R260', 'R274', 'R036', 'R037', 'R038', 'R039',\n",
       "       'R040', 'R306', 'R117', 'R041', 'R042', 'R043', 'R322', 'R194',\n",
       "       'R160', 'R131', 'R143', 'R176', 'R045', 'R046', 'R047', 'R048',\n",
       "       'R049', 'R050', 'R177', 'R178', 'R179', 'R144', 'R180', 'R181',\n",
       "       'R182', 'R132', 'R307', 'R205', 'R221', 'R243', 'R308', 'R309',\n",
       "       'R244', 'R275', 'R119', 'R161', 'R183', 'R133', 'R052', 'R323',\n",
       "       'R324', 'R206', 'R207', 'R344', 'R345', 'R053', 'R405', 'R406',\n",
       "       'R407', 'R408', 'R409', 'R386', 'R387', 'R388', 'R389', 'R361',\n",
       "       'R362', 'R363', 'R364', 'R365', 'R366', 'R367', 'R444', 'R145',\n",
       "       'R445', 'R446', 'R447', 'R448', 'R449', 'R450', 'R146', 'R325',\n",
       "       'R162', 'R120', 'R245', 'R222', 'R106', 'R326', 'R107', 'R427',\n",
       "       'R428', 'R429', 'R054', 'R276', 'R134', 'R346', 'R121', 'R090',\n",
       "       'R091', 'R092', 'R093', 'R095', 'R291', 'R261', 'R223', 'R327',\n",
       "       'R147', 'R347', 'R096', 'R122', 'R097', 'R208', 'R310', 'R328',\n",
       "       'R055', 'R072', 'R224', 'R456', 'R225', 'R056', 'R058', 'R059',\n",
       "       'R060', 'R123', 'R061', 'R124', 'R062', 'R063', 'R064', 'R065',\n",
       "       'R066', 'R067', 'R068', 'R069', 'R277', 'R209', 'R451', 'R109',\n",
       "       'R210', 'R135', 'R110', 'R329', 'R430', 'R226', 'R292', 'R431',\n",
       "       'R070', 'R165', 'R468', 'R469'], dtype=object)"
      ]
     },
     "execution_count": 90,
     "metadata": {},
     "output_type": "execute_result"
    }
   ],
   "source": [
    "df['UNIT'].unique() # why are there less 'unit' than 'c/a'"
   ]
  },
  {
   "cell_type": "code",
   "execution_count": 1,
   "metadata": {},
   "outputs": [
    {
     "ename": "NameError",
     "evalue": "name 'df' is not defined",
     "output_type": "error",
     "traceback": [
      "\u001b[0;31m---------------------------------------------------------------------------\u001b[0m",
      "\u001b[0;31mNameError\u001b[0m                                 Traceback (most recent call last)",
      "\u001b[0;32m<ipython-input-1-117354150e51>\u001b[0m in \u001b[0;36m<module>\u001b[0;34m\u001b[0m\n\u001b[0;32m----> 1\u001b[0;31m \u001b[0mdf\u001b[0m\u001b[0;34m.\u001b[0m\u001b[0mgroupby\u001b[0m\u001b[0;34m(\u001b[0m\u001b[0;34m[\u001b[0m\u001b[0;34m'UNIT'\u001b[0m\u001b[0;34m,\u001b[0m\u001b[0;34m'STATION'\u001b[0m\u001b[0;34m,\u001b[0m  \u001b[0;34m'SCP'\u001b[0m\u001b[0;34m]\u001b[0m\u001b[0;34m)\u001b[0m\u001b[0;34m\u001b[0m\u001b[0;34m\u001b[0m\u001b[0m\n\u001b[0m",
      "\u001b[0;31mNameError\u001b[0m: name 'df' is not defined"
     ]
    }
   ],
   "source": [
    "df.groupby(['UNIT','STATION',  'SCP'])"
   ]
  },
  {
   "cell_type": "code",
   "execution_count": null,
   "metadata": {},
   "outputs": [],
   "source": [
    "gp_"
   ]
  }
 ],
 "metadata": {
  "kernelspec": {
   "display_name": "Python [conda env:metis] *",
   "language": "python",
   "name": "conda-env-metis-py"
  },
  "language_info": {
   "codemirror_mode": {
    "name": "ipython",
    "version": 3
   },
   "file_extension": ".py",
   "mimetype": "text/x-python",
   "name": "python",
   "nbconvert_exporter": "python",
   "pygments_lexer": "ipython3",
   "version": "3.7.4"
  }
 },
 "nbformat": 4,
 "nbformat_minor": 2
}
